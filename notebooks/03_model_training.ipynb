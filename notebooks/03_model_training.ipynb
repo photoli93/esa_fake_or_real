{
 "cells": [
  {
   "cell_type": "markdown",
   "id": "13512718",
   "metadata": {},
   "source": [
    "# ESA Project: Fake or Real: The Impostor Hunt in Texts\n",
    "\n",
    "This notebook is dedicated to **model training**.  \n",
    "It covers:\n",
    "\n",
    "- Load the pre-tokenized and saved PyTorch datasets (`tokenized_train.pt` and `tokenized_val.pt`) created in the data creation step.\n",
    "- Instantiate the pre-trained **DistilBertForSequenceClassification** model, configured for a binary classification task (Real or fake).\n",
    "- Define the **TrainingArguments** for the Hugging Face Trainer, including hyperparameters such as batch size, learning rate, number of epochs, and logging settings.\n",
    "- Implemente a function to compute and track key performance metrics on the validation set including **Accuracy, Precision, Recall and F1-score**.\n",
    "- Executing the training loop using the Hugging Face **Trainer** class which manages the entire process including checkpointing and model saving.\n",
    "- Save the best-performing model and its tokenizer to disk for later use in inference and deployment."
   ]
  },
  {
   "cell_type": "markdown",
   "id": "6c9bd6ac",
   "metadata": {},
   "source": [
    "# Import librairies"
   ]
  },
  {
   "cell_type": "code",
   "execution_count": 1,
   "id": "baa06c56",
   "metadata": {},
   "outputs": [
    {
     "name": "stderr",
     "output_type": "stream",
     "text": [
      "[nltk_data] Downloading package stopwords to\n",
      "[nltk_data]     /Users/photoli93/nltk_data...\n",
      "[nltk_data]   Package stopwords is already up-to-date!\n"
     ]
    }
   ],
   "source": [
    "import pandas as pd\n",
    "import numpy as np\n",
    "from pathlib import Path\n",
    "import matplotlib.pyplot as plt\n",
    "import seaborn as sns\n",
    "import re\n",
    "\n",
    "import torch\n",
    "from torch.nn import CrossEntropyLoss\n",
    "from transformers import (\n",
    "    DistilBertForSequenceClassification, \n",
    "    Trainer, \n",
    "    TrainingArguments, \n",
    "    AutoTokenizer,\n",
    "    TrainerCallback, \n",
    "    TrainerState, \n",
    "    TrainerControl,\n",
    "    EarlyStoppingCallback\n",
    ")\n",
    "from transformers import AutoConfig, AutoModelForSequenceClassification\n",
    "\n",
    "from sklearn.model_selection import GroupKFold\n",
    "from sklearn.metrics import (\n",
    "    accuracy_score, \n",
    "    precision_recall_fscore_support, \n",
    "    confusion_matrix\n",
    ")\n",
    "\n",
    "import os\n",
    "import sys\n",
    "\n",
    "# Add the src folder to Python path\n",
    "sys.path.append(os.path.abspath(os.path.join('..', 'src')))\n",
    "import config\n",
    "from preprocessing import TextPreprocessor, get_text_statistics\n",
    "\n",
    "import warnings\n",
    "warnings.filterwarnings(\"ignore\")\n",
    "\n",
    "sns.set_theme()"
   ]
  },
  {
   "cell_type": "markdown",
   "id": "a7efcd26",
   "metadata": {},
   "source": [
    "# Create Custom Dataset Class"
   ]
  },
  {
   "cell_type": "code",
   "execution_count": 2,
   "id": "dd7a463e",
   "metadata": {},
   "outputs": [],
   "source": [
    "class TextPairDataset(torch.utils.data.Dataset):\n",
    "    def __init__(self, encodings, labels):\n",
    "        self.encodings = encodings\n",
    "        self.labels = labels\n",
    "\n",
    "    def __getitem__(self, idx):\n",
    "        item = {key: torch.tensor(val[idx]) for key, val in self.encodings.items()}\n",
    "        item['labels'] = torch.tensor(self.labels[idx], dtype=torch.long)\n",
    "        return item\n",
    "\n",
    "    def __len__(self):\n",
    "        return len(self.labels)"
   ]
  },
  {
   "cell_type": "markdown",
   "id": "39bc9056",
   "metadata": {},
   "source": [
    "# Load tokenized datasets"
   ]
  },
  {
   "cell_type": "code",
   "execution_count": 3,
   "id": "9e8229e1",
   "metadata": {},
   "outputs": [
    {
     "name": "stdout",
     "output_type": "stream",
     "text": [
      "Loading tokenized training data from: /Users/photoli93/Desktop/Projets perso Python/esa_fake_or_real/data/processed/tokenized_train.pt\n",
      "Training dataset size: 212\n",
      "Validation dataset size: 41\n"
     ]
    }
   ],
   "source": [
    "TOKENIZED_TRAIN_PATH = config.PROCESSED_DATA_DIR / \"tokenized_train.pt\"\n",
    "TOKENIZED_VAL_PATH = config.PROCESSED_DATA_DIR / \"tokenized_val.pt\"\n",
    "\n",
    "OUTPUT_DIR = config.OUTPUT_DIR / \"distilbert_fake_or_real\"\n",
    "OUTPUT_DIR.mkdir(parents=True, exist_ok=True)\n",
    "\n",
    "# Load tokenized datasets\n",
    "print(f\"Loading tokenized training data from: {TOKENIZED_TRAIN_PATH}\")\n",
    "try:\n",
    "    train_dataset = torch.load(TOKENIZED_TRAIN_PATH, weights_only=False)\n",
    "    val_dataset = torch.load(TOKENIZED_VAL_PATH, weights_only=False)\n",
    "except FileNotFoundError:\n",
    "    print(\"Error: Tokenized data not found. Please ensure 03_dataset_creation.py (or your data creation notebook) was run successfully\")\n",
    "    sys.exit(1)\n",
    "\n",
    "print(f\"Training dataset size: {len(train_dataset)}\")\n",
    "print(f\"Validation dataset size: {len(val_dataset)}\")"
   ]
  },
  {
   "cell_type": "markdown",
   "id": "ccb8614a",
   "metadata": {},
   "source": [
    "# Load model and tokenizer"
   ]
  },
  {
   "cell_type": "code",
   "execution_count": 4,
   "id": "af0973e1",
   "metadata": {},
   "outputs": [
    {
     "name": "stdout",
     "output_type": "stream",
     "text": [
      "Loading model: distilbert-base-uncased for Sequence Classification\n"
     ]
    },
    {
     "name": "stderr",
     "output_type": "stream",
     "text": [
      "Some weights of DistilBertForSequenceClassification were not initialized from the model checkpoint at distilbert-base-uncased and are newly initialized: ['classifier.bias', 'classifier.weight', 'pre_classifier.bias', 'pre_classifier.weight']\n",
      "You should probably TRAIN this model on a down-stream task to be able to use it for predictions and inference.\n"
     ]
    }
   ],
   "source": [
    "# Load the model for sequence classification with 2 labels (Real/Fake)\n",
    "print(f\"Loading model: {config.TOKENIZER_NAME} for Sequence Classification\")\n",
    "model = DistilBertForSequenceClassification.from_pretrained(\n",
    "    config.TOKENIZER_NAME, \n",
    "    num_labels=2\n",
    ")\n",
    "\n",
    "# Might need the tokenizer later for prediction/evaluation\n",
    "tokenizer = AutoTokenizer.from_pretrained(config.TOKENIZER_NAME)"
   ]
  },
  {
   "cell_type": "markdown",
   "id": "334fbd66",
   "metadata": {},
   "source": [
    "# Define parameters and metrics"
   ]
  },
  {
   "cell_type": "code",
   "execution_count": 5,
   "id": "44483856",
   "metadata": {},
   "outputs": [
    {
     "name": "stdout",
     "output_type": "stream",
     "text": [
      "Using device: mps\n"
     ]
    }
   ],
   "source": [
    "# Detect device\n",
    "device = \"cuda\" if torch.cuda.is_available() else \"mps\" if torch.backends.mps.is_available() else \"cpu\"\n",
    "print(f\"Using device: {device}\")\n",
    "\n",
    "# Training configuration\n",
    "training_args = TrainingArguments(\n",
    "    output_dir=str(OUTPUT_DIR),          \n",
    "    num_train_epochs=20,                 # 20 epochs but with early stopping to avoid overfitting\n",
    "    per_device_train_batch_size=16,      \n",
    "    per_device_eval_batch_size=64,       \n",
    "    warmup_steps=500,                    # Nb of steps during which the learning rate increases learning\n",
    "    weight_decay=0.01,                   # Regularization term to reduce overfitting by penalizing large weights\n",
    "    logging_dir='./logs',                \n",
    "    logging_steps=50,                    # Log metrics every 50 training steps\n",
    "    evaluation_strategy=\"epoch\",         # Evaluate at the end of each epoch\n",
    "    save_strategy=\"epoch\",               # Save model checkpoint at the end of each epoch\n",
    "    save_total_limit=2,                  # Keep only 2 best checkpoints\n",
    "    load_best_model_at_end=True,         # Load the best model found during training\n",
    "    metric_for_best_model=\"eval_f1\",     # Metric to monitor for best model\n",
    "    greater_is_better=True,              # Looking to maximize the f1 metric\n",
    "    fp16=False,                          # Disable for Mac, Transformers will automatically use MPS\n",
    "    report_to=\"none\"                     # Disables wandb, tensorboard, etc. (disabling sending logs online)\n",
    ")\n",
    "\n",
    "# Define Evaluation Metric\n",
    "try:\n",
    "    from sklearn.metrics import accuracy_score, precision_recall_fscore_support\n",
    "    \n",
    "    # p is an object passed by the Hugging Face Trainer. It contains \"predictions\" and \"label_ids\"\n",
    "    def compute_metrics(p):\n",
    "        preds = np.argmax(p.predictions, axis=1)\n",
    "        precision, recall, f1, _ = precision_recall_fscore_support(p.label_ids, preds, average='binary')\n",
    "        acc = accuracy_score(p.label_ids, preds)\n",
    "        return {\n",
    "            'accuracy': acc,\n",
    "            'f1': f1,\n",
    "            'precision': precision,\n",
    "            'recall': recall\n",
    "        }\n",
    "except ImportError:\n",
    "    print(\"Warning: scikit-learn not found. Install with 'pip install scikit-learn' to use advanced metrics\")\n",
    "    def compute_metrics(p):\n",
    "        return {}"
   ]
  },
  {
   "cell_type": "markdown",
   "id": "28240220",
   "metadata": {},
   "source": [
    "# Custom Loss function\n",
    "\n",
    "By exploding chunks, it has added unbalance in train dataset (138 for class 0 and 74 for class 1) so custom loss function has to be defined in order to add weights on classes"
   ]
  },
  {
   "cell_type": "code",
   "execution_count": 6,
   "id": "8fb74d1f",
   "metadata": {},
   "outputs": [
    {
     "name": "stdout",
     "output_type": "stream",
     "text": [
      "label\n",
      "0    138\n",
      "1     74\n",
      "Name: count, dtype: int64\n",
      "tensor([0.3491, 0.6509])\n"
     ]
    }
   ],
   "source": [
    "train_df = pd.read_csv(config.PROCESSED_DATA_DIR / \"train_exploded.csv\")\n",
    "\n",
    "# Count of each class\n",
    "counts = train_df['label'].value_counts().sort_index()\n",
    "print(counts)\n",
    "\n",
    "# Dynamic class weights (inverse frequency)\n",
    "weights = 1.0 / counts\n",
    "weights = weights / weights.sum()  # Normalize\n",
    "weights = torch.tensor(weights.values, dtype=torch.float)\n",
    "print(weights)\n",
    "\n",
    "# Override the default loss\n",
    "def compute_loss(model, inputs, return_outputs=False):\n",
    "    labels = inputs.pop(\"labels\")\n",
    "    outputs = model(**inputs)\n",
    "    logits = outputs.logits\n",
    "    loss_fct = CrossEntropyLoss(weight=weights.to(logits.device))\n",
    "    loss = loss_fct(logits, labels)\n",
    "    return (loss, outputs) if return_outputs else loss"
   ]
  },
  {
   "cell_type": "markdown",
   "id": "7606c28b",
   "metadata": {},
   "source": [
    "# Custom subclass Trainer\n",
    "\n",
    "Since in Hugging Face Transformers, the **Trainer** class does not have a `compute_loss` argument in its constructor, I created a subclass called **WeightedTrainer** to use the custom `compute_loss` method."
   ]
  },
  {
   "cell_type": "code",
   "execution_count": 7,
   "id": "b2575ed1",
   "metadata": {},
   "outputs": [],
   "source": [
    "class WeightedTrainer(Trainer):\n",
    "    def compute_loss(self, model, inputs, return_outputs=False):\n",
    "        labels = inputs.pop(\"labels\")\n",
    "        outputs = model(**inputs)\n",
    "        logits = outputs.logits\n",
    "        \n",
    "        # Define class weights\n",
    "        weights = torch.tensor([1.0, 138/74]).to(logits.device)\n",
    "        loss_fct = CrossEntropyLoss(weight=weights)\n",
    "        \n",
    "        loss = loss_fct(logits, labels)\n",
    "        return (loss, outputs) if return_outputs else loss"
   ]
  },
  {
   "cell_type": "markdown",
   "id": "f4adffff",
   "metadata": {},
   "source": [
    "# Custom Confusion matrix callback"
   ]
  },
  {
   "cell_type": "code",
   "execution_count": 8,
   "id": "889f7544",
   "metadata": {},
   "outputs": [],
   "source": [
    "class ConfusionMatrixCallback(TrainerCallback):\n",
    "    def __init__(self):\n",
    "        self.trainer = None\n",
    "        self.best_epoch = 0\n",
    "        self.best_f1 = -float('inf')\n",
    "    \n",
    "    def on_evaluate(self, args, state, control, metrics=None, **kwargs):\n",
    "        \"\"\"Called after evaluation\"\"\"\n",
    "        if not hasattr(self, 'trainer') or self.trainer is None:\n",
    "            print(\"Trainer not set in ConfusionMatrixCallback\")\n",
    "            return\n",
    "        \n",
    "        try:\n",
    "            # Get predictions\n",
    "            preds_output = self.trainer.predict(self.trainer.eval_dataset)\n",
    "            preds = np.argmax(preds_output.predictions, axis=1)\n",
    "            labels = preds_output.label_ids\n",
    "            \n",
    "            # Compute confusion matrix\n",
    "            cm = confusion_matrix(labels, preds)\n",
    "            \n",
    "            # Get current metrics\n",
    "            current_epoch = int(state.epoch) if state.epoch else 0\n",
    "            current_f1 = metrics.get('eval_f1', 0) if metrics else 0\n",
    "            \n",
    "            # Track best\n",
    "            is_best = False\n",
    "            if current_f1 > self.best_f1:\n",
    "                self.best_f1 = current_f1\n",
    "                self.best_epoch = current_epoch\n",
    "                is_best = True\n",
    "            \n",
    "            # Print header\n",
    "            print(f\"\\n{'='*80}\")\n",
    "            if is_best:\n",
    "                print(f\"[Epoch {current_epoch}] Confusion Matrix (New best)\")\n",
    "            else:\n",
    "                print(f\"[Epoch {current_epoch}] Confusion Matrix\")\n",
    "            print(f\"{'='*80}\")\n",
    "            \n",
    "            # Print confusion matrix with labels\n",
    "            print(\"Confusion Matrix:\")\n",
    "            print(\"              Predicted\")\n",
    "            print(\"           Real    Fake\")\n",
    "            print(f\"Real   [[{cm[0][0]:4d}    {cm[0][1]:4d}]]\")\n",
    "            print(f\"Fake   [[{cm[1][0]:4d}    {cm[1][1]:4d}]]\")\n",
    "            \n",
    "            # Calculate per-class metrics\n",
    "            tn, fp, fn, tp = cm.ravel()\n",
    "            \n",
    "            # Class metrics\n",
    "            real_precision = tn / (tn + fn) if (tn + fn) > 0 else 0\n",
    "            real_recall = tn / (tn + fp) if (tn + fp) > 0 else 0\n",
    "            fake_precision = tp / (tp + fp) if (tp + fp) > 0 else 0\n",
    "            fake_recall = tp / (tp + fn) if (tp + fn) > 0 else 0\n",
    "            \n",
    "            print(f\"\\nPer-Class Metrics:\")\n",
    "            print(f\"  Real: Precision={real_precision:.3f}, Recall={real_recall:.3f}\")\n",
    "            print(f\"  Fake: Precision={fake_precision:.3f}, Recall={fake_recall:.3f}\")\n",
    "            \n",
    "            # Overall metrics\n",
    "            if metrics:\n",
    "                print(f\"\\nOverall Metrics:\")\n",
    "                print(f\"  Accuracy:  {metrics.get('eval_accuracy', 0):.4f}\")\n",
    "                print(f\"  F1:        {metrics.get('eval_f1', 0):.4f}\")\n",
    "                print(f\"  Precision: {metrics.get('eval_precision', 0):.4f}\")\n",
    "                print(f\"  Recall:    {metrics.get('eval_recall', 0):.4f}\")\n",
    "                print(f\"  Loss:      {metrics.get('eval_loss', 0):.4f}\")\n",
    "            \n",
    "            print(f\"\\nBest so far: Epoch {self.best_epoch}, F1={self.best_f1:.4f}\")\n",
    "            print(f\"{'='*80}\\n\")\n",
    "            \n",
    "        except Exception as e:\n",
    "            print(f\"Error in ConfusionMatrixCallback: {e}\")\n",
    "    \n",
    "    def on_train_end(self, args, state, control, **kwargs):\n",
    "        \"\"\"Verify best model was loaded\"\"\"\n",
    "        print(f\"\\n{'='*80}\")\n",
    "        print(f\"TRAINING COMPLETE\")\n",
    "        print(f\"{'='*80}\")\n",
    "        print(f\"Best Epoch: {self.best_epoch}\")\n",
    "        print(f\"Best F1: {self.best_f1:.4f}\")\n",
    "        \n",
    "        if state.best_model_checkpoint:\n",
    "            print(f\"Best checkpoint: {state.best_model_checkpoint}\")\n",
    "            from pathlib import Path\n",
    "            if Path(state.best_model_checkpoint).exists():\n",
    "                print(f\"Checkpoint verified on disk\")\n",
    "            else:\n",
    "                print(f\"Checkpoint NOT found\")\n",
    "        else:\n",
    "            print(f\"No best checkpoint saved\")\n",
    "        \n",
    "        # Final verification\n",
    "        if hasattr(self, 'trainer') and self.trainer is not None:\n",
    "            print(f\"\\nVerifying loaded model\")\n",
    "            try:\n",
    "                preds_output = self.trainer.predict(self.trainer.eval_dataset)\n",
    "                preds = np.argmax(preds_output.predictions, axis=1)\n",
    "                labels = preds_output.label_ids\n",
    "                \n",
    "                from sklearn.metrics import f1_score\n",
    "                final_f1 = f1_score(labels, preds, average='binary')\n",
    "                \n",
    "                print(f\"Final Model F1: {final_f1:.4f}\")\n",
    "                print(f\"Expected Best F1: {self.best_f1:.4f}\")\n",
    "                \n",
    "                if abs(final_f1 - self.best_f1) < 0.001:\n",
    "                    print(f\"Correct: Best model was loaded\")\n",
    "                else:\n",
    "                    print(f\"Error: Wrong model! Expected {self.best_f1:.4f}, got {final_f1:.4f}\")\n",
    "            except Exception as e:\n",
    "                print(f\"Could not verify: {e}\")\n",
    "        \n",
    "        print(f\"{'='*80}\\n\")\n",
    "    \n",
    "    def set_trainer(self, trainer):\n",
    "        self.trainer = trainer"
   ]
  },
  {
   "cell_type": "markdown",
   "id": "bddf8e25",
   "metadata": {},
   "source": [
    "# Training process"
   ]
  },
  {
   "cell_type": "code",
   "execution_count": 9,
   "id": "098cc96c",
   "metadata": {},
   "outputs": [
    {
     "name": "stdout",
     "output_type": "stream",
     "text": [
      "Creating 'original_index' for GroupKFold...\n",
      "--------------------------------------------------------------------------------\n",
      "\n",
      "Fold 1/4\n",
      "--------------------------------------------------------------------------------\n"
     ]
    },
    {
     "name": "stderr",
     "output_type": "stream",
     "text": [
      "Some weights of DistilBertForSequenceClassification were not initialized from the model checkpoint at distilbert-base-uncased and are newly initialized: ['classifier.bias', 'classifier.weight', 'pre_classifier.bias', 'pre_classifier.weight']\n",
      "You should probably TRAIN this model on a down-stream task to be able to use it for predictions and inference.\n"
     ]
    },
    {
     "data": {
      "application/vnd.jupyter.widget-view+json": {
       "model_id": "044318d88fbb451dbe45a9abc60879e6",
       "version_major": 2,
       "version_minor": 0
      },
      "text/plain": [
       "  0%|          | 0/200 [00:00<?, ?it/s]"
      ]
     },
     "metadata": {},
     "output_type": "display_data"
    },
    {
     "data": {
      "application/vnd.jupyter.widget-view+json": {
       "model_id": "ee365a060e3449399fadc573725c21a7",
       "version_major": 2,
       "version_minor": 0
      },
      "text/plain": [
       "  0%|          | 0/1 [00:00<?, ?it/s]"
      ]
     },
     "metadata": {},
     "output_type": "display_data"
    },
    {
     "name": "stdout",
     "output_type": "stream",
     "text": [
      "{'eval_loss': 0.7022829055786133, 'eval_accuracy': 0.33962264150943394, 'eval_f1': 0.5070422535211268, 'eval_precision': 0.33962264150943394, 'eval_recall': 1.0, 'eval_runtime': 2.3538, 'eval_samples_per_second': 22.517, 'eval_steps_per_second': 0.425, 'epoch': 1.0}\n",
      "\n",
      "================================================================================\n",
      "[Epoch 1] Confusion Matrix (New best)\n",
      "================================================================================\n",
      "Confusion Matrix:\n",
      "              Predicted\n",
      "           Real    Fake\n",
      "Real   [[   0      35]]\n",
      "Fake   [[   0      18]]\n",
      "\n",
      "Per-Class Metrics:\n",
      "  Real: Precision=0.000, Recall=0.000\n",
      "  Fake: Precision=0.340, Recall=1.000\n",
      "\n",
      "Overall Metrics:\n",
      "  Accuracy:  0.3396\n",
      "  F1:        0.5070\n",
      "  Precision: 0.3396\n",
      "  Recall:    1.0000\n",
      "  Loss:      0.7023\n",
      "\n",
      "Best so far: Epoch 1, F1=0.5070\n",
      "================================================================================\n",
      "\n"
     ]
    },
    {
     "data": {
      "application/vnd.jupyter.widget-view+json": {
       "model_id": "6ce998578da44669be341c2ecc3aca5e",
       "version_major": 2,
       "version_minor": 0
      },
      "text/plain": [
       "  0%|          | 0/1 [00:00<?, ?it/s]"
      ]
     },
     "metadata": {},
     "output_type": "display_data"
    },
    {
     "name": "stdout",
     "output_type": "stream",
     "text": [
      "{'eval_loss': 0.6861300468444824, 'eval_accuracy': 0.33962264150943394, 'eval_f1': 0.5070422535211268, 'eval_precision': 0.33962264150943394, 'eval_recall': 1.0, 'eval_runtime': 2.3964, 'eval_samples_per_second': 22.116, 'eval_steps_per_second': 0.417, 'epoch': 2.0}\n",
      "\n",
      "================================================================================\n",
      "[Epoch 2] Confusion Matrix\n",
      "================================================================================\n",
      "Confusion Matrix:\n",
      "              Predicted\n",
      "           Real    Fake\n",
      "Real   [[   0      35]]\n",
      "Fake   [[   0      18]]\n",
      "\n",
      "Per-Class Metrics:\n",
      "  Real: Precision=0.000, Recall=0.000\n",
      "  Fake: Precision=0.340, Recall=1.000\n",
      "\n",
      "Overall Metrics:\n",
      "  Accuracy:  0.3396\n",
      "  F1:        0.5070\n",
      "  Precision: 0.3396\n",
      "  Recall:    1.0000\n",
      "  Loss:      0.6861\n",
      "\n",
      "Best so far: Epoch 1, F1=0.5070\n",
      "================================================================================\n",
      "\n"
     ]
    },
    {
     "data": {
      "application/vnd.jupyter.widget-view+json": {
       "model_id": "0c36602b16364492842789def59c6431",
       "version_major": 2,
       "version_minor": 0
      },
      "text/plain": [
       "  0%|          | 0/1 [00:00<?, ?it/s]"
      ]
     },
     "metadata": {},
     "output_type": "display_data"
    },
    {
     "name": "stdout",
     "output_type": "stream",
     "text": [
      "{'eval_loss': 0.6608251929283142, 'eval_accuracy': 0.4716981132075472, 'eval_f1': 0.5625, 'eval_precision': 0.391304347826087, 'eval_recall': 1.0, 'eval_runtime': 2.4121, 'eval_samples_per_second': 21.973, 'eval_steps_per_second': 0.415, 'epoch': 3.0}\n",
      "\n",
      "================================================================================\n",
      "[Epoch 3] Confusion Matrix (New best)\n",
      "================================================================================\n",
      "Confusion Matrix:\n",
      "              Predicted\n",
      "           Real    Fake\n",
      "Real   [[   7      28]]\n",
      "Fake   [[   0      18]]\n",
      "\n",
      "Per-Class Metrics:\n",
      "  Real: Precision=1.000, Recall=0.200\n",
      "  Fake: Precision=0.391, Recall=1.000\n",
      "\n",
      "Overall Metrics:\n",
      "  Accuracy:  0.4717\n",
      "  F1:        0.5625\n",
      "  Precision: 0.3913\n",
      "  Recall:    1.0000\n",
      "  Loss:      0.6608\n",
      "\n",
      "Best so far: Epoch 3, F1=0.5625\n",
      "================================================================================\n",
      "\n"
     ]
    },
    {
     "data": {
      "application/vnd.jupyter.widget-view+json": {
       "model_id": "6b53fcb3a6e9464abb4a897bddb6d001",
       "version_major": 2,
       "version_minor": 0
      },
      "text/plain": [
       "  0%|          | 0/1 [00:00<?, ?it/s]"
      ]
     },
     "metadata": {},
     "output_type": "display_data"
    },
    {
     "name": "stdout",
     "output_type": "stream",
     "text": [
      "{'eval_loss': 0.6246447563171387, 'eval_accuracy': 0.6981132075471698, 'eval_f1': 0.6923076923076923, 'eval_precision': 0.5294117647058824, 'eval_recall': 1.0, 'eval_runtime': 2.4305, 'eval_samples_per_second': 21.806, 'eval_steps_per_second': 0.411, 'epoch': 4.0}\n",
      "\n",
      "================================================================================\n",
      "[Epoch 4] Confusion Matrix (New best)\n",
      "================================================================================\n",
      "Confusion Matrix:\n",
      "              Predicted\n",
      "           Real    Fake\n",
      "Real   [[  19      16]]\n",
      "Fake   [[   0      18]]\n",
      "\n",
      "Per-Class Metrics:\n",
      "  Real: Precision=1.000, Recall=0.543\n",
      "  Fake: Precision=0.529, Recall=1.000\n",
      "\n",
      "Overall Metrics:\n",
      "  Accuracy:  0.6981\n",
      "  F1:        0.6923\n",
      "  Precision: 0.5294\n",
      "  Recall:    1.0000\n",
      "  Loss:      0.6246\n",
      "\n",
      "Best so far: Epoch 4, F1=0.6923\n",
      "================================================================================\n",
      "\n",
      "{'loss': 0.6695, 'grad_norm': 2.062835216522217, 'learning_rate': 5e-06, 'epoch': 5.0}\n"
     ]
    },
    {
     "data": {
      "application/vnd.jupyter.widget-view+json": {
       "model_id": "4a7dea72e246484898139f5398530c62",
       "version_major": 2,
       "version_minor": 0
      },
      "text/plain": [
       "  0%|          | 0/1 [00:00<?, ?it/s]"
      ]
     },
     "metadata": {},
     "output_type": "display_data"
    },
    {
     "name": "stdout",
     "output_type": "stream",
     "text": [
      "{'eval_loss': 0.5652679204940796, 'eval_accuracy': 0.7358490566037735, 'eval_f1': 0.72, 'eval_precision': 0.5625, 'eval_recall': 1.0, 'eval_runtime': 2.3153, 'eval_samples_per_second': 22.891, 'eval_steps_per_second': 0.432, 'epoch': 5.0}\n",
      "\n",
      "================================================================================\n",
      "[Epoch 5] Confusion Matrix (New best)\n",
      "================================================================================\n",
      "Confusion Matrix:\n",
      "              Predicted\n",
      "           Real    Fake\n",
      "Real   [[  21      14]]\n",
      "Fake   [[   0      18]]\n",
      "\n",
      "Per-Class Metrics:\n",
      "  Real: Precision=1.000, Recall=0.600\n",
      "  Fake: Precision=0.562, Recall=1.000\n",
      "\n",
      "Overall Metrics:\n",
      "  Accuracy:  0.7358\n",
      "  F1:        0.7200\n",
      "  Precision: 0.5625\n",
      "  Recall:    1.0000\n",
      "  Loss:      0.5653\n",
      "\n",
      "Best so far: Epoch 5, F1=0.7200\n",
      "================================================================================\n",
      "\n"
     ]
    },
    {
     "data": {
      "application/vnd.jupyter.widget-view+json": {
       "model_id": "638cdd162a0144cd84d5581c313b47ac",
       "version_major": 2,
       "version_minor": 0
      },
      "text/plain": [
       "  0%|          | 0/1 [00:00<?, ?it/s]"
      ]
     },
     "metadata": {},
     "output_type": "display_data"
    },
    {
     "name": "stdout",
     "output_type": "stream",
     "text": [
      "{'eval_loss': 0.4767593443393707, 'eval_accuracy': 0.7547169811320755, 'eval_f1': 0.7346938775510204, 'eval_precision': 0.5806451612903226, 'eval_recall': 1.0, 'eval_runtime': 2.3243, 'eval_samples_per_second': 22.803, 'eval_steps_per_second': 0.43, 'epoch': 6.0}\n",
      "\n",
      "================================================================================\n",
      "[Epoch 6] Confusion Matrix (New best)\n",
      "================================================================================\n",
      "Confusion Matrix:\n",
      "              Predicted\n",
      "           Real    Fake\n",
      "Real   [[  22      13]]\n",
      "Fake   [[   0      18]]\n",
      "\n",
      "Per-Class Metrics:\n",
      "  Real: Precision=1.000, Recall=0.629\n",
      "  Fake: Precision=0.581, Recall=1.000\n",
      "\n",
      "Overall Metrics:\n",
      "  Accuracy:  0.7547\n",
      "  F1:        0.7347\n",
      "  Precision: 0.5806\n",
      "  Recall:    1.0000\n",
      "  Loss:      0.4768\n",
      "\n",
      "Best so far: Epoch 6, F1=0.7347\n",
      "================================================================================\n",
      "\n"
     ]
    },
    {
     "data": {
      "application/vnd.jupyter.widget-view+json": {
       "model_id": "83d80c6408774a61b6c66943761a1ecd",
       "version_major": 2,
       "version_minor": 0
      },
      "text/plain": [
       "  0%|          | 0/1 [00:00<?, ?it/s]"
      ]
     },
     "metadata": {},
     "output_type": "display_data"
    },
    {
     "name": "stdout",
     "output_type": "stream",
     "text": [
      "{'eval_loss': 0.3949638903141022, 'eval_accuracy': 0.7924528301886793, 'eval_f1': 0.7659574468085106, 'eval_precision': 0.6206896551724138, 'eval_recall': 1.0, 'eval_runtime': 2.3637, 'eval_samples_per_second': 22.423, 'eval_steps_per_second': 0.423, 'epoch': 7.0}\n",
      "\n",
      "================================================================================\n",
      "[Epoch 7] Confusion Matrix (New best)\n",
      "================================================================================\n",
      "Confusion Matrix:\n",
      "              Predicted\n",
      "           Real    Fake\n",
      "Real   [[  24      11]]\n",
      "Fake   [[   0      18]]\n",
      "\n",
      "Per-Class Metrics:\n",
      "  Real: Precision=1.000, Recall=0.686\n",
      "  Fake: Precision=0.621, Recall=1.000\n",
      "\n",
      "Overall Metrics:\n",
      "  Accuracy:  0.7925\n",
      "  F1:        0.7660\n",
      "  Precision: 0.6207\n",
      "  Recall:    1.0000\n",
      "  Loss:      0.3950\n",
      "\n",
      "Best so far: Epoch 7, F1=0.7660\n",
      "================================================================================\n",
      "\n"
     ]
    },
    {
     "data": {
      "application/vnd.jupyter.widget-view+json": {
       "model_id": "7df580fece45484c9a9eeada930fab16",
       "version_major": 2,
       "version_minor": 0
      },
      "text/plain": [
       "  0%|          | 0/1 [00:00<?, ?it/s]"
      ]
     },
     "metadata": {},
     "output_type": "display_data"
    },
    {
     "name": "stdout",
     "output_type": "stream",
     "text": [
      "{'eval_loss': 0.32774782180786133, 'eval_accuracy': 0.8301886792452831, 'eval_f1': 0.8, 'eval_precision': 0.6666666666666666, 'eval_recall': 1.0, 'eval_runtime': 2.326, 'eval_samples_per_second': 22.786, 'eval_steps_per_second': 0.43, 'epoch': 8.0}\n",
      "\n",
      "================================================================================\n",
      "[Epoch 8] Confusion Matrix (New best)\n",
      "================================================================================\n",
      "Confusion Matrix:\n",
      "              Predicted\n",
      "           Real    Fake\n",
      "Real   [[  26       9]]\n",
      "Fake   [[   0      18]]\n",
      "\n",
      "Per-Class Metrics:\n",
      "  Real: Precision=1.000, Recall=0.743\n",
      "  Fake: Precision=0.667, Recall=1.000\n",
      "\n",
      "Overall Metrics:\n",
      "  Accuracy:  0.8302\n",
      "  F1:        0.8000\n",
      "  Precision: 0.6667\n",
      "  Recall:    1.0000\n",
      "  Loss:      0.3277\n",
      "\n",
      "Best so far: Epoch 8, F1=0.8000\n",
      "================================================================================\n",
      "\n"
     ]
    },
    {
     "data": {
      "application/vnd.jupyter.widget-view+json": {
       "model_id": "ed29869d77e84b6586a6c81dda87e1f2",
       "version_major": 2,
       "version_minor": 0
      },
      "text/plain": [
       "  0%|          | 0/1 [00:00<?, ?it/s]"
      ]
     },
     "metadata": {},
     "output_type": "display_data"
    },
    {
     "name": "stdout",
     "output_type": "stream",
     "text": [
      "{'eval_loss': 0.29468342661857605, 'eval_accuracy': 0.8490566037735849, 'eval_f1': 0.8181818181818182, 'eval_precision': 0.6923076923076923, 'eval_recall': 1.0, 'eval_runtime': 2.3083, 'eval_samples_per_second': 22.961, 'eval_steps_per_second': 0.433, 'epoch': 9.0}\n",
      "\n",
      "================================================================================\n",
      "[Epoch 9] Confusion Matrix (New best)\n",
      "================================================================================\n",
      "Confusion Matrix:\n",
      "              Predicted\n",
      "           Real    Fake\n",
      "Real   [[  27       8]]\n",
      "Fake   [[   0      18]]\n",
      "\n",
      "Per-Class Metrics:\n",
      "  Real: Precision=1.000, Recall=0.771\n",
      "  Fake: Precision=0.692, Recall=1.000\n",
      "\n",
      "Overall Metrics:\n",
      "  Accuracy:  0.8491\n",
      "  F1:        0.8182\n",
      "  Precision: 0.6923\n",
      "  Recall:    1.0000\n",
      "  Loss:      0.2947\n",
      "\n",
      "Best so far: Epoch 9, F1=0.8182\n",
      "================================================================================\n",
      "\n",
      "{'loss': 0.392, 'grad_norm': 4.422815799713135, 'learning_rate': 1e-05, 'epoch': 10.0}\n"
     ]
    },
    {
     "data": {
      "application/vnd.jupyter.widget-view+json": {
       "model_id": "74898a86d67b4080a553e1d1e7e729e4",
       "version_major": 2,
       "version_minor": 0
      },
      "text/plain": [
       "  0%|          | 0/1 [00:00<?, ?it/s]"
      ]
     },
     "metadata": {},
     "output_type": "display_data"
    },
    {
     "name": "stdout",
     "output_type": "stream",
     "text": [
      "{'eval_loss': 0.27904608845710754, 'eval_accuracy': 0.8867924528301887, 'eval_f1': 0.85, 'eval_precision': 0.7727272727272727, 'eval_recall': 0.9444444444444444, 'eval_runtime': 2.2982, 'eval_samples_per_second': 23.062, 'eval_steps_per_second': 0.435, 'epoch': 10.0}\n",
      "\n",
      "================================================================================\n",
      "[Epoch 10] Confusion Matrix (New best)\n",
      "================================================================================\n",
      "Confusion Matrix:\n",
      "              Predicted\n",
      "           Real    Fake\n",
      "Real   [[  30       5]]\n",
      "Fake   [[   1      17]]\n",
      "\n",
      "Per-Class Metrics:\n",
      "  Real: Precision=0.968, Recall=0.857\n",
      "  Fake: Precision=0.773, Recall=0.944\n",
      "\n",
      "Overall Metrics:\n",
      "  Accuracy:  0.8868\n",
      "  F1:        0.8500\n",
      "  Precision: 0.7727\n",
      "  Recall:    0.9444\n",
      "  Loss:      0.2790\n",
      "\n",
      "Best so far: Epoch 10, F1=0.8500\n",
      "================================================================================\n",
      "\n"
     ]
    },
    {
     "data": {
      "application/vnd.jupyter.widget-view+json": {
       "model_id": "99d82ee3754d42dc931c0579490b65c7",
       "version_major": 2,
       "version_minor": 0
      },
      "text/plain": [
       "  0%|          | 0/1 [00:00<?, ?it/s]"
      ]
     },
     "metadata": {},
     "output_type": "display_data"
    },
    {
     "name": "stdout",
     "output_type": "stream",
     "text": [
      "{'eval_loss': 0.26381686329841614, 'eval_accuracy': 0.8867924528301887, 'eval_f1': 0.85, 'eval_precision': 0.7727272727272727, 'eval_recall': 0.9444444444444444, 'eval_runtime': 2.3032, 'eval_samples_per_second': 23.012, 'eval_steps_per_second': 0.434, 'epoch': 11.0}\n",
      "\n",
      "================================================================================\n",
      "[Epoch 11] Confusion Matrix\n",
      "================================================================================\n",
      "Confusion Matrix:\n",
      "              Predicted\n",
      "           Real    Fake\n",
      "Real   [[  30       5]]\n",
      "Fake   [[   1      17]]\n",
      "\n",
      "Per-Class Metrics:\n",
      "  Real: Precision=0.968, Recall=0.857\n",
      "  Fake: Precision=0.773, Recall=0.944\n",
      "\n",
      "Overall Metrics:\n",
      "  Accuracy:  0.8868\n",
      "  F1:        0.8500\n",
      "  Precision: 0.7727\n",
      "  Recall:    0.9444\n",
      "  Loss:      0.2638\n",
      "\n",
      "Best so far: Epoch 10, F1=0.8500\n",
      "================================================================================\n",
      "\n"
     ]
    },
    {
     "data": {
      "application/vnd.jupyter.widget-view+json": {
       "model_id": "6778f5355ff54d2a94b92e4a406831b2",
       "version_major": 2,
       "version_minor": 0
      },
      "text/plain": [
       "  0%|          | 0/1 [00:00<?, ?it/s]"
      ]
     },
     "metadata": {},
     "output_type": "display_data"
    },
    {
     "name": "stdout",
     "output_type": "stream",
     "text": [
      "{'eval_loss': 0.28742751479148865, 'eval_accuracy': 0.8679245283018868, 'eval_f1': 0.8372093023255814, 'eval_precision': 0.72, 'eval_recall': 1.0, 'eval_runtime': 2.2745, 'eval_samples_per_second': 23.302, 'eval_steps_per_second': 0.44, 'epoch': 12.0}\n",
      "\n",
      "================================================================================\n",
      "[Epoch 12] Confusion Matrix\n",
      "================================================================================\n",
      "Confusion Matrix:\n",
      "              Predicted\n",
      "           Real    Fake\n",
      "Real   [[  28       7]]\n",
      "Fake   [[   0      18]]\n",
      "\n",
      "Per-Class Metrics:\n",
      "  Real: Precision=1.000, Recall=0.800\n",
      "  Fake: Precision=0.720, Recall=1.000\n",
      "\n",
      "Overall Metrics:\n",
      "  Accuracy:  0.8679\n",
      "  F1:        0.8372\n",
      "  Precision: 0.7200\n",
      "  Recall:    1.0000\n",
      "  Loss:      0.2874\n",
      "\n",
      "Best so far: Epoch 10, F1=0.8500\n",
      "================================================================================\n",
      "\n"
     ]
    },
    {
     "data": {
      "application/vnd.jupyter.widget-view+json": {
       "model_id": "16eb1ccb9264439e98b3445043120393",
       "version_major": 2,
       "version_minor": 0
      },
      "text/plain": [
       "  0%|          | 0/1 [00:00<?, ?it/s]"
      ]
     },
     "metadata": {},
     "output_type": "display_data"
    },
    {
     "name": "stdout",
     "output_type": "stream",
     "text": [
      "{'eval_loss': 0.39316853880882263, 'eval_accuracy': 0.8301886792452831, 'eval_f1': 0.7428571428571429, 'eval_precision': 0.7647058823529411, 'eval_recall': 0.7222222222222222, 'eval_runtime': 2.273, 'eval_samples_per_second': 23.317, 'eval_steps_per_second': 0.44, 'epoch': 13.0}\n",
      "\n",
      "================================================================================\n",
      "[Epoch 13] Confusion Matrix\n",
      "================================================================================\n",
      "Confusion Matrix:\n",
      "              Predicted\n",
      "           Real    Fake\n",
      "Real   [[  31       4]]\n",
      "Fake   [[   5      13]]\n",
      "\n",
      "Per-Class Metrics:\n",
      "  Real: Precision=0.861, Recall=0.886\n",
      "  Fake: Precision=0.765, Recall=0.722\n",
      "\n",
      "Overall Metrics:\n",
      "  Accuracy:  0.8302\n",
      "  F1:        0.7429\n",
      "  Precision: 0.7647\n",
      "  Recall:    0.7222\n",
      "  Loss:      0.3932\n",
      "\n",
      "Best so far: Epoch 10, F1=0.8500\n",
      "================================================================================\n",
      "\n",
      "{'train_runtime': 270.5447, 'train_samples_per_second': 11.754, 'train_steps_per_second': 0.739, 'train_loss': 0.4577501700474666, 'epoch': 13.0}\n",
      "\n",
      "================================================================================\n",
      "TRAINING COMPLETE\n",
      "================================================================================\n",
      "Best Epoch: 10\n",
      "Best F1: 0.8500\n",
      "Best checkpoint: /Users/photoli93/Desktop/Projets perso Python/esa_fake_or_real/results/distilbert_fake_or_real/checkpoint-100\n",
      "Checkpoint verified on disk\n",
      "\n",
      "Verifying loaded model\n"
     ]
    },
    {
     "data": {
      "application/vnd.jupyter.widget-view+json": {
       "model_id": "9d861ac307d24dba92d29164651043b0",
       "version_major": 2,
       "version_minor": 0
      },
      "text/plain": [
       "  0%|          | 0/1 [00:00<?, ?it/s]"
      ]
     },
     "metadata": {},
     "output_type": "display_data"
    },
    {
     "name": "stdout",
     "output_type": "stream",
     "text": [
      "Final Model F1: 0.8500\n",
      "Expected Best F1: 0.8500\n",
      "Correct: Best model was loaded\n",
      "================================================================================\n",
      "\n",
      "--------------------------------------------------------------------------------\n",
      "\n",
      "Fold trainer state\n",
      "Best checkpoint: /Users/photoli93/Desktop/Projets perso Python/esa_fake_or_real/results/distilbert_fake_or_real/checkpoint-100\n",
      "Best metric value (eval_f1): 0.85\n",
      "--------------------------------------------------------------------------------\n"
     ]
    },
    {
     "data": {
      "application/vnd.jupyter.widget-view+json": {
       "model_id": "8d8d5841302844b4a8d43b79b2956c51",
       "version_major": 2,
       "version_minor": 0
      },
      "text/plain": [
       "  0%|          | 0/1 [00:00<?, ?it/s]"
      ]
     },
     "metadata": {},
     "output_type": "display_data"
    },
    {
     "name": "stdout",
     "output_type": "stream",
     "text": [
      "\n",
      "================================================================================\n",
      "[Epoch 13] Confusion Matrix\n",
      "================================================================================\n",
      "Confusion Matrix:\n",
      "              Predicted\n",
      "           Real    Fake\n",
      "Real   [[  30       5]]\n",
      "Fake   [[   1      17]]\n",
      "\n",
      "Per-Class Metrics:\n",
      "  Real: Precision=0.968, Recall=0.857\n",
      "  Fake: Precision=0.773, Recall=0.944\n",
      "\n",
      "Overall Metrics:\n",
      "  Accuracy:  0.8868\n",
      "  F1:        0.8500\n",
      "  Precision: 0.7727\n",
      "  Recall:    0.9444\n",
      "  Loss:      0.2790\n",
      "\n",
      "Best so far: Epoch 10, F1=0.8500\n",
      "================================================================================\n",
      "\n",
      "Fold 1 evaluation (Best model metrics)\n",
      "{'eval_loss': 0.27904608845710754, 'eval_accuracy': 0.8867924528301887, 'eval_f1': 0.85, 'eval_precision': 0.7727272727272727, 'eval_recall': 0.9444444444444444, 'eval_runtime': 2.3223, 'eval_samples_per_second': 22.822, 'eval_steps_per_second': 0.431, 'epoch': 13.0}\n",
      "--------------------------------------------------------------------------------\n",
      "\n",
      "Fold 2/4\n",
      "--------------------------------------------------------------------------------\n"
     ]
    },
    {
     "name": "stderr",
     "output_type": "stream",
     "text": [
      "Some weights of DistilBertForSequenceClassification were not initialized from the model checkpoint at distilbert-base-uncased and are newly initialized: ['classifier.bias', 'classifier.weight', 'pre_classifier.bias', 'pre_classifier.weight']\n",
      "You should probably TRAIN this model on a down-stream task to be able to use it for predictions and inference.\n"
     ]
    },
    {
     "data": {
      "application/vnd.jupyter.widget-view+json": {
       "model_id": "b1ea08a4363b4dc28fa9a89593691d23",
       "version_major": 2,
       "version_minor": 0
      },
      "text/plain": [
       "  0%|          | 0/200 [00:00<?, ?it/s]"
      ]
     },
     "metadata": {},
     "output_type": "display_data"
    },
    {
     "data": {
      "application/vnd.jupyter.widget-view+json": {
       "model_id": "873a3544556d4292bb4c859ea2ceffd4",
       "version_major": 2,
       "version_minor": 0
      },
      "text/plain": [
       "  0%|          | 0/1 [00:00<?, ?it/s]"
      ]
     },
     "metadata": {},
     "output_type": "display_data"
    },
    {
     "name": "stdout",
     "output_type": "stream",
     "text": [
      "{'eval_loss': 0.689300537109375, 'eval_accuracy': 0.5925925925925926, 'eval_f1': 0.5217391304347826, 'eval_precision': 0.4444444444444444, 'eval_recall': 0.631578947368421, 'eval_runtime': 2.309, 'eval_samples_per_second': 23.387, 'eval_steps_per_second': 0.433, 'epoch': 1.0}\n",
      "\n",
      "================================================================================\n",
      "[Epoch 1] Confusion Matrix (New best)\n",
      "================================================================================\n",
      "Confusion Matrix:\n",
      "              Predicted\n",
      "           Real    Fake\n",
      "Real   [[  20      15]]\n",
      "Fake   [[   7      12]]\n",
      "\n",
      "Per-Class Metrics:\n",
      "  Real: Precision=0.741, Recall=0.571\n",
      "  Fake: Precision=0.444, Recall=0.632\n",
      "\n",
      "Overall Metrics:\n",
      "  Accuracy:  0.5926\n",
      "  F1:        0.5217\n",
      "  Precision: 0.4444\n",
      "  Recall:    0.6316\n",
      "  Loss:      0.6893\n",
      "\n",
      "Best so far: Epoch 1, F1=0.5217\n",
      "================================================================================\n",
      "\n"
     ]
    },
    {
     "data": {
      "application/vnd.jupyter.widget-view+json": {
       "model_id": "a3daa3ab3a674157ab41180a08f90312",
       "version_major": 2,
       "version_minor": 0
      },
      "text/plain": [
       "  0%|          | 0/1 [00:00<?, ?it/s]"
      ]
     },
     "metadata": {},
     "output_type": "display_data"
    },
    {
     "name": "stdout",
     "output_type": "stream",
     "text": [
      "{'eval_loss': 0.6744490265846252, 'eval_accuracy': 0.7777777777777778, 'eval_f1': 0.7391304347826086, 'eval_precision': 0.6296296296296297, 'eval_recall': 0.8947368421052632, 'eval_runtime': 2.5013, 'eval_samples_per_second': 21.589, 'eval_steps_per_second': 0.4, 'epoch': 2.0}\n",
      "\n",
      "================================================================================\n",
      "[Epoch 2] Confusion Matrix (New best)\n",
      "================================================================================\n",
      "Confusion Matrix:\n",
      "              Predicted\n",
      "           Real    Fake\n",
      "Real   [[  25      10]]\n",
      "Fake   [[   2      17]]\n",
      "\n",
      "Per-Class Metrics:\n",
      "  Real: Precision=0.926, Recall=0.714\n",
      "  Fake: Precision=0.630, Recall=0.895\n",
      "\n",
      "Overall Metrics:\n",
      "  Accuracy:  0.7778\n",
      "  F1:        0.7391\n",
      "  Precision: 0.6296\n",
      "  Recall:    0.8947\n",
      "  Loss:      0.6744\n",
      "\n",
      "Best so far: Epoch 2, F1=0.7391\n",
      "================================================================================\n",
      "\n"
     ]
    },
    {
     "data": {
      "application/vnd.jupyter.widget-view+json": {
       "model_id": "d9826216714e4c419d27a5946c4fdee5",
       "version_major": 2,
       "version_minor": 0
      },
      "text/plain": [
       "  0%|          | 0/1 [00:00<?, ?it/s]"
      ]
     },
     "metadata": {},
     "output_type": "display_data"
    },
    {
     "name": "stdout",
     "output_type": "stream",
     "text": [
      "{'eval_loss': 0.6511367559432983, 'eval_accuracy': 0.7407407407407407, 'eval_f1': 0.72, 'eval_precision': 0.5806451612903226, 'eval_recall': 0.9473684210526315, 'eval_runtime': 2.5136, 'eval_samples_per_second': 21.483, 'eval_steps_per_second': 0.398, 'epoch': 3.0}\n",
      "\n",
      "================================================================================\n",
      "[Epoch 3] Confusion Matrix\n",
      "================================================================================\n",
      "Confusion Matrix:\n",
      "              Predicted\n",
      "           Real    Fake\n",
      "Real   [[  22      13]]\n",
      "Fake   [[   1      18]]\n",
      "\n",
      "Per-Class Metrics:\n",
      "  Real: Precision=0.957, Recall=0.629\n",
      "  Fake: Precision=0.581, Recall=0.947\n",
      "\n",
      "Overall Metrics:\n",
      "  Accuracy:  0.7407\n",
      "  F1:        0.7200\n",
      "  Precision: 0.5806\n",
      "  Recall:    0.9474\n",
      "  Loss:      0.6511\n",
      "\n",
      "Best so far: Epoch 2, F1=0.7391\n",
      "================================================================================\n",
      "\n"
     ]
    },
    {
     "data": {
      "application/vnd.jupyter.widget-view+json": {
       "model_id": "85b5166a2aea4ab0a2efc764955fd730",
       "version_major": 2,
       "version_minor": 0
      },
      "text/plain": [
       "  0%|          | 0/1 [00:00<?, ?it/s]"
      ]
     },
     "metadata": {},
     "output_type": "display_data"
    },
    {
     "name": "stdout",
     "output_type": "stream",
     "text": [
      "{'eval_loss': 0.6122527718544006, 'eval_accuracy': 0.7777777777777778, 'eval_f1': 0.75, 'eval_precision': 0.6206896551724138, 'eval_recall': 0.9473684210526315, 'eval_runtime': 2.4583, 'eval_samples_per_second': 21.967, 'eval_steps_per_second': 0.407, 'epoch': 4.0}\n",
      "\n",
      "================================================================================\n",
      "[Epoch 4] Confusion Matrix (New best)\n",
      "================================================================================\n",
      "Confusion Matrix:\n",
      "              Predicted\n",
      "           Real    Fake\n",
      "Real   [[  24      11]]\n",
      "Fake   [[   1      18]]\n",
      "\n",
      "Per-Class Metrics:\n",
      "  Real: Precision=0.960, Recall=0.686\n",
      "  Fake: Precision=0.621, Recall=0.947\n",
      "\n",
      "Overall Metrics:\n",
      "  Accuracy:  0.7778\n",
      "  F1:        0.7500\n",
      "  Precision: 0.6207\n",
      "  Recall:    0.9474\n",
      "  Loss:      0.6123\n",
      "\n",
      "Best so far: Epoch 4, F1=0.7500\n",
      "================================================================================\n",
      "\n",
      "{'loss': 0.6569, 'grad_norm': 2.201120615005493, 'learning_rate': 5e-06, 'epoch': 5.0}\n"
     ]
    },
    {
     "data": {
      "application/vnd.jupyter.widget-view+json": {
       "model_id": "6796dd6b7a1440c882f263d9f5241168",
       "version_major": 2,
       "version_minor": 0
      },
      "text/plain": [
       "  0%|          | 0/1 [00:00<?, ?it/s]"
      ]
     },
     "metadata": {},
     "output_type": "display_data"
    },
    {
     "name": "stdout",
     "output_type": "stream",
     "text": [
      "{'eval_loss': 0.5441964268684387, 'eval_accuracy': 0.7962962962962963, 'eval_f1': 0.7659574468085106, 'eval_precision': 0.6428571428571429, 'eval_recall': 0.9473684210526315, 'eval_runtime': 2.5499, 'eval_samples_per_second': 21.177, 'eval_steps_per_second': 0.392, 'epoch': 5.0}\n",
      "\n",
      "================================================================================\n",
      "[Epoch 5] Confusion Matrix (New best)\n",
      "================================================================================\n",
      "Confusion Matrix:\n",
      "              Predicted\n",
      "           Real    Fake\n",
      "Real   [[  25      10]]\n",
      "Fake   [[   1      18]]\n",
      "\n",
      "Per-Class Metrics:\n",
      "  Real: Precision=0.962, Recall=0.714\n",
      "  Fake: Precision=0.643, Recall=0.947\n",
      "\n",
      "Overall Metrics:\n",
      "  Accuracy:  0.7963\n",
      "  F1:        0.7660\n",
      "  Precision: 0.6429\n",
      "  Recall:    0.9474\n",
      "  Loss:      0.5442\n",
      "\n",
      "Best so far: Epoch 5, F1=0.7660\n",
      "================================================================================\n",
      "\n"
     ]
    },
    {
     "data": {
      "application/vnd.jupyter.widget-view+json": {
       "model_id": "cf0fa3af37a2439faae6fc27e770931b",
       "version_major": 2,
       "version_minor": 0
      },
      "text/plain": [
       "  0%|          | 0/1 [00:00<?, ?it/s]"
      ]
     },
     "metadata": {},
     "output_type": "display_data"
    },
    {
     "name": "stdout",
     "output_type": "stream",
     "text": [
      "{'eval_loss': 0.45954400300979614, 'eval_accuracy': 0.7962962962962963, 'eval_f1': 0.7659574468085106, 'eval_precision': 0.6428571428571429, 'eval_recall': 0.9473684210526315, 'eval_runtime': 2.5256, 'eval_samples_per_second': 21.381, 'eval_steps_per_second': 0.396, 'epoch': 6.0}\n",
      "\n",
      "================================================================================\n",
      "[Epoch 6] Confusion Matrix\n",
      "================================================================================\n",
      "Confusion Matrix:\n",
      "              Predicted\n",
      "           Real    Fake\n",
      "Real   [[  25      10]]\n",
      "Fake   [[   1      18]]\n",
      "\n",
      "Per-Class Metrics:\n",
      "  Real: Precision=0.962, Recall=0.714\n",
      "  Fake: Precision=0.643, Recall=0.947\n",
      "\n",
      "Overall Metrics:\n",
      "  Accuracy:  0.7963\n",
      "  F1:        0.7660\n",
      "  Precision: 0.6429\n",
      "  Recall:    0.9474\n",
      "  Loss:      0.4595\n",
      "\n",
      "Best so far: Epoch 5, F1=0.7660\n",
      "================================================================================\n",
      "\n"
     ]
    },
    {
     "data": {
      "application/vnd.jupyter.widget-view+json": {
       "model_id": "85f022c95a93496aa4e9ac120bfc89fd",
       "version_major": 2,
       "version_minor": 0
      },
      "text/plain": [
       "  0%|          | 0/1 [00:00<?, ?it/s]"
      ]
     },
     "metadata": {},
     "output_type": "display_data"
    },
    {
     "name": "stdout",
     "output_type": "stream",
     "text": [
      "{'eval_loss': 0.3989691138267517, 'eval_accuracy': 0.7962962962962963, 'eval_f1': 0.7659574468085106, 'eval_precision': 0.6428571428571429, 'eval_recall': 0.9473684210526315, 'eval_runtime': 2.8269, 'eval_samples_per_second': 19.102, 'eval_steps_per_second': 0.354, 'epoch': 7.0}\n",
      "\n",
      "================================================================================\n",
      "[Epoch 7] Confusion Matrix\n",
      "================================================================================\n",
      "Confusion Matrix:\n",
      "              Predicted\n",
      "           Real    Fake\n",
      "Real   [[  25      10]]\n",
      "Fake   [[   1      18]]\n",
      "\n",
      "Per-Class Metrics:\n",
      "  Real: Precision=0.962, Recall=0.714\n",
      "  Fake: Precision=0.643, Recall=0.947\n",
      "\n",
      "Overall Metrics:\n",
      "  Accuracy:  0.7963\n",
      "  F1:        0.7660\n",
      "  Precision: 0.6429\n",
      "  Recall:    0.9474\n",
      "  Loss:      0.3990\n",
      "\n",
      "Best so far: Epoch 5, F1=0.7660\n",
      "================================================================================\n",
      "\n"
     ]
    },
    {
     "data": {
      "application/vnd.jupyter.widget-view+json": {
       "model_id": "5e6aa1d267b24819b6c370f3153b19f8",
       "version_major": 2,
       "version_minor": 0
      },
      "text/plain": [
       "  0%|          | 0/1 [00:00<?, ?it/s]"
      ]
     },
     "metadata": {},
     "output_type": "display_data"
    },
    {
     "name": "stdout",
     "output_type": "stream",
     "text": [
      "{'eval_loss': 0.37441790103912354, 'eval_accuracy': 0.8148148148148148, 'eval_f1': 0.7619047619047619, 'eval_precision': 0.6956521739130435, 'eval_recall': 0.8421052631578947, 'eval_runtime': 2.5675, 'eval_samples_per_second': 21.032, 'eval_steps_per_second': 0.389, 'epoch': 8.0}\n",
      "\n",
      "================================================================================\n",
      "[Epoch 8] Confusion Matrix\n",
      "================================================================================\n",
      "Confusion Matrix:\n",
      "              Predicted\n",
      "           Real    Fake\n",
      "Real   [[  28       7]]\n",
      "Fake   [[   3      16]]\n",
      "\n",
      "Per-Class Metrics:\n",
      "  Real: Precision=0.903, Recall=0.800\n",
      "  Fake: Precision=0.696, Recall=0.842\n",
      "\n",
      "Overall Metrics:\n",
      "  Accuracy:  0.8148\n",
      "  F1:        0.7619\n",
      "  Precision: 0.6957\n",
      "  Recall:    0.8421\n",
      "  Loss:      0.3744\n",
      "\n",
      "Best so far: Epoch 5, F1=0.7660\n",
      "================================================================================\n",
      "\n",
      "{'train_runtime': 168.3618, 'train_samples_per_second': 18.769, 'train_steps_per_second': 1.188, 'train_loss': 0.5727805495262146, 'epoch': 8.0}\n",
      "\n",
      "================================================================================\n",
      "TRAINING COMPLETE\n",
      "================================================================================\n",
      "Best Epoch: 5\n",
      "Best F1: 0.7660\n",
      "Best checkpoint: /Users/photoli93/Desktop/Projets perso Python/esa_fake_or_real/results/distilbert_fake_or_real/checkpoint-50\n",
      "Checkpoint verified on disk\n",
      "\n",
      "Verifying loaded model\n"
     ]
    },
    {
     "data": {
      "application/vnd.jupyter.widget-view+json": {
       "model_id": "5b5f2f18ea234ff3a9f12141412e23c6",
       "version_major": 2,
       "version_minor": 0
      },
      "text/plain": [
       "  0%|          | 0/1 [00:00<?, ?it/s]"
      ]
     },
     "metadata": {},
     "output_type": "display_data"
    },
    {
     "name": "stdout",
     "output_type": "stream",
     "text": [
      "Final Model F1: 0.7660\n",
      "Expected Best F1: 0.7660\n",
      "Correct: Best model was loaded\n",
      "================================================================================\n",
      "\n",
      "--------------------------------------------------------------------------------\n",
      "\n",
      "Fold trainer state\n",
      "Best checkpoint: /Users/photoli93/Desktop/Projets perso Python/esa_fake_or_real/results/distilbert_fake_or_real/checkpoint-50\n",
      "Best metric value (eval_f1): 0.7659574468085106\n",
      "--------------------------------------------------------------------------------\n"
     ]
    },
    {
     "data": {
      "application/vnd.jupyter.widget-view+json": {
       "model_id": "888b3fd5c8224212bbb1071a781482b6",
       "version_major": 2,
       "version_minor": 0
      },
      "text/plain": [
       "  0%|          | 0/1 [00:00<?, ?it/s]"
      ]
     },
     "metadata": {},
     "output_type": "display_data"
    },
    {
     "name": "stderr",
     "output_type": "stream",
     "text": [
      "Some weights of DistilBertForSequenceClassification were not initialized from the model checkpoint at distilbert-base-uncased and are newly initialized: ['classifier.bias', 'classifier.weight', 'pre_classifier.bias', 'pre_classifier.weight']\n",
      "You should probably TRAIN this model on a down-stream task to be able to use it for predictions and inference.\n"
     ]
    },
    {
     "name": "stdout",
     "output_type": "stream",
     "text": [
      "\n",
      "================================================================================\n",
      "[Epoch 8] Confusion Matrix\n",
      "================================================================================\n",
      "Confusion Matrix:\n",
      "              Predicted\n",
      "           Real    Fake\n",
      "Real   [[  25      10]]\n",
      "Fake   [[   1      18]]\n",
      "\n",
      "Per-Class Metrics:\n",
      "  Real: Precision=0.962, Recall=0.714\n",
      "  Fake: Precision=0.643, Recall=0.947\n",
      "\n",
      "Overall Metrics:\n",
      "  Accuracy:  0.7963\n",
      "  F1:        0.7660\n",
      "  Precision: 0.6429\n",
      "  Recall:    0.9474\n",
      "  Loss:      0.5442\n",
      "\n",
      "Best so far: Epoch 5, F1=0.7660\n",
      "================================================================================\n",
      "\n",
      "Fold 2 evaluation (Best model metrics)\n",
      "{'eval_loss': 0.5441964268684387, 'eval_accuracy': 0.7962962962962963, 'eval_f1': 0.7659574468085106, 'eval_precision': 0.6428571428571429, 'eval_recall': 0.9473684210526315, 'eval_runtime': 2.2046, 'eval_samples_per_second': 24.495, 'eval_steps_per_second': 0.454, 'epoch': 8.0}\n",
      "--------------------------------------------------------------------------------\n",
      "\n",
      "Fold 3/4\n",
      "--------------------------------------------------------------------------------\n"
     ]
    },
    {
     "data": {
      "application/vnd.jupyter.widget-view+json": {
       "model_id": "9dcc763dda7742c486781685a511dadc",
       "version_major": 2,
       "version_minor": 0
      },
      "text/plain": [
       "  0%|          | 0/200 [00:00<?, ?it/s]"
      ]
     },
     "metadata": {},
     "output_type": "display_data"
    },
    {
     "data": {
      "application/vnd.jupyter.widget-view+json": {
       "model_id": "d9d7a7da743443bbac1d97878ef64160",
       "version_major": 2,
       "version_minor": 0
      },
      "text/plain": [
       "  0%|          | 0/1 [00:00<?, ?it/s]"
      ]
     },
     "metadata": {},
     "output_type": "display_data"
    },
    {
     "name": "stdout",
     "output_type": "stream",
     "text": [
      "{'eval_loss': 0.6947055459022522, 'eval_accuracy': 0.6346153846153846, 'eval_f1': 0.0, 'eval_precision': 0.0, 'eval_recall': 0.0, 'eval_runtime': 2.2663, 'eval_samples_per_second': 22.945, 'eval_steps_per_second': 0.441, 'epoch': 1.0}\n",
      "\n",
      "================================================================================\n",
      "[Epoch 1] Confusion Matrix (New best)\n",
      "================================================================================\n",
      "Confusion Matrix:\n",
      "              Predicted\n",
      "           Real    Fake\n",
      "Real   [[  33       1]]\n",
      "Fake   [[  18       0]]\n",
      "\n",
      "Per-Class Metrics:\n",
      "  Real: Precision=0.647, Recall=0.971\n",
      "  Fake: Precision=0.000, Recall=0.000\n",
      "\n",
      "Overall Metrics:\n",
      "  Accuracy:  0.6346\n",
      "  F1:        0.0000\n",
      "  Precision: 0.0000\n",
      "  Recall:    0.0000\n",
      "  Loss:      0.6947\n",
      "\n",
      "Best so far: Epoch 1, F1=0.0000\n",
      "================================================================================\n",
      "\n"
     ]
    },
    {
     "data": {
      "application/vnd.jupyter.widget-view+json": {
       "model_id": "dad53bccbba1445f943124742366d006",
       "version_major": 2,
       "version_minor": 0
      },
      "text/plain": [
       "  0%|          | 0/1 [00:00<?, ?it/s]"
      ]
     },
     "metadata": {},
     "output_type": "display_data"
    },
    {
     "name": "stdout",
     "output_type": "stream",
     "text": [
      "{'eval_loss': 0.6767831444740295, 'eval_accuracy': 0.6538461538461539, 'eval_f1': 0.1, 'eval_precision': 0.5, 'eval_recall': 0.05555555555555555, 'eval_runtime': 2.1757, 'eval_samples_per_second': 23.9, 'eval_steps_per_second': 0.46, 'epoch': 2.0}\n",
      "\n",
      "================================================================================\n",
      "[Epoch 2] Confusion Matrix (New best)\n",
      "================================================================================\n",
      "Confusion Matrix:\n",
      "              Predicted\n",
      "           Real    Fake\n",
      "Real   [[  33       1]]\n",
      "Fake   [[  17       1]]\n",
      "\n",
      "Per-Class Metrics:\n",
      "  Real: Precision=0.660, Recall=0.971\n",
      "  Fake: Precision=0.500, Recall=0.056\n",
      "\n",
      "Overall Metrics:\n",
      "  Accuracy:  0.6538\n",
      "  F1:        0.1000\n",
      "  Precision: 0.5000\n",
      "  Recall:    0.0556\n",
      "  Loss:      0.6768\n",
      "\n",
      "Best so far: Epoch 2, F1=0.1000\n",
      "================================================================================\n",
      "\n"
     ]
    },
    {
     "data": {
      "application/vnd.jupyter.widget-view+json": {
       "model_id": "73ddb921b5fd4f91819943d552b9fb20",
       "version_major": 2,
       "version_minor": 0
      },
      "text/plain": [
       "  0%|          | 0/1 [00:00<?, ?it/s]"
      ]
     },
     "metadata": {},
     "output_type": "display_data"
    },
    {
     "name": "stdout",
     "output_type": "stream",
     "text": [
      "{'eval_loss': 0.6478733420372009, 'eval_accuracy': 0.7307692307692307, 'eval_f1': 0.631578947368421, 'eval_precision': 0.6, 'eval_recall': 0.6666666666666666, 'eval_runtime': 2.1891, 'eval_samples_per_second': 23.754, 'eval_steps_per_second': 0.457, 'epoch': 3.0}\n",
      "\n",
      "================================================================================\n",
      "[Epoch 3] Confusion Matrix (New best)\n",
      "================================================================================\n",
      "Confusion Matrix:\n",
      "              Predicted\n",
      "           Real    Fake\n",
      "Real   [[  26       8]]\n",
      "Fake   [[   6      12]]\n",
      "\n",
      "Per-Class Metrics:\n",
      "  Real: Precision=0.812, Recall=0.765\n",
      "  Fake: Precision=0.600, Recall=0.667\n",
      "\n",
      "Overall Metrics:\n",
      "  Accuracy:  0.7308\n",
      "  F1:        0.6316\n",
      "  Precision: 0.6000\n",
      "  Recall:    0.6667\n",
      "  Loss:      0.6479\n",
      "\n",
      "Best so far: Epoch 3, F1=0.6316\n",
      "================================================================================\n",
      "\n"
     ]
    },
    {
     "data": {
      "application/vnd.jupyter.widget-view+json": {
       "model_id": "ce58efec727c459b93220d57fbd10215",
       "version_major": 2,
       "version_minor": 0
      },
      "text/plain": [
       "  0%|          | 0/1 [00:00<?, ?it/s]"
      ]
     },
     "metadata": {},
     "output_type": "display_data"
    },
    {
     "name": "stdout",
     "output_type": "stream",
     "text": [
      "{'eval_loss': 0.6046055555343628, 'eval_accuracy': 0.75, 'eval_f1': 0.7346938775510204, 'eval_precision': 0.5806451612903226, 'eval_recall': 1.0, 'eval_runtime': 2.2401, 'eval_samples_per_second': 23.213, 'eval_steps_per_second': 0.446, 'epoch': 4.0}\n",
      "\n",
      "================================================================================\n",
      "[Epoch 4] Confusion Matrix (New best)\n",
      "================================================================================\n",
      "Confusion Matrix:\n",
      "              Predicted\n",
      "           Real    Fake\n",
      "Real   [[  21      13]]\n",
      "Fake   [[   0      18]]\n",
      "\n",
      "Per-Class Metrics:\n",
      "  Real: Precision=1.000, Recall=0.618\n",
      "  Fake: Precision=0.581, Recall=1.000\n",
      "\n",
      "Overall Metrics:\n",
      "  Accuracy:  0.7500\n",
      "  F1:        0.7347\n",
      "  Precision: 0.5806\n",
      "  Recall:    1.0000\n",
      "  Loss:      0.6046\n",
      "\n",
      "Best so far: Epoch 4, F1=0.7347\n",
      "================================================================================\n",
      "\n",
      "{'loss': 0.6496, 'grad_norm': 3.5500271320343018, 'learning_rate': 5e-06, 'epoch': 5.0}\n"
     ]
    },
    {
     "data": {
      "application/vnd.jupyter.widget-view+json": {
       "model_id": "fb50b7f9b3944380b3e7affe44ca56a9",
       "version_major": 2,
       "version_minor": 0
      },
      "text/plain": [
       "  0%|          | 0/1 [00:00<?, ?it/s]"
      ]
     },
     "metadata": {},
     "output_type": "display_data"
    },
    {
     "name": "stdout",
     "output_type": "stream",
     "text": [
      "{'eval_loss': 0.5440356731414795, 'eval_accuracy': 0.7884615384615384, 'eval_f1': 0.7659574468085106, 'eval_precision': 0.6206896551724138, 'eval_recall': 1.0, 'eval_runtime': 2.1868, 'eval_samples_per_second': 23.779, 'eval_steps_per_second': 0.457, 'epoch': 5.0}\n",
      "\n",
      "================================================================================\n",
      "[Epoch 5] Confusion Matrix (New best)\n",
      "================================================================================\n",
      "Confusion Matrix:\n",
      "              Predicted\n",
      "           Real    Fake\n",
      "Real   [[  23      11]]\n",
      "Fake   [[   0      18]]\n",
      "\n",
      "Per-Class Metrics:\n",
      "  Real: Precision=1.000, Recall=0.676\n",
      "  Fake: Precision=0.621, Recall=1.000\n",
      "\n",
      "Overall Metrics:\n",
      "  Accuracy:  0.7885\n",
      "  F1:        0.7660\n",
      "  Precision: 0.6207\n",
      "  Recall:    1.0000\n",
      "  Loss:      0.5440\n",
      "\n",
      "Best so far: Epoch 5, F1=0.7660\n",
      "================================================================================\n",
      "\n"
     ]
    },
    {
     "data": {
      "application/vnd.jupyter.widget-view+json": {
       "model_id": "4a1766d6ca2c428cac0d85a8519eb802",
       "version_major": 2,
       "version_minor": 0
      },
      "text/plain": [
       "  0%|          | 0/1 [00:00<?, ?it/s]"
      ]
     },
     "metadata": {},
     "output_type": "display_data"
    },
    {
     "name": "stdout",
     "output_type": "stream",
     "text": [
      "{'eval_loss': 0.4667207598686218, 'eval_accuracy': 0.7692307692307693, 'eval_f1': 0.75, 'eval_precision': 0.6, 'eval_recall': 1.0, 'eval_runtime': 2.2446, 'eval_samples_per_second': 23.166, 'eval_steps_per_second': 0.446, 'epoch': 6.0}\n",
      "\n",
      "================================================================================\n",
      "[Epoch 6] Confusion Matrix\n",
      "================================================================================\n",
      "Confusion Matrix:\n",
      "              Predicted\n",
      "           Real    Fake\n",
      "Real   [[  22      12]]\n",
      "Fake   [[   0      18]]\n",
      "\n",
      "Per-Class Metrics:\n",
      "  Real: Precision=1.000, Recall=0.647\n",
      "  Fake: Precision=0.600, Recall=1.000\n",
      "\n",
      "Overall Metrics:\n",
      "  Accuracy:  0.7692\n",
      "  F1:        0.7500\n",
      "  Precision: 0.6000\n",
      "  Recall:    1.0000\n",
      "  Loss:      0.4667\n",
      "\n",
      "Best so far: Epoch 5, F1=0.7660\n",
      "================================================================================\n",
      "\n"
     ]
    },
    {
     "data": {
      "application/vnd.jupyter.widget-view+json": {
       "model_id": "960245d4d6814f06aadacc4c466f5d6b",
       "version_major": 2,
       "version_minor": 0
      },
      "text/plain": [
       "  0%|          | 0/1 [00:00<?, ?it/s]"
      ]
     },
     "metadata": {},
     "output_type": "display_data"
    },
    {
     "name": "stdout",
     "output_type": "stream",
     "text": [
      "{'eval_loss': 0.4185212552547455, 'eval_accuracy': 0.7884615384615384, 'eval_f1': 0.7555555555555555, 'eval_precision': 0.6296296296296297, 'eval_recall': 0.9444444444444444, 'eval_runtime': 2.2247, 'eval_samples_per_second': 23.374, 'eval_steps_per_second': 0.449, 'epoch': 7.0}\n",
      "\n",
      "================================================================================\n",
      "[Epoch 7] Confusion Matrix\n",
      "================================================================================\n",
      "Confusion Matrix:\n",
      "              Predicted\n",
      "           Real    Fake\n",
      "Real   [[  24      10]]\n",
      "Fake   [[   1      17]]\n",
      "\n",
      "Per-Class Metrics:\n",
      "  Real: Precision=0.960, Recall=0.706\n",
      "  Fake: Precision=0.630, Recall=0.944\n",
      "\n",
      "Overall Metrics:\n",
      "  Accuracy:  0.7885\n",
      "  F1:        0.7556\n",
      "  Precision: 0.6296\n",
      "  Recall:    0.9444\n",
      "  Loss:      0.4185\n",
      "\n",
      "Best so far: Epoch 5, F1=0.7660\n",
      "================================================================================\n",
      "\n"
     ]
    },
    {
     "data": {
      "application/vnd.jupyter.widget-view+json": {
       "model_id": "535fe7f6d7ba4f5299ea1715a65a5daf",
       "version_major": 2,
       "version_minor": 0
      },
      "text/plain": [
       "  0%|          | 0/1 [00:00<?, ?it/s]"
      ]
     },
     "metadata": {},
     "output_type": "display_data"
    },
    {
     "name": "stdout",
     "output_type": "stream",
     "text": [
      "{'eval_loss': 0.3805749714374542, 'eval_accuracy': 0.7884615384615384, 'eval_f1': 0.7659574468085106, 'eval_precision': 0.6206896551724138, 'eval_recall': 1.0, 'eval_runtime': 2.2505, 'eval_samples_per_second': 23.106, 'eval_steps_per_second': 0.444, 'epoch': 8.0}\n",
      "\n",
      "================================================================================\n",
      "[Epoch 8] Confusion Matrix\n",
      "================================================================================\n",
      "Confusion Matrix:\n",
      "              Predicted\n",
      "           Real    Fake\n",
      "Real   [[  23      11]]\n",
      "Fake   [[   0      18]]\n",
      "\n",
      "Per-Class Metrics:\n",
      "  Real: Precision=1.000, Recall=0.676\n",
      "  Fake: Precision=0.621, Recall=1.000\n",
      "\n",
      "Overall Metrics:\n",
      "  Accuracy:  0.7885\n",
      "  F1:        0.7660\n",
      "  Precision: 0.6207\n",
      "  Recall:    1.0000\n",
      "  Loss:      0.3806\n",
      "\n",
      "Best so far: Epoch 5, F1=0.7660\n",
      "================================================================================\n",
      "\n",
      "{'train_runtime': 167.8237, 'train_samples_per_second': 19.068, 'train_steps_per_second': 1.192, 'train_loss': 0.5668884515762329, 'epoch': 8.0}\n",
      "\n",
      "================================================================================\n",
      "TRAINING COMPLETE\n",
      "================================================================================\n",
      "Best Epoch: 5\n",
      "Best F1: 0.7660\n",
      "Best checkpoint: /Users/photoli93/Desktop/Projets perso Python/esa_fake_or_real/results/distilbert_fake_or_real/checkpoint-50\n",
      "Checkpoint verified on disk\n",
      "\n",
      "Verifying loaded model\n"
     ]
    },
    {
     "data": {
      "application/vnd.jupyter.widget-view+json": {
       "model_id": "dd03c7629df541a2a15680c0f5bbbbfb",
       "version_major": 2,
       "version_minor": 0
      },
      "text/plain": [
       "  0%|          | 0/1 [00:00<?, ?it/s]"
      ]
     },
     "metadata": {},
     "output_type": "display_data"
    },
    {
     "name": "stdout",
     "output_type": "stream",
     "text": [
      "Final Model F1: 0.7660\n",
      "Expected Best F1: 0.7660\n",
      "Correct: Best model was loaded\n",
      "================================================================================\n",
      "\n",
      "--------------------------------------------------------------------------------\n",
      "\n",
      "Fold trainer state\n",
      "Best checkpoint: /Users/photoli93/Desktop/Projets perso Python/esa_fake_or_real/results/distilbert_fake_or_real/checkpoint-50\n",
      "Best metric value (eval_f1): 0.7659574468085106\n",
      "--------------------------------------------------------------------------------\n"
     ]
    },
    {
     "data": {
      "application/vnd.jupyter.widget-view+json": {
       "model_id": "9be9f4856b26456fbde32f6dfff96083",
       "version_major": 2,
       "version_minor": 0
      },
      "text/plain": [
       "  0%|          | 0/1 [00:00<?, ?it/s]"
      ]
     },
     "metadata": {},
     "output_type": "display_data"
    },
    {
     "name": "stderr",
     "output_type": "stream",
     "text": [
      "Some weights of DistilBertForSequenceClassification were not initialized from the model checkpoint at distilbert-base-uncased and are newly initialized: ['classifier.bias', 'classifier.weight', 'pre_classifier.bias', 'pre_classifier.weight']\n",
      "You should probably TRAIN this model on a down-stream task to be able to use it for predictions and inference.\n"
     ]
    },
    {
     "name": "stdout",
     "output_type": "stream",
     "text": [
      "\n",
      "================================================================================\n",
      "[Epoch 8] Confusion Matrix\n",
      "================================================================================\n",
      "Confusion Matrix:\n",
      "              Predicted\n",
      "           Real    Fake\n",
      "Real   [[  23      11]]\n",
      "Fake   [[   0      18]]\n",
      "\n",
      "Per-Class Metrics:\n",
      "  Real: Precision=1.000, Recall=0.676\n",
      "  Fake: Precision=0.621, Recall=1.000\n",
      "\n",
      "Overall Metrics:\n",
      "  Accuracy:  0.7885\n",
      "  F1:        0.7660\n",
      "  Precision: 0.6207\n",
      "  Recall:    1.0000\n",
      "  Loss:      0.5440\n",
      "\n",
      "Best so far: Epoch 5, F1=0.7660\n",
      "================================================================================\n",
      "\n",
      "Fold 3 evaluation (Best model metrics)\n",
      "{'eval_loss': 0.5440356731414795, 'eval_accuracy': 0.7884615384615384, 'eval_f1': 0.7659574468085106, 'eval_precision': 0.6206896551724138, 'eval_recall': 1.0, 'eval_runtime': 2.1879, 'eval_samples_per_second': 23.767, 'eval_steps_per_second': 0.457, 'epoch': 8.0}\n",
      "--------------------------------------------------------------------------------\n",
      "\n",
      "Fold 4/4\n",
      "--------------------------------------------------------------------------------\n"
     ]
    },
    {
     "data": {
      "application/vnd.jupyter.widget-view+json": {
       "model_id": "c9dd1cf2e04b4a30a51843768c62e58a",
       "version_major": 2,
       "version_minor": 0
      },
      "text/plain": [
       "  0%|          | 0/200 [00:00<?, ?it/s]"
      ]
     },
     "metadata": {},
     "output_type": "display_data"
    },
    {
     "data": {
      "application/vnd.jupyter.widget-view+json": {
       "model_id": "3de2663830b449f69e000601cc2543d7",
       "version_major": 2,
       "version_minor": 0
      },
      "text/plain": [
       "  0%|          | 0/1 [00:00<?, ?it/s]"
      ]
     },
     "metadata": {},
     "output_type": "display_data"
    },
    {
     "name": "stdout",
     "output_type": "stream",
     "text": [
      "{'eval_loss': 0.6898497939109802, 'eval_accuracy': 0.6037735849056604, 'eval_f1': 0.0, 'eval_precision': 0.0, 'eval_recall': 0.0, 'eval_runtime': 2.3869, 'eval_samples_per_second': 22.204, 'eval_steps_per_second': 0.419, 'epoch': 1.0}\n",
      "\n",
      "================================================================================\n",
      "[Epoch 1] Confusion Matrix (New best)\n",
      "================================================================================\n",
      "Confusion Matrix:\n",
      "              Predicted\n",
      "           Real    Fake\n",
      "Real   [[  32       2]]\n",
      "Fake   [[  19       0]]\n",
      "\n",
      "Per-Class Metrics:\n",
      "  Real: Precision=0.627, Recall=0.941\n",
      "  Fake: Precision=0.000, Recall=0.000\n",
      "\n",
      "Overall Metrics:\n",
      "  Accuracy:  0.6038\n",
      "  F1:        0.0000\n",
      "  Precision: 0.0000\n",
      "  Recall:    0.0000\n",
      "  Loss:      0.6898\n",
      "\n",
      "Best so far: Epoch 1, F1=0.0000\n",
      "================================================================================\n",
      "\n"
     ]
    },
    {
     "data": {
      "application/vnd.jupyter.widget-view+json": {
       "model_id": "9ad616849a6a48f284cb22995d752a48",
       "version_major": 2,
       "version_minor": 0
      },
      "text/plain": [
       "  0%|          | 0/1 [00:00<?, ?it/s]"
      ]
     },
     "metadata": {},
     "output_type": "display_data"
    },
    {
     "name": "stdout",
     "output_type": "stream",
     "text": [
      "{'eval_loss': 0.6726938486099243, 'eval_accuracy': 0.6981132075471698, 'eval_f1': 0.38461538461538464, 'eval_precision': 0.7142857142857143, 'eval_recall': 0.2631578947368421, 'eval_runtime': 2.499, 'eval_samples_per_second': 21.208, 'eval_steps_per_second': 0.4, 'epoch': 2.0}\n",
      "\n",
      "================================================================================\n",
      "[Epoch 2] Confusion Matrix (New best)\n",
      "================================================================================\n",
      "Confusion Matrix:\n",
      "              Predicted\n",
      "           Real    Fake\n",
      "Real   [[  32       2]]\n",
      "Fake   [[  14       5]]\n",
      "\n",
      "Per-Class Metrics:\n",
      "  Real: Precision=0.696, Recall=0.941\n",
      "  Fake: Precision=0.714, Recall=0.263\n",
      "\n",
      "Overall Metrics:\n",
      "  Accuracy:  0.6981\n",
      "  F1:        0.3846\n",
      "  Precision: 0.7143\n",
      "  Recall:    0.2632\n",
      "  Loss:      0.6727\n",
      "\n",
      "Best so far: Epoch 2, F1=0.3846\n",
      "================================================================================\n",
      "\n"
     ]
    },
    {
     "data": {
      "application/vnd.jupyter.widget-view+json": {
       "model_id": "b96d963c2fd14c3182b06ac3adfa0205",
       "version_major": 2,
       "version_minor": 0
      },
      "text/plain": [
       "  0%|          | 0/1 [00:00<?, ?it/s]"
      ]
     },
     "metadata": {},
     "output_type": "display_data"
    },
    {
     "name": "stdout",
     "output_type": "stream",
     "text": [
      "{'eval_loss': 0.6428987979888916, 'eval_accuracy': 0.7735849056603774, 'eval_f1': 0.76, 'eval_precision': 0.6129032258064516, 'eval_recall': 1.0, 'eval_runtime': 2.4712, 'eval_samples_per_second': 21.447, 'eval_steps_per_second': 0.405, 'epoch': 3.0}\n",
      "\n",
      "================================================================================\n",
      "[Epoch 3] Confusion Matrix (New best)\n",
      "================================================================================\n",
      "Confusion Matrix:\n",
      "              Predicted\n",
      "           Real    Fake\n",
      "Real   [[  22      12]]\n",
      "Fake   [[   0      19]]\n",
      "\n",
      "Per-Class Metrics:\n",
      "  Real: Precision=1.000, Recall=0.647\n",
      "  Fake: Precision=0.613, Recall=1.000\n",
      "\n",
      "Overall Metrics:\n",
      "  Accuracy:  0.7736\n",
      "  F1:        0.7600\n",
      "  Precision: 0.6129\n",
      "  Recall:    1.0000\n",
      "  Loss:      0.6429\n",
      "\n",
      "Best so far: Epoch 3, F1=0.7600\n",
      "================================================================================\n",
      "\n"
     ]
    },
    {
     "data": {
      "application/vnd.jupyter.widget-view+json": {
       "model_id": "988a1b529b0048519195adad1a25807f",
       "version_major": 2,
       "version_minor": 0
      },
      "text/plain": [
       "  0%|          | 0/1 [00:00<?, ?it/s]"
      ]
     },
     "metadata": {},
     "output_type": "display_data"
    },
    {
     "name": "stdout",
     "output_type": "stream",
     "text": [
      "{'eval_loss': 0.6004484295845032, 'eval_accuracy': 0.7735849056603774, 'eval_f1': 0.76, 'eval_precision': 0.6129032258064516, 'eval_recall': 1.0, 'eval_runtime': 2.5411, 'eval_samples_per_second': 20.857, 'eval_steps_per_second': 0.394, 'epoch': 4.0}\n",
      "\n",
      "================================================================================\n",
      "[Epoch 4] Confusion Matrix\n",
      "================================================================================\n",
      "Confusion Matrix:\n",
      "              Predicted\n",
      "           Real    Fake\n",
      "Real   [[  22      12]]\n",
      "Fake   [[   0      19]]\n",
      "\n",
      "Per-Class Metrics:\n",
      "  Real: Precision=1.000, Recall=0.647\n",
      "  Fake: Precision=0.613, Recall=1.000\n",
      "\n",
      "Overall Metrics:\n",
      "  Accuracy:  0.7736\n",
      "  F1:        0.7600\n",
      "  Precision: 0.6129\n",
      "  Recall:    1.0000\n",
      "  Loss:      0.6004\n",
      "\n",
      "Best so far: Epoch 3, F1=0.7600\n",
      "================================================================================\n",
      "\n",
      "{'loss': 0.6516, 'grad_norm': 2.9854331016540527, 'learning_rate': 5e-06, 'epoch': 5.0}\n"
     ]
    },
    {
     "data": {
      "application/vnd.jupyter.widget-view+json": {
       "model_id": "8f201bdbad7b481c8e862b6add975809",
       "version_major": 2,
       "version_minor": 0
      },
      "text/plain": [
       "  0%|          | 0/1 [00:00<?, ?it/s]"
      ]
     },
     "metadata": {},
     "output_type": "display_data"
    },
    {
     "name": "stdout",
     "output_type": "stream",
     "text": [
      "{'eval_loss': 0.5282425880432129, 'eval_accuracy': 0.8113207547169812, 'eval_f1': 0.7916666666666666, 'eval_precision': 0.6551724137931034, 'eval_recall': 1.0, 'eval_runtime': 2.5003, 'eval_samples_per_second': 21.197, 'eval_steps_per_second': 0.4, 'epoch': 5.0}\n",
      "\n",
      "================================================================================\n",
      "[Epoch 5] Confusion Matrix (New best)\n",
      "================================================================================\n",
      "Confusion Matrix:\n",
      "              Predicted\n",
      "           Real    Fake\n",
      "Real   [[  24      10]]\n",
      "Fake   [[   0      19]]\n",
      "\n",
      "Per-Class Metrics:\n",
      "  Real: Precision=1.000, Recall=0.706\n",
      "  Fake: Precision=0.655, Recall=1.000\n",
      "\n",
      "Overall Metrics:\n",
      "  Accuracy:  0.8113\n",
      "  F1:        0.7917\n",
      "  Precision: 0.6552\n",
      "  Recall:    1.0000\n",
      "  Loss:      0.5282\n",
      "\n",
      "Best so far: Epoch 5, F1=0.7917\n",
      "================================================================================\n",
      "\n"
     ]
    },
    {
     "data": {
      "application/vnd.jupyter.widget-view+json": {
       "model_id": "7b500849428d4a43903473c9de8065d0",
       "version_major": 2,
       "version_minor": 0
      },
      "text/plain": [
       "  0%|          | 0/1 [00:00<?, ?it/s]"
      ]
     },
     "metadata": {},
     "output_type": "display_data"
    },
    {
     "name": "stdout",
     "output_type": "stream",
     "text": [
      "{'eval_loss': 0.44580304622650146, 'eval_accuracy': 0.8113207547169812, 'eval_f1': 0.7916666666666666, 'eval_precision': 0.6551724137931034, 'eval_recall': 1.0, 'eval_runtime': 2.5542, 'eval_samples_per_second': 20.75, 'eval_steps_per_second': 0.392, 'epoch': 6.0}\n",
      "\n",
      "================================================================================\n",
      "[Epoch 6] Confusion Matrix\n",
      "================================================================================\n",
      "Confusion Matrix:\n",
      "              Predicted\n",
      "           Real    Fake\n",
      "Real   [[  24      10]]\n",
      "Fake   [[   0      19]]\n",
      "\n",
      "Per-Class Metrics:\n",
      "  Real: Precision=1.000, Recall=0.706\n",
      "  Fake: Precision=0.655, Recall=1.000\n",
      "\n",
      "Overall Metrics:\n",
      "  Accuracy:  0.8113\n",
      "  F1:        0.7917\n",
      "  Precision: 0.6552\n",
      "  Recall:    1.0000\n",
      "  Loss:      0.4458\n",
      "\n",
      "Best so far: Epoch 5, F1=0.7917\n",
      "================================================================================\n",
      "\n"
     ]
    },
    {
     "data": {
      "application/vnd.jupyter.widget-view+json": {
       "model_id": "368d911d2bec43819e0f21b279a258fa",
       "version_major": 2,
       "version_minor": 0
      },
      "text/plain": [
       "  0%|          | 0/1 [00:00<?, ?it/s]"
      ]
     },
     "metadata": {},
     "output_type": "display_data"
    },
    {
     "name": "stdout",
     "output_type": "stream",
     "text": [
      "{'eval_loss': 0.378466933965683, 'eval_accuracy': 0.8301886792452831, 'eval_f1': 0.8, 'eval_precision': 0.6923076923076923, 'eval_recall': 0.9473684210526315, 'eval_runtime': 2.5808, 'eval_samples_per_second': 20.536, 'eval_steps_per_second': 0.387, 'epoch': 7.0}\n",
      "\n",
      "================================================================================\n",
      "[Epoch 7] Confusion Matrix (New best)\n",
      "================================================================================\n",
      "Confusion Matrix:\n",
      "              Predicted\n",
      "           Real    Fake\n",
      "Real   [[  26       8]]\n",
      "Fake   [[   1      18]]\n",
      "\n",
      "Per-Class Metrics:\n",
      "  Real: Precision=0.963, Recall=0.765\n",
      "  Fake: Precision=0.692, Recall=0.947\n",
      "\n",
      "Overall Metrics:\n",
      "  Accuracy:  0.8302\n",
      "  F1:        0.8000\n",
      "  Precision: 0.6923\n",
      "  Recall:    0.9474\n",
      "  Loss:      0.3785\n",
      "\n",
      "Best so far: Epoch 7, F1=0.8000\n",
      "================================================================================\n",
      "\n"
     ]
    },
    {
     "data": {
      "application/vnd.jupyter.widget-view+json": {
       "model_id": "92af6ab310af4237a3034d5bbe542dd0",
       "version_major": 2,
       "version_minor": 0
      },
      "text/plain": [
       "  0%|          | 0/1 [00:00<?, ?it/s]"
      ]
     },
     "metadata": {},
     "output_type": "display_data"
    },
    {
     "name": "stdout",
     "output_type": "stream",
     "text": [
      "{'eval_loss': 0.343048095703125, 'eval_accuracy': 0.8490566037735849, 'eval_f1': 0.8260869565217391, 'eval_precision': 0.7037037037037037, 'eval_recall': 1.0, 'eval_runtime': 2.518, 'eval_samples_per_second': 21.049, 'eval_steps_per_second': 0.397, 'epoch': 8.0}\n",
      "\n",
      "================================================================================\n",
      "[Epoch 8] Confusion Matrix (New best)\n",
      "================================================================================\n",
      "Confusion Matrix:\n",
      "              Predicted\n",
      "           Real    Fake\n",
      "Real   [[  26       8]]\n",
      "Fake   [[   0      19]]\n",
      "\n",
      "Per-Class Metrics:\n",
      "  Real: Precision=1.000, Recall=0.765\n",
      "  Fake: Precision=0.704, Recall=1.000\n",
      "\n",
      "Overall Metrics:\n",
      "  Accuracy:  0.8491\n",
      "  F1:        0.8261\n",
      "  Precision: 0.7037\n",
      "  Recall:    1.0000\n",
      "  Loss:      0.3430\n",
      "\n",
      "Best so far: Epoch 8, F1=0.8261\n",
      "================================================================================\n",
      "\n"
     ]
    },
    {
     "data": {
      "application/vnd.jupyter.widget-view+json": {
       "model_id": "636ccc9d0359415cbfbeb9fb64e3f333",
       "version_major": 2,
       "version_minor": 0
      },
      "text/plain": [
       "  0%|          | 0/1 [00:00<?, ?it/s]"
      ]
     },
     "metadata": {},
     "output_type": "display_data"
    },
    {
     "name": "stdout",
     "output_type": "stream",
     "text": [
      "{'eval_loss': 0.3031170070171356, 'eval_accuracy': 0.8490566037735849, 'eval_f1': 0.8181818181818182, 'eval_precision': 0.72, 'eval_recall': 0.9473684210526315, 'eval_runtime': 2.5132, 'eval_samples_per_second': 21.088, 'eval_steps_per_second': 0.398, 'epoch': 9.0}\n",
      "\n",
      "================================================================================\n",
      "[Epoch 9] Confusion Matrix\n",
      "================================================================================\n",
      "Confusion Matrix:\n",
      "              Predicted\n",
      "           Real    Fake\n",
      "Real   [[  27       7]]\n",
      "Fake   [[   1      18]]\n",
      "\n",
      "Per-Class Metrics:\n",
      "  Real: Precision=0.964, Recall=0.794\n",
      "  Fake: Precision=0.720, Recall=0.947\n",
      "\n",
      "Overall Metrics:\n",
      "  Accuracy:  0.8491\n",
      "  F1:        0.8182\n",
      "  Precision: 0.7200\n",
      "  Recall:    0.9474\n",
      "  Loss:      0.3031\n",
      "\n",
      "Best so far: Epoch 8, F1=0.8261\n",
      "================================================================================\n",
      "\n",
      "{'loss': 0.3749, 'grad_norm': 1.8437893390655518, 'learning_rate': 1e-05, 'epoch': 10.0}\n"
     ]
    },
    {
     "data": {
      "application/vnd.jupyter.widget-view+json": {
       "model_id": "d65d6f9e3c584828bbfea55cd3d4caf1",
       "version_major": 2,
       "version_minor": 0
      },
      "text/plain": [
       "  0%|          | 0/1 [00:00<?, ?it/s]"
      ]
     },
     "metadata": {},
     "output_type": "display_data"
    },
    {
     "name": "stdout",
     "output_type": "stream",
     "text": [
      "{'eval_loss': 0.280023455619812, 'eval_accuracy': 0.8679245283018868, 'eval_f1': 0.8372093023255814, 'eval_precision': 0.75, 'eval_recall': 0.9473684210526315, 'eval_runtime': 2.4522, 'eval_samples_per_second': 21.613, 'eval_steps_per_second': 0.408, 'epoch': 10.0}\n",
      "\n",
      "================================================================================\n",
      "[Epoch 10] Confusion Matrix (New best)\n",
      "================================================================================\n",
      "Confusion Matrix:\n",
      "              Predicted\n",
      "           Real    Fake\n",
      "Real   [[  28       6]]\n",
      "Fake   [[   1      18]]\n",
      "\n",
      "Per-Class Metrics:\n",
      "  Real: Precision=0.966, Recall=0.824\n",
      "  Fake: Precision=0.750, Recall=0.947\n",
      "\n",
      "Overall Metrics:\n",
      "  Accuracy:  0.8679\n",
      "  F1:        0.8372\n",
      "  Precision: 0.7500\n",
      "  Recall:    0.9474\n",
      "  Loss:      0.2800\n",
      "\n",
      "Best so far: Epoch 10, F1=0.8372\n",
      "================================================================================\n",
      "\n"
     ]
    },
    {
     "data": {
      "application/vnd.jupyter.widget-view+json": {
       "model_id": "4971917ef5b84845851f2783c0c27a79",
       "version_major": 2,
       "version_minor": 0
      },
      "text/plain": [
       "  0%|          | 0/1 [00:00<?, ?it/s]"
      ]
     },
     "metadata": {},
     "output_type": "display_data"
    },
    {
     "name": "stdout",
     "output_type": "stream",
     "text": [
      "{'eval_loss': 0.2687629163265228, 'eval_accuracy': 0.8867924528301887, 'eval_f1': 0.8636363636363636, 'eval_precision': 0.76, 'eval_recall': 1.0, 'eval_runtime': 2.5571, 'eval_samples_per_second': 20.727, 'eval_steps_per_second': 0.391, 'epoch': 11.0}\n",
      "\n",
      "================================================================================\n",
      "[Epoch 11] Confusion Matrix (New best)\n",
      "================================================================================\n",
      "Confusion Matrix:\n",
      "              Predicted\n",
      "           Real    Fake\n",
      "Real   [[  28       6]]\n",
      "Fake   [[   0      19]]\n",
      "\n",
      "Per-Class Metrics:\n",
      "  Real: Precision=1.000, Recall=0.824\n",
      "  Fake: Precision=0.760, Recall=1.000\n",
      "\n",
      "Overall Metrics:\n",
      "  Accuracy:  0.8868\n",
      "  F1:        0.8636\n",
      "  Precision: 0.7600\n",
      "  Recall:    1.0000\n",
      "  Loss:      0.2688\n",
      "\n",
      "Best so far: Epoch 11, F1=0.8636\n",
      "================================================================================\n",
      "\n"
     ]
    },
    {
     "data": {
      "application/vnd.jupyter.widget-view+json": {
       "model_id": "43888740e20c4faaa583b76a29fd6fae",
       "version_major": 2,
       "version_minor": 0
      },
      "text/plain": [
       "  0%|          | 0/1 [00:00<?, ?it/s]"
      ]
     },
     "metadata": {},
     "output_type": "display_data"
    },
    {
     "name": "stdout",
     "output_type": "stream",
     "text": [
      "{'eval_loss': 0.3343336284160614, 'eval_accuracy': 0.8679245283018868, 'eval_f1': 0.8108108108108109, 'eval_precision': 0.8333333333333334, 'eval_recall': 0.7894736842105263, 'eval_runtime': 2.5571, 'eval_samples_per_second': 20.727, 'eval_steps_per_second': 0.391, 'epoch': 12.0}\n",
      "\n",
      "================================================================================\n",
      "[Epoch 12] Confusion Matrix\n",
      "================================================================================\n",
      "Confusion Matrix:\n",
      "              Predicted\n",
      "           Real    Fake\n",
      "Real   [[  31       3]]\n",
      "Fake   [[   4      15]]\n",
      "\n",
      "Per-Class Metrics:\n",
      "  Real: Precision=0.886, Recall=0.912\n",
      "  Fake: Precision=0.833, Recall=0.789\n",
      "\n",
      "Overall Metrics:\n",
      "  Accuracy:  0.8679\n",
      "  F1:        0.8108\n",
      "  Precision: 0.8333\n",
      "  Recall:    0.7895\n",
      "  Loss:      0.3343\n",
      "\n",
      "Best so far: Epoch 11, F1=0.8636\n",
      "================================================================================\n",
      "\n"
     ]
    },
    {
     "data": {
      "application/vnd.jupyter.widget-view+json": {
       "model_id": "99b1c027fe1a4bdc8729215fb8d64b5d",
       "version_major": 2,
       "version_minor": 0
      },
      "text/plain": [
       "  0%|          | 0/1 [00:00<?, ?it/s]"
      ]
     },
     "metadata": {},
     "output_type": "display_data"
    },
    {
     "name": "stdout",
     "output_type": "stream",
     "text": [
      "{'eval_loss': 0.267289936542511, 'eval_accuracy': 0.8867924528301887, 'eval_f1': 0.8636363636363636, 'eval_precision': 0.76, 'eval_recall': 1.0, 'eval_runtime': 2.5364, 'eval_samples_per_second': 20.896, 'eval_steps_per_second': 0.394, 'epoch': 13.0}\n",
      "\n",
      "================================================================================\n",
      "[Epoch 13] Confusion Matrix\n",
      "================================================================================\n",
      "Confusion Matrix:\n",
      "              Predicted\n",
      "           Real    Fake\n",
      "Real   [[  28       6]]\n",
      "Fake   [[   0      19]]\n",
      "\n",
      "Per-Class Metrics:\n",
      "  Real: Precision=1.000, Recall=0.824\n",
      "  Fake: Precision=0.760, Recall=1.000\n",
      "\n",
      "Overall Metrics:\n",
      "  Accuracy:  0.8868\n",
      "  F1:        0.8636\n",
      "  Precision: 0.7600\n",
      "  Recall:    1.0000\n",
      "  Loss:      0.2673\n",
      "\n",
      "Best so far: Epoch 11, F1=0.8636\n",
      "================================================================================\n",
      "\n"
     ]
    },
    {
     "data": {
      "application/vnd.jupyter.widget-view+json": {
       "model_id": "a34015cdfb8b49a7878dfdaa8474fedd",
       "version_major": 2,
       "version_minor": 0
      },
      "text/plain": [
       "  0%|          | 0/1 [00:00<?, ?it/s]"
      ]
     },
     "metadata": {},
     "output_type": "display_data"
    },
    {
     "name": "stdout",
     "output_type": "stream",
     "text": [
      "{'eval_loss': 0.31105104088783264, 'eval_accuracy': 0.8867924528301887, 'eval_f1': 0.8421052631578947, 'eval_precision': 0.8421052631578947, 'eval_recall': 0.8421052631578947, 'eval_runtime': 2.5314, 'eval_samples_per_second': 20.937, 'eval_steps_per_second': 0.395, 'epoch': 14.0}\n",
      "\n",
      "================================================================================\n",
      "[Epoch 14] Confusion Matrix\n",
      "================================================================================\n",
      "Confusion Matrix:\n",
      "              Predicted\n",
      "           Real    Fake\n",
      "Real   [[  31       3]]\n",
      "Fake   [[   3      16]]\n",
      "\n",
      "Per-Class Metrics:\n",
      "  Real: Precision=0.912, Recall=0.912\n",
      "  Fake: Precision=0.842, Recall=0.842\n",
      "\n",
      "Overall Metrics:\n",
      "  Accuracy:  0.8868\n",
      "  F1:        0.8421\n",
      "  Precision: 0.8421\n",
      "  Recall:    0.8421\n",
      "  Loss:      0.3111\n",
      "\n",
      "Best so far: Epoch 11, F1=0.8636\n",
      "================================================================================\n",
      "\n",
      "{'train_runtime': 295.44, 'train_samples_per_second': 10.764, 'train_steps_per_second': 0.677, 'train_loss': 0.4283861296517508, 'epoch': 14.0}\n",
      "\n",
      "================================================================================\n",
      "TRAINING COMPLETE\n",
      "================================================================================\n",
      "Best Epoch: 11\n",
      "Best F1: 0.8636\n",
      "Best checkpoint: /Users/photoli93/Desktop/Projets perso Python/esa_fake_or_real/results/distilbert_fake_or_real/checkpoint-110\n",
      "Checkpoint verified on disk\n",
      "\n",
      "Verifying loaded model\n"
     ]
    },
    {
     "data": {
      "application/vnd.jupyter.widget-view+json": {
       "model_id": "8a974cf896614578bdb033af25b021c5",
       "version_major": 2,
       "version_minor": 0
      },
      "text/plain": [
       "  0%|          | 0/1 [00:00<?, ?it/s]"
      ]
     },
     "metadata": {},
     "output_type": "display_data"
    },
    {
     "name": "stdout",
     "output_type": "stream",
     "text": [
      "Final Model F1: 0.8636\n",
      "Expected Best F1: 0.8636\n",
      "Correct: Best model was loaded\n",
      "================================================================================\n",
      "\n",
      "--------------------------------------------------------------------------------\n",
      "\n",
      "Fold trainer state\n",
      "Best checkpoint: /Users/photoli93/Desktop/Projets perso Python/esa_fake_or_real/results/distilbert_fake_or_real/checkpoint-110\n",
      "Best metric value (eval_f1): 0.8636363636363636\n",
      "--------------------------------------------------------------------------------\n"
     ]
    },
    {
     "data": {
      "application/vnd.jupyter.widget-view+json": {
       "model_id": "eaefe5e6b8d14e1496604464f022f390",
       "version_major": 2,
       "version_minor": 0
      },
      "text/plain": [
       "  0%|          | 0/1 [00:00<?, ?it/s]"
      ]
     },
     "metadata": {},
     "output_type": "display_data"
    },
    {
     "name": "stdout",
     "output_type": "stream",
     "text": [
      "\n",
      "================================================================================\n",
      "[Epoch 14] Confusion Matrix\n",
      "================================================================================\n",
      "Confusion Matrix:\n",
      "              Predicted\n",
      "           Real    Fake\n",
      "Real   [[  28       6]]\n",
      "Fake   [[   0      19]]\n",
      "\n",
      "Per-Class Metrics:\n",
      "  Real: Precision=1.000, Recall=0.824\n",
      "  Fake: Precision=0.760, Recall=1.000\n",
      "\n",
      "Overall Metrics:\n",
      "  Accuracy:  0.8868\n",
      "  F1:        0.8636\n",
      "  Precision: 0.7600\n",
      "  Recall:    1.0000\n",
      "  Loss:      0.2688\n",
      "\n",
      "Best so far: Epoch 11, F1=0.8636\n",
      "================================================================================\n",
      "\n",
      "Fold 4 evaluation (Best model metrics)\n",
      "{'eval_loss': 0.2687629163265228, 'eval_accuracy': 0.8867924528301887, 'eval_f1': 0.8636363636363636, 'eval_precision': 0.76, 'eval_recall': 1.0, 'eval_runtime': 2.4976, 'eval_samples_per_second': 21.22, 'eval_steps_per_second': 0.4, 'epoch': 14.0}\n",
      "\n",
      "Cross-validation summary\n",
      "{'eval_loss': 0.40901027619838715, 'eval_accuracy': 0.839585685104553, 'eval_f1': 0.8113878143133463, 'eval_precision': 0.6990685176892073, 'eval_recall': 0.972953216374269, 'eval_runtime': 2.3030999999999997, 'eval_samples_per_second': 23.076, 'eval_steps_per_second': 0.4355, 'epoch': 10.75}\n",
      "\n",
      "Final training on full dataset\n"
     ]
    },
    {
     "name": "stderr",
     "output_type": "stream",
     "text": [
      "Some weights of DistilBertForSequenceClassification were not initialized from the model checkpoint at distilbert-base-uncased and are newly initialized: ['classifier.bias', 'classifier.weight', 'pre_classifier.bias', 'pre_classifier.weight']\n",
      "You should probably TRAIN this model on a down-stream task to be able to use it for predictions and inference.\n"
     ]
    },
    {
     "name": "stdout",
     "output_type": "stream",
     "text": [
      "\n",
      "Starting final training on full training dataset\n"
     ]
    },
    {
     "data": {
      "application/vnd.jupyter.widget-view+json": {
       "model_id": "c90795fae44e4683b46de9bab4f7de6f",
       "version_major": 2,
       "version_minor": 0
      },
      "text/plain": [
       "  0%|          | 0/280 [00:00<?, ?it/s]"
      ]
     },
     "metadata": {},
     "output_type": "display_data"
    },
    {
     "data": {
      "application/vnd.jupyter.widget-view+json": {
       "model_id": "ff6abd6b44f3402d88faa15fb2a9e9f1",
       "version_major": 2,
       "version_minor": 0
      },
      "text/plain": [
       "  0%|          | 0/1 [00:00<?, ?it/s]"
      ]
     },
     "metadata": {},
     "output_type": "display_data"
    },
    {
     "name": "stdout",
     "output_type": "stream",
     "text": [
      "{'eval_loss': 0.7277801036834717, 'eval_accuracy': 0.5365853658536586, 'eval_f1': 0.0, 'eval_precision': 0.0, 'eval_recall': 0.0, 'eval_runtime': 2.3211, 'eval_samples_per_second': 17.664, 'eval_steps_per_second': 0.431, 'epoch': 1.0}\n",
      "\n",
      "================================================================================\n",
      "[Epoch 1] Confusion Matrix (New best)\n",
      "================================================================================\n",
      "Confusion Matrix:\n",
      "              Predicted\n",
      "           Real    Fake\n",
      "Real   [[  22       0]]\n",
      "Fake   [[  19       0]]\n",
      "\n",
      "Per-Class Metrics:\n",
      "  Real: Precision=0.537, Recall=1.000\n",
      "  Fake: Precision=0.000, Recall=0.000\n",
      "\n",
      "Overall Metrics:\n",
      "  Accuracy:  0.5366\n",
      "  F1:        0.0000\n",
      "  Precision: 0.0000\n",
      "  Recall:    0.0000\n",
      "  Loss:      0.7278\n",
      "\n",
      "Best so far: Epoch 1, F1=0.0000\n",
      "================================================================================\n",
      "\n"
     ]
    },
    {
     "data": {
      "application/vnd.jupyter.widget-view+json": {
       "model_id": "d698c2aa01a1420ab74d544337ca91c0",
       "version_major": 2,
       "version_minor": 0
      },
      "text/plain": [
       "  0%|          | 0/1 [00:00<?, ?it/s]"
      ]
     },
     "metadata": {},
     "output_type": "display_data"
    },
    {
     "name": "stdout",
     "output_type": "stream",
     "text": [
      "{'eval_loss': 0.6991944909095764, 'eval_accuracy': 0.5365853658536586, 'eval_f1': 0.0, 'eval_precision': 0.0, 'eval_recall': 0.0, 'eval_runtime': 2.2938, 'eval_samples_per_second': 17.874, 'eval_steps_per_second': 0.436, 'epoch': 2.0}\n",
      "\n",
      "================================================================================\n",
      "[Epoch 2] Confusion Matrix\n",
      "================================================================================\n",
      "Confusion Matrix:\n",
      "              Predicted\n",
      "           Real    Fake\n",
      "Real   [[  22       0]]\n",
      "Fake   [[  19       0]]\n",
      "\n",
      "Per-Class Metrics:\n",
      "  Real: Precision=0.537, Recall=1.000\n",
      "  Fake: Precision=0.000, Recall=0.000\n",
      "\n",
      "Overall Metrics:\n",
      "  Accuracy:  0.5366\n",
      "  F1:        0.0000\n",
      "  Precision: 0.0000\n",
      "  Recall:    0.0000\n",
      "  Loss:      0.6992\n",
      "\n",
      "Best so far: Epoch 1, F1=0.0000\n",
      "================================================================================\n",
      "\n"
     ]
    },
    {
     "data": {
      "application/vnd.jupyter.widget-view+json": {
       "model_id": "8bacf01ddbb94d86a99e31b47525f8c9",
       "version_major": 2,
       "version_minor": 0
      },
      "text/plain": [
       "  0%|          | 0/1 [00:00<?, ?it/s]"
      ]
     },
     "metadata": {},
     "output_type": "display_data"
    },
    {
     "name": "stdout",
     "output_type": "stream",
     "text": [
      "{'eval_loss': 0.653232216835022, 'eval_accuracy': 0.8048780487804879, 'eval_f1': 0.75, 'eval_precision': 0.9230769230769231, 'eval_recall': 0.631578947368421, 'eval_runtime': 4.8701, 'eval_samples_per_second': 8.419, 'eval_steps_per_second': 0.205, 'epoch': 3.0}\n",
      "\n",
      "================================================================================\n",
      "[Epoch 3] Confusion Matrix (New best)\n",
      "================================================================================\n",
      "Confusion Matrix:\n",
      "              Predicted\n",
      "           Real    Fake\n",
      "Real   [[  21       1]]\n",
      "Fake   [[   7      12]]\n",
      "\n",
      "Per-Class Metrics:\n",
      "  Real: Precision=0.750, Recall=0.955\n",
      "  Fake: Precision=0.923, Recall=0.632\n",
      "\n",
      "Overall Metrics:\n",
      "  Accuracy:  0.8049\n",
      "  F1:        0.7500\n",
      "  Precision: 0.9231\n",
      "  Recall:    0.6316\n",
      "  Loss:      0.6532\n",
      "\n",
      "Best so far: Epoch 3, F1=0.7500\n",
      "================================================================================\n",
      "\n",
      "{'loss': 0.6633, 'grad_norm': 1.7586039304733276, 'learning_rate': 5e-06, 'epoch': 3.57}\n"
     ]
    },
    {
     "data": {
      "application/vnd.jupyter.widget-view+json": {
       "model_id": "3511651c01164f40815493e69525fefd",
       "version_major": 2,
       "version_minor": 0
      },
      "text/plain": [
       "  0%|          | 0/1 [00:00<?, ?it/s]"
      ]
     },
     "metadata": {},
     "output_type": "display_data"
    },
    {
     "name": "stdout",
     "output_type": "stream",
     "text": [
      "{'eval_loss': 0.5721936225891113, 'eval_accuracy': 0.8048780487804879, 'eval_f1': 0.8260869565217391, 'eval_precision': 0.7037037037037037, 'eval_recall': 1.0, 'eval_runtime': 4.9388, 'eval_samples_per_second': 8.302, 'eval_steps_per_second': 0.202, 'epoch': 4.0}\n",
      "\n",
      "================================================================================\n",
      "[Epoch 4] Confusion Matrix (New best)\n",
      "================================================================================\n",
      "Confusion Matrix:\n",
      "              Predicted\n",
      "           Real    Fake\n",
      "Real   [[  14       8]]\n",
      "Fake   [[   0      19]]\n",
      "\n",
      "Per-Class Metrics:\n",
      "  Real: Precision=1.000, Recall=0.636\n",
      "  Fake: Precision=0.704, Recall=1.000\n",
      "\n",
      "Overall Metrics:\n",
      "  Accuracy:  0.8049\n",
      "  F1:        0.8261\n",
      "  Precision: 0.7037\n",
      "  Recall:    1.0000\n",
      "  Loss:      0.5722\n",
      "\n",
      "Best so far: Epoch 4, F1=0.8261\n",
      "================================================================================\n",
      "\n"
     ]
    },
    {
     "data": {
      "application/vnd.jupyter.widget-view+json": {
       "model_id": "67cd51054d474b989456d6ff3c8fe831",
       "version_major": 2,
       "version_minor": 0
      },
      "text/plain": [
       "  0%|          | 0/1 [00:00<?, ?it/s]"
      ]
     },
     "metadata": {},
     "output_type": "display_data"
    },
    {
     "name": "stdout",
     "output_type": "stream",
     "text": [
      "{'eval_loss': 0.4825575649738312, 'eval_accuracy': 0.8048780487804879, 'eval_f1': 0.8260869565217391, 'eval_precision': 0.7037037037037037, 'eval_recall': 1.0, 'eval_runtime': 4.6104, 'eval_samples_per_second': 8.893, 'eval_steps_per_second': 0.217, 'epoch': 5.0}\n",
      "\n",
      "================================================================================\n",
      "[Epoch 5] Confusion Matrix\n",
      "================================================================================\n",
      "Confusion Matrix:\n",
      "              Predicted\n",
      "           Real    Fake\n",
      "Real   [[  14       8]]\n",
      "Fake   [[   0      19]]\n",
      "\n",
      "Per-Class Metrics:\n",
      "  Real: Precision=1.000, Recall=0.636\n",
      "  Fake: Precision=0.704, Recall=1.000\n",
      "\n",
      "Overall Metrics:\n",
      "  Accuracy:  0.8049\n",
      "  F1:        0.8261\n",
      "  Precision: 0.7037\n",
      "  Recall:    1.0000\n",
      "  Loss:      0.4826\n",
      "\n",
      "Best so far: Epoch 4, F1=0.8261\n",
      "================================================================================\n",
      "\n"
     ]
    },
    {
     "data": {
      "application/vnd.jupyter.widget-view+json": {
       "model_id": "c8adb1db2e654f9f8137423720318419",
       "version_major": 2,
       "version_minor": 0
      },
      "text/plain": [
       "  0%|          | 0/1 [00:00<?, ?it/s]"
      ]
     },
     "metadata": {},
     "output_type": "display_data"
    },
    {
     "name": "stdout",
     "output_type": "stream",
     "text": [
      "{'eval_loss': 0.3731321096420288, 'eval_accuracy': 0.8536585365853658, 'eval_f1': 0.85, 'eval_precision': 0.8095238095238095, 'eval_recall': 0.8947368421052632, 'eval_runtime': 4.271, 'eval_samples_per_second': 9.6, 'eval_steps_per_second': 0.234, 'epoch': 6.0}\n",
      "\n",
      "================================================================================\n",
      "[Epoch 6] Confusion Matrix (New best)\n",
      "================================================================================\n",
      "Confusion Matrix:\n",
      "              Predicted\n",
      "           Real    Fake\n",
      "Real   [[  18       4]]\n",
      "Fake   [[   2      17]]\n",
      "\n",
      "Per-Class Metrics:\n",
      "  Real: Precision=0.900, Recall=0.818\n",
      "  Fake: Precision=0.810, Recall=0.895\n",
      "\n",
      "Overall Metrics:\n",
      "  Accuracy:  0.8537\n",
      "  F1:        0.8500\n",
      "  Precision: 0.8095\n",
      "  Recall:    0.8947\n",
      "  Loss:      0.3731\n",
      "\n",
      "Best so far: Epoch 6, F1=0.8500\n",
      "================================================================================\n",
      "\n"
     ]
    },
    {
     "data": {
      "application/vnd.jupyter.widget-view+json": {
       "model_id": "3b405f511c564e77a2ca3cca137ced02",
       "version_major": 2,
       "version_minor": 0
      },
      "text/plain": [
       "  0%|          | 0/1 [00:00<?, ?it/s]"
      ]
     },
     "metadata": {},
     "output_type": "display_data"
    },
    {
     "name": "stdout",
     "output_type": "stream",
     "text": [
      "{'eval_loss': 0.3241245448589325, 'eval_accuracy': 0.8780487804878049, 'eval_f1': 0.8717948717948718, 'eval_precision': 0.85, 'eval_recall': 0.8947368421052632, 'eval_runtime': 4.6368, 'eval_samples_per_second': 8.842, 'eval_steps_per_second': 0.216, 'epoch': 7.0}\n",
      "\n",
      "================================================================================\n",
      "[Epoch 7] Confusion Matrix (New best)\n",
      "================================================================================\n",
      "Confusion Matrix:\n",
      "              Predicted\n",
      "           Real    Fake\n",
      "Real   [[  19       3]]\n",
      "Fake   [[   2      17]]\n",
      "\n",
      "Per-Class Metrics:\n",
      "  Real: Precision=0.905, Recall=0.864\n",
      "  Fake: Precision=0.850, Recall=0.895\n",
      "\n",
      "Overall Metrics:\n",
      "  Accuracy:  0.8780\n",
      "  F1:        0.8718\n",
      "  Precision: 0.8500\n",
      "  Recall:    0.8947\n",
      "  Loss:      0.3241\n",
      "\n",
      "Best so far: Epoch 7, F1=0.8718\n",
      "================================================================================\n",
      "\n",
      "{'loss': 0.4052, 'grad_norm': 4.483792304992676, 'learning_rate': 1e-05, 'epoch': 7.14}\n"
     ]
    },
    {
     "data": {
      "application/vnd.jupyter.widget-view+json": {
       "model_id": "e3cc775b8c6e47338afe754ad3fd86ea",
       "version_major": 2,
       "version_minor": 0
      },
      "text/plain": [
       "  0%|          | 0/1 [00:00<?, ?it/s]"
      ]
     },
     "metadata": {},
     "output_type": "display_data"
    },
    {
     "name": "stdout",
     "output_type": "stream",
     "text": [
      "{'eval_loss': 0.29327571392059326, 'eval_accuracy': 0.8780487804878049, 'eval_f1': 0.8837209302325582, 'eval_precision': 0.7916666666666666, 'eval_recall': 1.0, 'eval_runtime': 4.5572, 'eval_samples_per_second': 8.997, 'eval_steps_per_second': 0.219, 'epoch': 8.0}\n",
      "\n",
      "================================================================================\n",
      "[Epoch 8] Confusion Matrix (New best)\n",
      "================================================================================\n",
      "Confusion Matrix:\n",
      "              Predicted\n",
      "           Real    Fake\n",
      "Real   [[  17       5]]\n",
      "Fake   [[   0      19]]\n",
      "\n",
      "Per-Class Metrics:\n",
      "  Real: Precision=1.000, Recall=0.773\n",
      "  Fake: Precision=0.792, Recall=1.000\n",
      "\n",
      "Overall Metrics:\n",
      "  Accuracy:  0.8780\n",
      "  F1:        0.8837\n",
      "  Precision: 0.7917\n",
      "  Recall:    1.0000\n",
      "  Loss:      0.2933\n",
      "\n",
      "Best so far: Epoch 8, F1=0.8837\n",
      "================================================================================\n",
      "\n"
     ]
    },
    {
     "data": {
      "application/vnd.jupyter.widget-view+json": {
       "model_id": "4df40ca8cf0542cf9eb5bf1ba6e2e98b",
       "version_major": 2,
       "version_minor": 0
      },
      "text/plain": [
       "  0%|          | 0/1 [00:00<?, ?it/s]"
      ]
     },
     "metadata": {},
     "output_type": "display_data"
    },
    {
     "name": "stdout",
     "output_type": "stream",
     "text": [
      "{'eval_loss': 0.34198325872421265, 'eval_accuracy': 0.8780487804878049, 'eval_f1': 0.8717948717948718, 'eval_precision': 0.85, 'eval_recall': 0.8947368421052632, 'eval_runtime': 4.6238, 'eval_samples_per_second': 8.867, 'eval_steps_per_second': 0.216, 'epoch': 9.0}\n",
      "\n",
      "================================================================================\n",
      "[Epoch 9] Confusion Matrix\n",
      "================================================================================\n",
      "Confusion Matrix:\n",
      "              Predicted\n",
      "           Real    Fake\n",
      "Real   [[  19       3]]\n",
      "Fake   [[   2      17]]\n",
      "\n",
      "Per-Class Metrics:\n",
      "  Real: Precision=0.905, Recall=0.864\n",
      "  Fake: Precision=0.850, Recall=0.895\n",
      "\n",
      "Overall Metrics:\n",
      "  Accuracy:  0.8780\n",
      "  F1:        0.8718\n",
      "  Precision: 0.8500\n",
      "  Recall:    0.8947\n",
      "  Loss:      0.3420\n",
      "\n",
      "Best so far: Epoch 8, F1=0.8837\n",
      "================================================================================\n",
      "\n"
     ]
    },
    {
     "data": {
      "application/vnd.jupyter.widget-view+json": {
       "model_id": "a8df7c00a7d34894a525e1108025473b",
       "version_major": 2,
       "version_minor": 0
      },
      "text/plain": [
       "  0%|          | 0/1 [00:00<?, ?it/s]"
      ]
     },
     "metadata": {},
     "output_type": "display_data"
    },
    {
     "name": "stdout",
     "output_type": "stream",
     "text": [
      "{'eval_loss': 0.4958080053329468, 'eval_accuracy': 0.8292682926829268, 'eval_f1': 0.8, 'eval_precision': 0.875, 'eval_recall': 0.7368421052631579, 'eval_runtime': 4.7439, 'eval_samples_per_second': 8.643, 'eval_steps_per_second': 0.211, 'epoch': 10.0}\n",
      "\n",
      "================================================================================\n",
      "[Epoch 10] Confusion Matrix\n",
      "================================================================================\n",
      "Confusion Matrix:\n",
      "              Predicted\n",
      "           Real    Fake\n",
      "Real   [[  20       2]]\n",
      "Fake   [[   5      14]]\n",
      "\n",
      "Per-Class Metrics:\n",
      "  Real: Precision=0.800, Recall=0.909\n",
      "  Fake: Precision=0.875, Recall=0.737\n",
      "\n",
      "Overall Metrics:\n",
      "  Accuracy:  0.8293\n",
      "  F1:        0.8000\n",
      "  Precision: 0.8750\n",
      "  Recall:    0.7368\n",
      "  Loss:      0.4958\n",
      "\n",
      "Best so far: Epoch 8, F1=0.8837\n",
      "================================================================================\n",
      "\n",
      "{'loss': 0.2398, 'grad_norm': 1.7651311159133911, 'learning_rate': 1.5e-05, 'epoch': 10.71}\n"
     ]
    },
    {
     "data": {
      "application/vnd.jupyter.widget-view+json": {
       "model_id": "2005a6d24aad4107a963ce1d7d5deacb",
       "version_major": 2,
       "version_minor": 0
      },
      "text/plain": [
       "  0%|          | 0/1 [00:00<?, ?it/s]"
      ]
     },
     "metadata": {},
     "output_type": "display_data"
    },
    {
     "name": "stdout",
     "output_type": "stream",
     "text": [
      "{'eval_loss': 0.27769654989242554, 'eval_accuracy': 0.8780487804878049, 'eval_f1': 0.8837209302325582, 'eval_precision': 0.7916666666666666, 'eval_recall': 1.0, 'eval_runtime': 4.2262, 'eval_samples_per_second': 9.701, 'eval_steps_per_second': 0.237, 'epoch': 11.0}\n",
      "\n",
      "================================================================================\n",
      "[Epoch 11] Confusion Matrix\n",
      "================================================================================\n",
      "Confusion Matrix:\n",
      "              Predicted\n",
      "           Real    Fake\n",
      "Real   [[  17       5]]\n",
      "Fake   [[   0      19]]\n",
      "\n",
      "Per-Class Metrics:\n",
      "  Real: Precision=1.000, Recall=0.773\n",
      "  Fake: Precision=0.792, Recall=1.000\n",
      "\n",
      "Overall Metrics:\n",
      "  Accuracy:  0.8780\n",
      "  F1:        0.8837\n",
      "  Precision: 0.7917\n",
      "  Recall:    1.0000\n",
      "  Loss:      0.2777\n",
      "\n",
      "Best so far: Epoch 8, F1=0.8837\n",
      "================================================================================\n",
      "\n",
      "{'train_runtime': 339.7678, 'train_samples_per_second': 12.479, 'train_steps_per_second': 0.824, 'train_loss': 0.42893810086436085, 'epoch': 11.0}\n",
      "\n",
      "================================================================================\n",
      "TRAINING COMPLETE\n",
      "================================================================================\n",
      "Best Epoch: 8\n",
      "Best F1: 0.8837\n",
      "Best checkpoint: /Users/photoli93/Desktop/Projets perso Python/esa_fake_or_real/results/distilbert_fake_or_real/checkpoint-112\n",
      "Checkpoint verified on disk\n",
      "\n",
      "Verifying loaded model\n"
     ]
    },
    {
     "data": {
      "application/vnd.jupyter.widget-view+json": {
       "model_id": "ed6e4909784d4d9ca22be835514675bb",
       "version_major": 2,
       "version_minor": 0
      },
      "text/plain": [
       "  0%|          | 0/1 [00:00<?, ?it/s]"
      ]
     },
     "metadata": {},
     "output_type": "display_data"
    },
    {
     "name": "stdout",
     "output_type": "stream",
     "text": [
      "Final Model F1: 0.8837\n",
      "Expected Best F1: 0.8837\n",
      "Correct: Best model was loaded\n",
      "================================================================================\n",
      "\n",
      "--------------------------------------------------------------------------------\n",
      "\n",
      "Final trainer state\n",
      "Best checkpoint: /Users/photoli93/Desktop/Projets perso Python/esa_fake_or_real/results/distilbert_fake_or_real/checkpoint-112\n",
      "Best metric value (eval_f1): 0.8837209302325582\n",
      "--------------------------------------------------------------------------------\n"
     ]
    },
    {
     "data": {
      "application/vnd.jupyter.widget-view+json": {
       "model_id": "5e7d91d2c01344b896004d5d65677ab1",
       "version_major": 2,
       "version_minor": 0
      },
      "text/plain": [
       "  0%|          | 0/1 [00:00<?, ?it/s]"
      ]
     },
     "metadata": {},
     "output_type": "display_data"
    },
    {
     "name": "stdout",
     "output_type": "stream",
     "text": [
      "\n",
      "================================================================================\n",
      "[Epoch 11] Confusion Matrix\n",
      "================================================================================\n",
      "Confusion Matrix:\n",
      "              Predicted\n",
      "           Real    Fake\n",
      "Real   [[  17       5]]\n",
      "Fake   [[   0      19]]\n",
      "\n",
      "Per-Class Metrics:\n",
      "  Real: Precision=1.000, Recall=0.773\n",
      "  Fake: Precision=0.792, Recall=1.000\n",
      "\n",
      "Overall Metrics:\n",
      "  Accuracy:  0.8780\n",
      "  F1:        0.8837\n",
      "  Precision: 0.7917\n",
      "  Recall:    1.0000\n",
      "  Loss:      0.2933\n",
      "\n",
      "Best so far: Epoch 8, F1=0.8837\n",
      "================================================================================\n",
      "\n",
      "Final model and tokenizer saved to: /Users/photoli93/Desktop/Projets perso Python/esa_fake_or_real/results/distilbert_fake_or_real/final_model\n"
     ]
    }
   ],
   "source": [
    "# Cross-validation settings\n",
    "k = 4\n",
    "# Load the raw training data to extract the original_index for GroupKFold\n",
    "raw_train_df = pd.read_csv(config.PROCESSED_DATA_DIR / \"train_exploded.csv\")\n",
    "\n",
    "# Ensure 'original_index' exists and use it as the grouping variable\n",
    "if 'original_index' not in raw_train_df.columns:\n",
    "    print(\"Creating 'original_index' for GroupKFold\")\n",
    "    raw_train_df['original_index'] = raw_train_df.groupby(['file1_text', 'file2_text']).ngroup()\n",
    "\n",
    "# Extract the groups array from the raw data\n",
    "# This array contains the original text pair ID for every chunk\n",
    "groups = raw_train_df['original_index'].values\n",
    "\n",
    "# Use GroupKFold to ensure all chunks from the same original text pair are in the same fold\n",
    "gkf = GroupKFold(n_splits=k)\n",
    "\n",
    "all_fold_metrics = []\n",
    "\n",
    "# The GroupKFold split is performed on the indices of the full dataset\n",
    "# The 'groups' argument tells GroupKFold how to split the data\n",
    "for fold, (train_idx, val_idx) in enumerate(gkf.split(np.arange(len(train_dataset)), groups=groups)):\n",
    "    print(\"-\" * 80)\n",
    "    print(f\"\\nFold {fold+1}/{k}\")\n",
    "    print(\"-\" * 80)\n",
    "    \n",
    "    # Subsets for this fold (rest of the loop is unchanged)\n",
    "    train_fold = torch.utils.data.Subset(train_dataset, train_idx)\n",
    "    val_fold = torch.utils.data.Subset(train_dataset, val_idx)\n",
    "    \n",
    "    # Subsets for this fold\n",
    "    train_fold = torch.utils.data.Subset(train_dataset, train_idx)\n",
    "    val_fold = torch.utils.data.Subset(train_dataset, val_idx)\n",
    "    \n",
    "    # Load pre-trained model\n",
    "    model_fold = AutoModelForSequenceClassification.from_pretrained(\n",
    "        \"distilbert-base-uncased\",\n",
    "        num_labels=2\n",
    "    )\n",
    "    \n",
    "    # Callback for the confusion matrix\n",
    "    cm_callback_fold = ConfusionMatrixCallback()\n",
    "    \n",
    "    # Init trainer for this fold\n",
    "    trainer_fold = WeightedTrainer(\n",
    "        model=model_fold,\n",
    "        args=training_args,\n",
    "        train_dataset=train_fold,\n",
    "        eval_dataset=val_fold,\n",
    "        compute_metrics=compute_metrics,\n",
    "        callbacks=[EarlyStoppingCallback(early_stopping_patience=3),\n",
    "                   cm_callback_fold]\n",
    "    )\n",
    "    \n",
    "    cm_callback_fold.set_trainer(trainer_fold)\n",
    "    \n",
    "    # Training\n",
    "    trainer_fold.train()\n",
    "\n",
    "    # Print fold state for clarity\n",
    "    print(\"-\" * 80)\n",
    "    print(\"\\nFold trainer state\")\n",
    "    print(f\"Best checkpoint: {trainer_fold.state.best_model_checkpoint}\")\n",
    "    print(f\"Best metric value ({training_args.metric_for_best_model}): {trainer_fold.state.best_metric}\")\n",
    "    print(\"-\" * 80)\n",
    "\n",
    "    # Save best model of this fold (will save the reloaded best model)\n",
    "    fold_model_path = OUTPUT_DIR / f\"fold_{fold+1}\"\n",
    "    trainer_fold.save_model(str(fold_model_path))\n",
    "    \n",
    "    # Evaluation (will use the reloaded best model weights)\n",
    "    metrics = trainer_fold.evaluate()\n",
    "    all_fold_metrics.append(metrics)\n",
    "    print(f\"Fold {fold+1} evaluation (Best model metrics)\")\n",
    "    print(metrics)\n",
    "\n",
    "    # Memory cleaning\n",
    "    del model_fold, trainer_fold\n",
    "    torch.mps.empty_cache()\n",
    "\n",
    "# Average metrics on all the folds\n",
    "avg_metrics = {k: np.mean([m[k] for m in all_fold_metrics if k in m]) for k in all_fold_metrics[0]}\n",
    "print(\"\\nCross-validation summary\")\n",
    "print(avg_metrics)\n",
    "\n",
    "# Final training on full dataset\n",
    "print(\"\\nFinal training on full dataset\")\n",
    "\n",
    "final_model = AutoModelForSequenceClassification.from_pretrained(\n",
    "    \"distilbert-base-uncased\",\n",
    "    num_labels=2\n",
    ")\n",
    "\n",
    "cm_callback_final = ConfusionMatrixCallback()\n",
    "final_trainer = WeightedTrainer(\n",
    "    model=final_model,\n",
    "    args=training_args,\n",
    "    train_dataset=train_dataset,\n",
    "    eval_dataset=val_dataset,\n",
    "    compute_metrics=compute_metrics,\n",
    "    callbacks=[EarlyStoppingCallback(early_stopping_patience=3),\n",
    "               cm_callback_final]\n",
    ")\n",
    "cm_callback_final.set_trainer(final_trainer)\n",
    "\n",
    "print(\"\\nStarting final training on full training dataset\")\n",
    "final_trainer.train()\n",
    "\n",
    "# The best model is automatically loaded into the trainer's model attribute\n",
    "# because load_best_model_at_end=True was set in TrainingArguments.\n",
    "# We save the model that is currently loaded in the trainer.\n",
    "\n",
    "# Print final state for clarity\n",
    "print(\"-\" * 80)\n",
    "print(\"\\nFinal trainer state\")\n",
    "print(f\"Best checkpoint: {final_trainer.state.best_model_checkpoint}\")\n",
    "print(f\"Best metric value ({training_args.metric_for_best_model}): {final_trainer.state.best_metric}\")\n",
    "print(\"-\" * 80)\n",
    "\n",
    "# Final evaluation (will use the reloaded best model weights)\n",
    "final_metrics = final_trainer.evaluate()\n",
    "\n",
    "# Final save (will save the reloaded best model)\n",
    "final_model_path = OUTPUT_DIR / \"final_model\"\n",
    "final_trainer.save_model(str(final_model_path))\n",
    "tokenizer.save_pretrained(str(final_model_path))\n",
    "print(f\"Final model and tokenizer saved to: {final_model_path}\")\n"
   ]
  },
  {
   "cell_type": "markdown",
   "id": "52639abd",
   "metadata": {},
   "source": [
    "## Observations\n",
    "### 1. Cross-Validation Summary (GroupKFold)\n",
    "The cross-validation results show a pretty good degree of variability in the model's performance across the first 3 folds but vary more across the last fold. This might suggests that the model's performance is sensitive to the specific data split\n",
    "\n",
    "| Fold   | Best Epoch | Best eval_f1 | Best Checkpoint |\n",
    "| ------ | ---------- | ------------ | --------------- |\n",
    "| Fold 1 | 10         | 0.8500       | checkpoint-100  |\n",
    "| Fold 2 | 5          | 0.7660       | checkpoint-50   |\n",
    "| Fold 3 | 11         | 0.8636       | checkpoint-110  |\n",
    "| Fold 4 | 11         | 0.8636       | checkpoint-110  |\n",
    "\n",
    "<ins>NB:</ins> The average F1-score is approximately 0.835\n",
    "\n",
    "### 2. Final Training on Full Dataset\n",
    "The final training run on the full training dataset (with a separate validation dataset for evaluation) achieved excellent metrics, confirming the model’s ability to effectively learn the classification task\n",
    "\n",
    "| Epoch | `eval_f1` (Best metric) | `eval_accuracy` | `eval_loss`  | Best checkpoint |\n",
    "| ----- | --------------------- | ------------- | ---------- | ----------- |\n",
    "| 8     | 0.8837                | 0.8780        | 0.2933     | checkpoint-80       |\n",
    "\n",
    "<ins>Best Performance:</ins> The model achieved its peak F1-score of 0.8837 at Epoch 8.\n",
    "The early stopping makes training terminated after the evaluation of Epoch 11 due to the `early_stopping_patience=3`\n",
    "\n",
    "<ins>Final saved model:</ins> The final model saved to `/final_model` is confirmed to be the one from Epoch 8 (**checkpoint-80**), with an F1-score of 0.8837\n",
    "\n",
    "### 3. Class-Specific performance (Best model - Epoch 8)\n",
    "The confusion matrix for the best model (Epoch 8) shows a highly asymmetric classification pattern, reflecting a bias toward identifying \"Fake\" texts\n",
    "\n",
    "| **True Label** | **Predicted Real** | **Predicted Fake** | **Recall**           |\n",
    "| -------------- | ------------------ | ------------------ | -------------------- |\n",
    "| **Real (0)**   | 17 (True Negative) | 5 (False Positive) | 17 / 22 = **77.3%**  |\n",
    "| **Fake (1)**   | 0 (False Negative) | 19 (True Positive) | 19 / 19 = **100.0%** |\n",
    "\n",
    "The model correctly identifies perfectly the actual Real texts (Recall: 100%)\n",
    "\n",
    "When the model predicts a text is Fake, it is correct 17 out of 22 times (Precision: 77.3%)\n",
    "\n",
    "## Conclusion\n",
    "The training run was successful and the final model is robust and well-performing on the validation set. It has strong performance with the final DistilBert model"
   ]
  },
  {
   "cell_type": "markdown",
   "id": "d3f3dcc7",
   "metadata": {},
   "source": [
    "# End of model training notebook"
   ]
  }
 ],
 "metadata": {
  "kernelspec": {
   "display_name": "esa_fake_or_real",
   "language": "python",
   "name": "python3"
  },
  "language_info": {
   "codemirror_mode": {
    "name": "ipython",
    "version": 3
   },
   "file_extension": ".py",
   "mimetype": "text/x-python",
   "name": "python",
   "nbconvert_exporter": "python",
   "pygments_lexer": "ipython3",
   "version": "3.11.13"
  }
 },
 "nbformat": 4,
 "nbformat_minor": 5
}
