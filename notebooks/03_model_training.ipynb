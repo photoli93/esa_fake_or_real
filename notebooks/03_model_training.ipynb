{
 "cells": [
  {
   "cell_type": "markdown",
   "id": "13512718",
   "metadata": {},
   "source": [
    "# ESA Project: Fake or Real: The Impostor Hunt in Texts\n",
    "\n",
    "This notebook is dedicated to **model training**.  \n",
    "It covers:\n",
    "\n",
    "- Load the pre-tokenized and saved PyTorch datasets (`tokenized_train.pt` and `tokenized_val.pt`) created in the data creation step.\n",
    "- Instantiate the pre-trained **DistilBertForSequenceClassification** model, configured for a binary classification task (Real or fake).\n",
    "- Define the **TrainingArguments** for the Hugging Face Trainer, including hyperparameters such as batch size, learning rate, number of epochs, and logging settings.\n",
    "- Implemente a function to compute and track key performance metrics on the validation set including **Accuracy, Precision, Recall and F1-score**.\n",
    "- Executing the training loop using the Hugging Face **Trainer** class which manages the entire process including checkpointing and model saving.\n",
    "- Save the best-performing model and its tokenizer to disk for later use in inference and deployment."
   ]
  },
  {
   "cell_type": "markdown",
   "id": "6c9bd6ac",
   "metadata": {},
   "source": [
    "# Import librairies"
   ]
  },
  {
   "cell_type": "code",
   "execution_count": 1,
   "id": "baa06c56",
   "metadata": {},
   "outputs": [
    {
     "name": "stderr",
     "output_type": "stream",
     "text": [
      "[nltk_data] Downloading package stopwords to\n",
      "[nltk_data]     /Users/photoli93/nltk_data...\n",
      "[nltk_data]   Package stopwords is already up-to-date!\n"
     ]
    }
   ],
   "source": [
    "import pandas as pd\n",
    "import numpy as np\n",
    "from pathlib import Path\n",
    "import matplotlib.pyplot as plt\n",
    "import seaborn as sns\n",
    "import re\n",
    "\n",
    "import torch\n",
    "from torch.nn import CrossEntropyLoss\n",
    "from transformers import (\n",
    "    DistilBertForSequenceClassification, \n",
    "    Trainer, \n",
    "    TrainingArguments, \n",
    "    AutoTokenizer,\n",
    "    TrainerCallback, \n",
    "    TrainerState, \n",
    "    TrainerControl,\n",
    "    EarlyStoppingCallback\n",
    ")\n",
    "from transformers import AutoConfig, AutoModelForSequenceClassification\n",
    "\n",
    "from sklearn.model_selection import KFold\n",
    "from sklearn.metrics import (\n",
    "    accuracy_score, \n",
    "    precision_recall_fscore_support, \n",
    "    confusion_matrix\n",
    ")\n",
    "\n",
    "import os\n",
    "import sys\n",
    "\n",
    "# Add the src folder to Python path\n",
    "sys.path.append(os.path.abspath(os.path.join('..', 'src')))\n",
    "import config\n",
    "from preprocessing import TextPreprocessor, get_text_statistics\n",
    "\n",
    "import warnings\n",
    "warnings.filterwarnings(\"ignore\")\n",
    "\n",
    "sns.set_theme()"
   ]
  },
  {
   "cell_type": "markdown",
   "id": "a7efcd26",
   "metadata": {},
   "source": [
    "# Create Custom Dataset Class"
   ]
  },
  {
   "cell_type": "code",
   "execution_count": 2,
   "id": "dd7a463e",
   "metadata": {},
   "outputs": [],
   "source": [
    "class TextPairDataset(torch.utils.data.Dataset):\n",
    "    def __init__(self, encodings, labels):\n",
    "        self.encodings = encodings\n",
    "        self.labels = labels\n",
    "\n",
    "    def __getitem__(self, idx):\n",
    "        item = {key: torch.tensor(val[idx]) for key, val in self.encodings.items()}\n",
    "        item['labels'] = torch.tensor(self.labels[idx], dtype=torch.long)\n",
    "        return item\n",
    "\n",
    "    def __len__(self):\n",
    "        return len(self.labels)"
   ]
  },
  {
   "cell_type": "markdown",
   "id": "39bc9056",
   "metadata": {},
   "source": [
    "# Load tokenized datasets"
   ]
  },
  {
   "cell_type": "code",
   "execution_count": 3,
   "id": "9e8229e1",
   "metadata": {},
   "outputs": [
    {
     "name": "stdout",
     "output_type": "stream",
     "text": [
      "Loading tokenized training data from: /Users/photoli93/Desktop/Projets perso Python/esa_fake_or_real/data/processed/tokenized_train.pt\n",
      "Training dataset size: 212\n",
      "Validation dataset size: 41\n"
     ]
    }
   ],
   "source": [
    "TOKENIZED_TRAIN_PATH = config.PROCESSED_DATA_DIR / \"tokenized_train.pt\"\n",
    "TOKENIZED_VAL_PATH = config.PROCESSED_DATA_DIR / \"tokenized_val.pt\"\n",
    "\n",
    "OUTPUT_DIR = config.OUTPUT_DIR / \"distilbert_fake_or_real\"\n",
    "OUTPUT_DIR.mkdir(parents=True, exist_ok=True)\n",
    "\n",
    "# Load tokenized datasets\n",
    "print(f\"Loading tokenized training data from: {TOKENIZED_TRAIN_PATH}\")\n",
    "try:\n",
    "    train_dataset = torch.load(TOKENIZED_TRAIN_PATH, weights_only=False)\n",
    "    val_dataset = torch.load(TOKENIZED_VAL_PATH, weights_only=False)\n",
    "except FileNotFoundError:\n",
    "    print(\"Error: Tokenized data not found. Please ensure 03_dataset_creation.py (or your data creation notebook) was run successfully\")\n",
    "    sys.exit(1)\n",
    "\n",
    "print(f\"Training dataset size: {len(train_dataset)}\")\n",
    "print(f\"Validation dataset size: {len(val_dataset)}\")"
   ]
  },
  {
   "cell_type": "markdown",
   "id": "ccb8614a",
   "metadata": {},
   "source": [
    "# Load model and tokenizer"
   ]
  },
  {
   "cell_type": "code",
   "execution_count": 4,
   "id": "af0973e1",
   "metadata": {},
   "outputs": [
    {
     "name": "stdout",
     "output_type": "stream",
     "text": [
      "Loading model: distilbert-base-uncased for Sequence Classification\n"
     ]
    },
    {
     "name": "stderr",
     "output_type": "stream",
     "text": [
      "Some weights of DistilBertForSequenceClassification were not initialized from the model checkpoint at distilbert-base-uncased and are newly initialized: ['classifier.bias', 'classifier.weight', 'pre_classifier.bias', 'pre_classifier.weight']\n",
      "You should probably TRAIN this model on a down-stream task to be able to use it for predictions and inference.\n"
     ]
    }
   ],
   "source": [
    "# Load the model for sequence classification with 2 labels (Real/Fake)\n",
    "print(f\"Loading model: {config.TOKENIZER_NAME} for Sequence Classification\")\n",
    "model = DistilBertForSequenceClassification.from_pretrained(\n",
    "    config.TOKENIZER_NAME, \n",
    "    num_labels=2\n",
    ")\n",
    "\n",
    "# Might need the tokenizer later for prediction/evaluation\n",
    "tokenizer = AutoTokenizer.from_pretrained(config.TOKENIZER_NAME)"
   ]
  },
  {
   "cell_type": "markdown",
   "id": "334fbd66",
   "metadata": {},
   "source": [
    "# Define parameters and metrics"
   ]
  },
  {
   "cell_type": "code",
   "execution_count": 5,
   "id": "44483856",
   "metadata": {},
   "outputs": [
    {
     "name": "stdout",
     "output_type": "stream",
     "text": [
      "Using device: mps\n"
     ]
    }
   ],
   "source": [
    "# Detect device\n",
    "device = \"cuda\" if torch.cuda.is_available() else \"mps\" if torch.backends.mps.is_available() else \"cpu\"\n",
    "print(f\"Using device: {device}\")\n",
    "\n",
    "# Training configuration\n",
    "training_args = TrainingArguments(\n",
    "    output_dir=str(OUTPUT_DIR),          \n",
    "    num_train_epochs=20,                 # 20 epochs but with early stopping to avoid overfitting\n",
    "    per_device_train_batch_size=16,      \n",
    "    per_device_eval_batch_size=64,       \n",
    "    warmup_steps=500,                    # Nb of steps during which the learning rate increases learning\n",
    "    weight_decay=0.01,                   # Regularization term to reduce overfitting by penalizing large weights\n",
    "    logging_dir='./logs',                \n",
    "    logging_steps=50,                    # Log metrics every 50 training steps\n",
    "    evaluation_strategy=\"epoch\",         # Evaluate at the end of each epoch\n",
    "    save_strategy=\"epoch\",               # Save model checkpoint at the end of each epoch\n",
    "    save_total_limit=2,                  # Keep only 2 best checkpoints\n",
    "    load_best_model_at_end=True,         # Load the best model found during training\n",
    "    metric_for_best_model=\"eval_f1\",     # Metric to monitor for best model\n",
    "    greater_is_better=True,              # Looking to maximize the f1 metric\n",
    "    fp16=False,                          # Disable for Mac, Transformers will automatically use MPS\n",
    "    report_to=\"none\"                     # Disables wandb, tensorboard, etc. (disabling sending logs online)\n",
    ")\n",
    "\n",
    "# Define Evaluation Metric\n",
    "try:\n",
    "    from sklearn.metrics import accuracy_score, precision_recall_fscore_support\n",
    "    \n",
    "    # p is an object passed by the Hugging Face Trainer. It contains \"predictions\" and \"label_ids\"\n",
    "    def compute_metrics(p):\n",
    "        preds = np.argmax(p.predictions, axis=1)\n",
    "        precision, recall, f1, _ = precision_recall_fscore_support(p.label_ids, preds, average='binary')\n",
    "        acc = accuracy_score(p.label_ids, preds)\n",
    "        return {\n",
    "            'accuracy': acc,\n",
    "            'f1': f1,\n",
    "            'precision': precision,\n",
    "            'recall': recall\n",
    "        }\n",
    "except ImportError:\n",
    "    print(\"Warning: scikit-learn not found. Install with 'pip install scikit-learn' to use advanced metrics\")\n",
    "    def compute_metrics(p):\n",
    "        return {}"
   ]
  },
  {
   "cell_type": "markdown",
   "id": "28240220",
   "metadata": {},
   "source": [
    "# Custom Loss function\n",
    "\n",
    "By exploding chunks, it has added unbalance in train dataset (138 for class 0 and 74 for class 1) so custom loss function has to be defined in order to add weights on classes"
   ]
  },
  {
   "cell_type": "code",
   "execution_count": 6,
   "id": "8fb74d1f",
   "metadata": {},
   "outputs": [
    {
     "name": "stdout",
     "output_type": "stream",
     "text": [
      "label\n",
      "0    138\n",
      "1     74\n",
      "Name: count, dtype: int64\n",
      "tensor([0.3491, 0.6509])\n"
     ]
    }
   ],
   "source": [
    "train_df = pd.read_csv(config.PROCESSED_DATA_DIR / \"train_exploded.csv\")\n",
    "\n",
    "# Count of each class\n",
    "counts = train_df['label'].value_counts().sort_index()\n",
    "print(counts)\n",
    "\n",
    "# Dynamic class weights (inverse frequency)\n",
    "weights = 1.0 / counts\n",
    "weights = weights / weights.sum()  # Normalize\n",
    "weights = torch.tensor(weights.values, dtype=torch.float)\n",
    "print(weights)\n",
    "\n",
    "# Override the default loss\n",
    "def compute_loss(model, inputs, return_outputs=False):\n",
    "    labels = inputs.pop(\"labels\")\n",
    "    outputs = model(**inputs)\n",
    "    logits = outputs.logits\n",
    "    loss_fct = CrossEntropyLoss(weight=weights.to(logits.device))\n",
    "    loss = loss_fct(logits, labels)\n",
    "    return (loss, outputs) if return_outputs else loss"
   ]
  },
  {
   "cell_type": "markdown",
   "id": "7606c28b",
   "metadata": {},
   "source": [
    "# Custom subclass Trainer\n",
    "\n",
    "Since in Hugging Face Transformers, the **Trainer** class does not have a `compute_loss` argument in its constructor, I created a subclass called **WeightedTrainer** to use the custom `compute_loss` method."
   ]
  },
  {
   "cell_type": "code",
   "execution_count": 7,
   "id": "b2575ed1",
   "metadata": {},
   "outputs": [],
   "source": [
    "class WeightedTrainer(Trainer):\n",
    "    def compute_loss(self, model, inputs, return_outputs=False):\n",
    "        labels = inputs.pop(\"labels\")\n",
    "        outputs = model(**inputs)\n",
    "        logits = outputs.logits\n",
    "        \n",
    "        # Define class weights\n",
    "        weights = torch.tensor([1.0, 138/74]).to(logits.device)\n",
    "        loss_fct = CrossEntropyLoss(weight=weights)\n",
    "        \n",
    "        loss = loss_fct(logits, labels)\n",
    "        return (loss, outputs) if return_outputs else loss"
   ]
  },
  {
   "cell_type": "markdown",
   "id": "f4adffff",
   "metadata": {},
   "source": [
    "# Custom Confusion matrix callback"
   ]
  },
  {
   "cell_type": "code",
   "execution_count": null,
   "id": "889f7544",
   "metadata": {},
   "outputs": [],
   "source": [
    "class ConfusionMatrixCallback(TrainerCallback):\n",
    "    def __init__(self):\n",
    "        self.trainer = None\n",
    "        self.best_epoch = 0\n",
    "        self.best_f1 = -float('inf')\n",
    "    \n",
    "    def on_evaluate(self, args, state, control, metrics=None, **kwargs):\n",
    "        \"\"\"Called after evaluation\"\"\"\n",
    "        if not hasattr(self, 'trainer') or self.trainer is None:\n",
    "            print(\"Trainer not set in ConfusionMatrixCallback\")\n",
    "            return\n",
    "        \n",
    "        try:\n",
    "            # Get predictions\n",
    "            preds_output = self.trainer.predict(self.trainer.eval_dataset)\n",
    "            preds = np.argmax(preds_output.predictions, axis=1)\n",
    "            labels = preds_output.label_ids\n",
    "            \n",
    "            # Compute confusion matrix\n",
    "            cm = confusion_matrix(labels, preds)\n",
    "            \n",
    "            # Get current metrics\n",
    "            current_epoch = int(state.epoch) if state.epoch else 0\n",
    "            current_f1 = metrics.get('eval_f1', 0) if metrics else 0\n",
    "            \n",
    "            # Track best\n",
    "            is_best = False\n",
    "            if current_f1 > self.best_f1:\n",
    "                self.best_f1 = current_f1\n",
    "                self.best_epoch = current_epoch\n",
    "                is_best = True\n",
    "            \n",
    "            # Print header\n",
    "            print(f\"\\n{'='*80}\")\n",
    "            if is_best:\n",
    "                print(f\"[Epoch {current_epoch}] Confusion Matrix (New best)\")\n",
    "            else:\n",
    "                print(f\"[Epoch {current_epoch}] Confusion Matrix\")\n",
    "            print(f\"{'='*80}\")\n",
    "            \n",
    "            # Print confusion matrix with labels\n",
    "            print(\"Confusion Matrix:\")\n",
    "            print(\"              Predicted\")\n",
    "            print(\"           Real    Fake\")\n",
    "            print(f\"Real   [[{cm[0][0]:4d}    {cm[0][1]:4d}]]\")\n",
    "            print(f\"Fake   [[{cm[1][0]:4d}    {cm[1][1]:4d}]]\")\n",
    "            \n",
    "            # Calculate per-class metrics\n",
    "            tn, fp, fn, tp = cm.ravel()\n",
    "            \n",
    "            # Class metrics\n",
    "            real_precision = tn / (tn + fn) if (tn + fn) > 0 else 0\n",
    "            real_recall = tn / (tn + fp) if (tn + fp) > 0 else 0\n",
    "            fake_precision = tp / (tp + fp) if (tp + fp) > 0 else 0\n",
    "            fake_recall = tp / (tp + fn) if (tp + fn) > 0 else 0\n",
    "            \n",
    "            print(f\"\\nPer-Class Metrics:\")\n",
    "            print(f\"  Real: Precision={real_precision:.3f}, Recall={real_recall:.3f}\")\n",
    "            print(f\"  Fake: Precision={fake_precision:.3f}, Recall={fake_recall:.3f}\")\n",
    "            \n",
    "            # Overall metrics\n",
    "            if metrics:\n",
    "                print(f\"\\nOverall Metrics:\")\n",
    "                print(f\"  Accuracy:  {metrics.get('eval_accuracy', 0):.4f}\")\n",
    "                print(f\"  F1:        {metrics.get('eval_f1', 0):.4f}\")\n",
    "                print(f\"  Precision: {metrics.get('eval_precision', 0):.4f}\")\n",
    "                print(f\"  Recall:    {metrics.get('eval_recall', 0):.4f}\")\n",
    "                print(f\"  Loss:      {metrics.get('eval_loss', 0):.4f}\")\n",
    "            \n",
    "            print(f\"\\nBest so far: Epoch {self.best_epoch}, F1={self.best_f1:.4f}\")\n",
    "            print(f\"{'='*80}\\n\")\n",
    "            \n",
    "        except Exception as e:\n",
    "            print(f\"Error in ConfusionMatrixCallback: {e}\")\n",
    "    \n",
    "    def on_train_end(self, args, state, control, **kwargs):\n",
    "        \"\"\"Verify best model was loaded\"\"\"\n",
    "        print(f\"\\n{'='*80}\")\n",
    "        print(f\"TRAINING COMPLETE\")\n",
    "        print(f\"{'='*80}\")\n",
    "        print(f\"Best Epoch: {self.best_epoch}\")\n",
    "        print(f\"Best F1: {self.best_f1:.4f}\")\n",
    "        \n",
    "        if state.best_model_checkpoint:\n",
    "            print(f\"Best checkpoint: {state.best_model_checkpoint}\")\n",
    "            from pathlib import Path\n",
    "            if Path(state.best_model_checkpoint).exists():\n",
    "                print(f\"Checkpoint verified on disk\")\n",
    "            else:\n",
    "                print(f\"Checkpoint NOT found\")\n",
    "        else:\n",
    "            print(f\"No best checkpoint saved\")\n",
    "        \n",
    "        # Final verification\n",
    "        if hasattr(self, 'trainer') and self.trainer is not None:\n",
    "            print(f\"\\nVerifying loaded model\")\n",
    "            try:\n",
    "                preds_output = self.trainer.predict(self.trainer.eval_dataset)\n",
    "                preds = np.argmax(preds_output.predictions, axis=1)\n",
    "                labels = preds_output.label_ids\n",
    "                \n",
    "                from sklearn.metrics import f1_score\n",
    "                final_f1 = f1_score(labels, preds, average='binary')\n",
    "                \n",
    "                print(f\"Final Model F1: {final_f1:.4f}\")\n",
    "                print(f\"Expected Best F1: {self.best_f1:.4f}\")\n",
    "                \n",
    "                if abs(final_f1 - self.best_f1) < 0.001:\n",
    "                    print(f\"Correct: Best model was loaded\")\n",
    "                else:\n",
    "                    print(f\"Error: Wrong model! Expected {self.best_f1:.4f}, got {final_f1:.4f}\")\n",
    "            except Exception as e:\n",
    "                print(f\"Could not verify: {e}\")\n",
    "        \n",
    "        print(f\"{'='*80}\\n\")\n",
    "    \n",
    "    def set_trainer(self, trainer):\n",
    "        self.trainer = trainer"
   ]
  },
  {
   "cell_type": "markdown",
   "id": "bddf8e25",
   "metadata": {},
   "source": [
    "# Training process"
   ]
  },
  {
   "cell_type": "code",
   "execution_count": 9,
   "id": "098cc96c",
   "metadata": {},
   "outputs": [
    {
     "name": "stdout",
     "output_type": "stream",
     "text": [
      "--------------------------------------------------------------------------------\n",
      "\n",
      "Fold 1/4\n",
      "--------------------------------------------------------------------------------\n"
     ]
    },
    {
     "name": "stderr",
     "output_type": "stream",
     "text": [
      "Some weights of DistilBertForSequenceClassification were not initialized from the model checkpoint at distilbert-base-uncased and are newly initialized: ['classifier.bias', 'classifier.weight', 'pre_classifier.bias', 'pre_classifier.weight']\n",
      "You should probably TRAIN this model on a down-stream task to be able to use it for predictions and inference.\n"
     ]
    },
    {
     "data": {
      "application/vnd.jupyter.widget-view+json": {
       "model_id": "547ea0b6e3154ea19232bb8d4d486047",
       "version_major": 2,
       "version_minor": 0
      },
      "text/plain": [
       "  0%|          | 0/200 [00:00<?, ?it/s]"
      ]
     },
     "metadata": {},
     "output_type": "display_data"
    },
    {
     "data": {
      "application/vnd.jupyter.widget-view+json": {
       "model_id": "3918b9312d1b440584615ead65cc0cd1",
       "version_major": 2,
       "version_minor": 0
      },
      "text/plain": [
       "  0%|          | 0/1 [00:00<?, ?it/s]"
      ]
     },
     "metadata": {},
     "output_type": "display_data"
    },
    {
     "name": "stdout",
     "output_type": "stream",
     "text": [
      "{'eval_loss': 0.691260814666748, 'eval_accuracy': 0.6792452830188679, 'eval_f1': 0.0, 'eval_precision': 0.0, 'eval_recall': 0.0, 'eval_runtime': 2.2064, 'eval_samples_per_second': 24.021, 'eval_steps_per_second': 0.453, 'epoch': 1.0}\n",
      "\n",
      "================================================================================\n",
      "[Epoch 1] Confusion Matrix (New best)\n",
      "================================================================================\n",
      "Confusion Matrix:\n",
      "              Predicted\n",
      "           Real    Fake\n",
      "Real   [[  36       0]]\n",
      "Fake   [[  17       0]]\n",
      "\n",
      "Per-Class Metrics:\n",
      "  Real: Precision=0.679, Recall=1.000\n",
      "  Fake: Precision=0.000, Recall=0.000\n",
      "\n",
      "Overall Metrics:\n",
      "  Accuracy:  0.6792\n",
      "  F1:        0.0000\n",
      "  Precision: 0.0000\n",
      "  Recall:    0.0000\n",
      "  Loss:      0.6913\n",
      "\n",
      "Best So Far: Epoch 1, F1=0.0000\n",
      "================================================================================\n",
      "\n"
     ]
    },
    {
     "data": {
      "application/vnd.jupyter.widget-view+json": {
       "model_id": "c7072331a985489f888b252bc72492cf",
       "version_major": 2,
       "version_minor": 0
      },
      "text/plain": [
       "  0%|          | 0/1 [00:00<?, ?it/s]"
      ]
     },
     "metadata": {},
     "output_type": "display_data"
    },
    {
     "name": "stdout",
     "output_type": "stream",
     "text": [
      "{'eval_loss': 0.6792891025543213, 'eval_accuracy': 0.6792452830188679, 'eval_f1': 0.0, 'eval_precision': 0.0, 'eval_recall': 0.0, 'eval_runtime': 2.3006, 'eval_samples_per_second': 23.037, 'eval_steps_per_second': 0.435, 'epoch': 2.0}\n",
      "\n",
      "================================================================================\n",
      "[Epoch 2] Confusion Matrix\n",
      "================================================================================\n",
      "Confusion Matrix:\n",
      "              Predicted\n",
      "           Real    Fake\n",
      "Real   [[  36       0]]\n",
      "Fake   [[  17       0]]\n",
      "\n",
      "Per-Class Metrics:\n",
      "  Real: Precision=0.679, Recall=1.000\n",
      "  Fake: Precision=0.000, Recall=0.000\n",
      "\n",
      "Overall Metrics:\n",
      "  Accuracy:  0.6792\n",
      "  F1:        0.0000\n",
      "  Precision: 0.0000\n",
      "  Recall:    0.0000\n",
      "  Loss:      0.6793\n",
      "\n",
      "Best So Far: Epoch 1, F1=0.0000\n",
      "================================================================================\n",
      "\n"
     ]
    },
    {
     "data": {
      "application/vnd.jupyter.widget-view+json": {
       "model_id": "bbcabe3e951346f2991d3ad46045059e",
       "version_major": 2,
       "version_minor": 0
      },
      "text/plain": [
       "  0%|          | 0/1 [00:00<?, ?it/s]"
      ]
     },
     "metadata": {},
     "output_type": "display_data"
    },
    {
     "name": "stdout",
     "output_type": "stream",
     "text": [
      "{'eval_loss': 0.6589536666870117, 'eval_accuracy': 0.6792452830188679, 'eval_f1': 0.0, 'eval_precision': 0.0, 'eval_recall': 0.0, 'eval_runtime': 2.2885, 'eval_samples_per_second': 23.16, 'eval_steps_per_second': 0.437, 'epoch': 3.0}\n",
      "\n",
      "================================================================================\n",
      "[Epoch 3] Confusion Matrix\n",
      "================================================================================\n",
      "Confusion Matrix:\n",
      "              Predicted\n",
      "           Real    Fake\n",
      "Real   [[  36       0]]\n",
      "Fake   [[  17       0]]\n",
      "\n",
      "Per-Class Metrics:\n",
      "  Real: Precision=0.679, Recall=1.000\n",
      "  Fake: Precision=0.000, Recall=0.000\n",
      "\n",
      "Overall Metrics:\n",
      "  Accuracy:  0.6792\n",
      "  F1:        0.0000\n",
      "  Precision: 0.0000\n",
      "  Recall:    0.0000\n",
      "  Loss:      0.6590\n",
      "\n",
      "Best So Far: Epoch 1, F1=0.0000\n",
      "================================================================================\n",
      "\n"
     ]
    },
    {
     "data": {
      "application/vnd.jupyter.widget-view+json": {
       "model_id": "061f8e943f62402ba3acdb94ec63f061",
       "version_major": 2,
       "version_minor": 0
      },
      "text/plain": [
       "  0%|          | 0/1 [00:00<?, ?it/s]"
      ]
     },
     "metadata": {},
     "output_type": "display_data"
    },
    {
     "name": "stdout",
     "output_type": "stream",
     "text": [
      "{'eval_loss': 0.623315155506134, 'eval_accuracy': 0.7735849056603774, 'eval_f1': 0.625, 'eval_precision': 0.6666666666666666, 'eval_recall': 0.5882352941176471, 'eval_runtime': 2.308, 'eval_samples_per_second': 22.964, 'eval_steps_per_second': 0.433, 'epoch': 4.0}\n",
      "\n",
      "================================================================================\n",
      "[Epoch 4] Confusion Matrix (New best)\n",
      "================================================================================\n",
      "Confusion Matrix:\n",
      "              Predicted\n",
      "           Real    Fake\n",
      "Real   [[  31       5]]\n",
      "Fake   [[   7      10]]\n",
      "\n",
      "Per-Class Metrics:\n",
      "  Real: Precision=0.816, Recall=0.861\n",
      "  Fake: Precision=0.667, Recall=0.588\n",
      "\n",
      "Overall Metrics:\n",
      "  Accuracy:  0.7736\n",
      "  F1:        0.6250\n",
      "  Precision: 0.6667\n",
      "  Recall:    0.5882\n",
      "  Loss:      0.6233\n",
      "\n",
      "Best So Far: Epoch 4, F1=0.6250\n",
      "================================================================================\n",
      "\n",
      "{'loss': 0.6698, 'grad_norm': 2.531451940536499, 'learning_rate': 5e-06, 'epoch': 5.0}\n"
     ]
    },
    {
     "data": {
      "application/vnd.jupyter.widget-view+json": {
       "model_id": "6fd5e8e995734b07a3e1282bc679f39d",
       "version_major": 2,
       "version_minor": 0
      },
      "text/plain": [
       "  0%|          | 0/1 [00:00<?, ?it/s]"
      ]
     },
     "metadata": {},
     "output_type": "display_data"
    },
    {
     "name": "stdout",
     "output_type": "stream",
     "text": [
      "{'eval_loss': 0.5558594465255737, 'eval_accuracy': 0.8301886792452831, 'eval_f1': 0.7906976744186046, 'eval_precision': 0.6538461538461539, 'eval_recall': 1.0, 'eval_runtime': 2.2727, 'eval_samples_per_second': 23.32, 'eval_steps_per_second': 0.44, 'epoch': 5.0}\n",
      "\n",
      "================================================================================\n",
      "[Epoch 5] Confusion Matrix (New best)\n",
      "================================================================================\n",
      "Confusion Matrix:\n",
      "              Predicted\n",
      "           Real    Fake\n",
      "Real   [[  27       9]]\n",
      "Fake   [[   0      17]]\n",
      "\n",
      "Per-Class Metrics:\n",
      "  Real: Precision=1.000, Recall=0.750\n",
      "  Fake: Precision=0.654, Recall=1.000\n",
      "\n",
      "Overall Metrics:\n",
      "  Accuracy:  0.8302\n",
      "  F1:        0.7907\n",
      "  Precision: 0.6538\n",
      "  Recall:    1.0000\n",
      "  Loss:      0.5559\n",
      "\n",
      "Best So Far: Epoch 5, F1=0.7907\n",
      "================================================================================\n",
      "\n"
     ]
    },
    {
     "data": {
      "application/vnd.jupyter.widget-view+json": {
       "model_id": "f6d3a753792e4b0180668b55eb2f9c00",
       "version_major": 2,
       "version_minor": 0
      },
      "text/plain": [
       "  0%|          | 0/1 [00:00<?, ?it/s]"
      ]
     },
     "metadata": {},
     "output_type": "display_data"
    },
    {
     "name": "stdout",
     "output_type": "stream",
     "text": [
      "{'eval_loss': 0.4649994373321533, 'eval_accuracy': 0.8301886792452831, 'eval_f1': 0.7906976744186046, 'eval_precision': 0.6538461538461539, 'eval_recall': 1.0, 'eval_runtime': 2.2785, 'eval_samples_per_second': 23.261, 'eval_steps_per_second': 0.439, 'epoch': 6.0}\n",
      "\n",
      "================================================================================\n",
      "[Epoch 6] Confusion Matrix\n",
      "================================================================================\n",
      "Confusion Matrix:\n",
      "              Predicted\n",
      "           Real    Fake\n",
      "Real   [[  27       9]]\n",
      "Fake   [[   0      17]]\n",
      "\n",
      "Per-Class Metrics:\n",
      "  Real: Precision=1.000, Recall=0.750\n",
      "  Fake: Precision=0.654, Recall=1.000\n",
      "\n",
      "Overall Metrics:\n",
      "  Accuracy:  0.8302\n",
      "  F1:        0.7907\n",
      "  Precision: 0.6538\n",
      "  Recall:    1.0000\n",
      "  Loss:      0.4650\n",
      "\n",
      "Best So Far: Epoch 5, F1=0.7907\n",
      "================================================================================\n",
      "\n"
     ]
    },
    {
     "data": {
      "application/vnd.jupyter.widget-view+json": {
       "model_id": "411f0de68b6b4f12ad211fbc57b8aa23",
       "version_major": 2,
       "version_minor": 0
      },
      "text/plain": [
       "  0%|          | 0/1 [00:00<?, ?it/s]"
      ]
     },
     "metadata": {},
     "output_type": "display_data"
    },
    {
     "name": "stdout",
     "output_type": "stream",
     "text": [
      "{'eval_loss': 0.385510116815567, 'eval_accuracy': 0.8301886792452831, 'eval_f1': 0.7906976744186046, 'eval_precision': 0.6538461538461539, 'eval_recall': 1.0, 'eval_runtime': 2.3083, 'eval_samples_per_second': 22.961, 'eval_steps_per_second': 0.433, 'epoch': 7.0}\n",
      "\n",
      "================================================================================\n",
      "[Epoch 7] Confusion Matrix\n",
      "================================================================================\n",
      "Confusion Matrix:\n",
      "              Predicted\n",
      "           Real    Fake\n",
      "Real   [[  27       9]]\n",
      "Fake   [[   0      17]]\n",
      "\n",
      "Per-Class Metrics:\n",
      "  Real: Precision=1.000, Recall=0.750\n",
      "  Fake: Precision=0.654, Recall=1.000\n",
      "\n",
      "Overall Metrics:\n",
      "  Accuracy:  0.8302\n",
      "  F1:        0.7907\n",
      "  Precision: 0.6538\n",
      "  Recall:    1.0000\n",
      "  Loss:      0.3855\n",
      "\n",
      "Best So Far: Epoch 5, F1=0.7907\n",
      "================================================================================\n",
      "\n"
     ]
    },
    {
     "data": {
      "application/vnd.jupyter.widget-view+json": {
       "model_id": "af07ac6d5c164db5b78821d17359871c",
       "version_major": 2,
       "version_minor": 0
      },
      "text/plain": [
       "  0%|          | 0/1 [00:00<?, ?it/s]"
      ]
     },
     "metadata": {},
     "output_type": "display_data"
    },
    {
     "name": "stdout",
     "output_type": "stream",
     "text": [
      "{'eval_loss': 0.33860349655151367, 'eval_accuracy': 0.8490566037735849, 'eval_f1': 0.8095238095238095, 'eval_precision': 0.68, 'eval_recall': 1.0, 'eval_runtime': 2.2848, 'eval_samples_per_second': 23.197, 'eval_steps_per_second': 0.438, 'epoch': 8.0}\n",
      "\n",
      "================================================================================\n",
      "[Epoch 8] Confusion Matrix (New best)\n",
      "================================================================================\n",
      "Confusion Matrix:\n",
      "              Predicted\n",
      "           Real    Fake\n",
      "Real   [[  28       8]]\n",
      "Fake   [[   0      17]]\n",
      "\n",
      "Per-Class Metrics:\n",
      "  Real: Precision=1.000, Recall=0.778\n",
      "  Fake: Precision=0.680, Recall=1.000\n",
      "\n",
      "Overall Metrics:\n",
      "  Accuracy:  0.8491\n",
      "  F1:        0.8095\n",
      "  Precision: 0.6800\n",
      "  Recall:    1.0000\n",
      "  Loss:      0.3386\n",
      "\n",
      "Best So Far: Epoch 8, F1=0.8095\n",
      "================================================================================\n",
      "\n"
     ]
    },
    {
     "data": {
      "application/vnd.jupyter.widget-view+json": {
       "model_id": "445675761d5b4716a6542e071697e089",
       "version_major": 2,
       "version_minor": 0
      },
      "text/plain": [
       "  0%|          | 0/1 [00:00<?, ?it/s]"
      ]
     },
     "metadata": {},
     "output_type": "display_data"
    },
    {
     "name": "stdout",
     "output_type": "stream",
     "text": [
      "{'eval_loss': 0.3244887888431549, 'eval_accuracy': 0.8490566037735849, 'eval_f1': 0.8095238095238095, 'eval_precision': 0.68, 'eval_recall': 1.0, 'eval_runtime': 2.2779, 'eval_samples_per_second': 23.267, 'eval_steps_per_second': 0.439, 'epoch': 9.0}\n",
      "\n",
      "================================================================================\n",
      "[Epoch 9] Confusion Matrix\n",
      "================================================================================\n",
      "Confusion Matrix:\n",
      "              Predicted\n",
      "           Real    Fake\n",
      "Real   [[  28       8]]\n",
      "Fake   [[   0      17]]\n",
      "\n",
      "Per-Class Metrics:\n",
      "  Real: Precision=1.000, Recall=0.778\n",
      "  Fake: Precision=0.680, Recall=1.000\n",
      "\n",
      "Overall Metrics:\n",
      "  Accuracy:  0.8491\n",
      "  F1:        0.8095\n",
      "  Precision: 0.6800\n",
      "  Recall:    1.0000\n",
      "  Loss:      0.3245\n",
      "\n",
      "Best So Far: Epoch 8, F1=0.8095\n",
      "================================================================================\n",
      "\n",
      "{'loss': 0.3832, 'grad_norm': 8.513765335083008, 'learning_rate': 1e-05, 'epoch': 10.0}\n"
     ]
    },
    {
     "data": {
      "application/vnd.jupyter.widget-view+json": {
       "model_id": "1943fda54a6345b3bff3995a9061e29c",
       "version_major": 2,
       "version_minor": 0
      },
      "text/plain": [
       "  0%|          | 0/1 [00:00<?, ?it/s]"
      ]
     },
     "metadata": {},
     "output_type": "display_data"
    },
    {
     "name": "stdout",
     "output_type": "stream",
     "text": [
      "{'eval_loss': 0.32862576842308044, 'eval_accuracy': 0.8301886792452831, 'eval_f1': 0.7692307692307693, 'eval_precision': 0.6818181818181818, 'eval_recall': 0.8823529411764706, 'eval_runtime': 2.2591, 'eval_samples_per_second': 23.461, 'eval_steps_per_second': 0.443, 'epoch': 10.0}\n",
      "\n",
      "================================================================================\n",
      "[Epoch 10] Confusion Matrix\n",
      "================================================================================\n",
      "Confusion Matrix:\n",
      "              Predicted\n",
      "           Real    Fake\n",
      "Real   [[  29       7]]\n",
      "Fake   [[   2      15]]\n",
      "\n",
      "Per-Class Metrics:\n",
      "  Real: Precision=0.935, Recall=0.806\n",
      "  Fake: Precision=0.682, Recall=0.882\n",
      "\n",
      "Overall Metrics:\n",
      "  Accuracy:  0.8302\n",
      "  F1:        0.7692\n",
      "  Precision: 0.6818\n",
      "  Recall:    0.8824\n",
      "  Loss:      0.3286\n",
      "\n",
      "Best So Far: Epoch 8, F1=0.8095\n",
      "================================================================================\n",
      "\n"
     ]
    },
    {
     "data": {
      "application/vnd.jupyter.widget-view+json": {
       "model_id": "02600db56b5441cf9147efd93ea66a4e",
       "version_major": 2,
       "version_minor": 0
      },
      "text/plain": [
       "  0%|          | 0/1 [00:00<?, ?it/s]"
      ]
     },
     "metadata": {},
     "output_type": "display_data"
    },
    {
     "name": "stdout",
     "output_type": "stream",
     "text": [
      "{'eval_loss': 0.31711074709892273, 'eval_accuracy': 0.8490566037735849, 'eval_f1': 0.8, 'eval_precision': 0.6956521739130435, 'eval_recall': 0.9411764705882353, 'eval_runtime': 2.3101, 'eval_samples_per_second': 22.942, 'eval_steps_per_second': 0.433, 'epoch': 11.0}\n",
      "\n",
      "================================================================================\n",
      "[Epoch 11] Confusion Matrix\n",
      "================================================================================\n",
      "Confusion Matrix:\n",
      "              Predicted\n",
      "           Real    Fake\n",
      "Real   [[  29       7]]\n",
      "Fake   [[   1      16]]\n",
      "\n",
      "Per-Class Metrics:\n",
      "  Real: Precision=0.967, Recall=0.806\n",
      "  Fake: Precision=0.696, Recall=0.941\n",
      "\n",
      "Overall Metrics:\n",
      "  Accuracy:  0.8491\n",
      "  F1:        0.8000\n",
      "  Precision: 0.6957\n",
      "  Recall:    0.9412\n",
      "  Loss:      0.3171\n",
      "\n",
      "Best So Far: Epoch 8, F1=0.8095\n",
      "================================================================================\n",
      "\n",
      "{'train_runtime': 231.4845, 'train_samples_per_second': 13.737, 'train_steps_per_second': 0.864, 'train_loss': 0.49789215434681283, 'epoch': 11.0}\n",
      "\n",
      "================================================================================\n",
      "TRAINING COMPLETE\n",
      "================================================================================\n",
      "Best Epoch: 8\n",
      "Best F1: 0.8095\n",
      "Best checkpoint: /Users/photoli93/Desktop/Projets perso Python/esa_fake_or_real/results/distilbert_fake_or_real/checkpoint-80\n",
      "Checkpoint verified on disk\n",
      "\n",
      "Verifying loaded model\n"
     ]
    },
    {
     "data": {
      "application/vnd.jupyter.widget-view+json": {
       "model_id": "b59343e8c092492da78875de4e5721a3",
       "version_major": 2,
       "version_minor": 0
      },
      "text/plain": [
       "  0%|          | 0/1 [00:00<?, ?it/s]"
      ]
     },
     "metadata": {},
     "output_type": "display_data"
    },
    {
     "name": "stdout",
     "output_type": "stream",
     "text": [
      "Final Model F1: 0.8095\n",
      "Expected Best F1: 0.8095\n",
      "Correct: Best model was loaded\n",
      "================================================================================\n",
      "\n",
      "--------------------------------------------------------------------------------\n",
      "\n",
      "Fold trainer state\n",
      "Best checkpoint: /Users/photoli93/Desktop/Projets perso Python/esa_fake_or_real/results/distilbert_fake_or_real/checkpoint-80\n",
      "Best metric value (eval_f1): 0.8095238095238095\n",
      "--------------------------------------------------------------------------------\n"
     ]
    },
    {
     "data": {
      "application/vnd.jupyter.widget-view+json": {
       "model_id": "a5fa1e25473840709c926d2a4698d931",
       "version_major": 2,
       "version_minor": 0
      },
      "text/plain": [
       "  0%|          | 0/1 [00:00<?, ?it/s]"
      ]
     },
     "metadata": {},
     "output_type": "display_data"
    },
    {
     "name": "stdout",
     "output_type": "stream",
     "text": [
      "\n",
      "================================================================================\n",
      "[Epoch 11] Confusion Matrix\n",
      "================================================================================\n",
      "Confusion Matrix:\n",
      "              Predicted\n",
      "           Real    Fake\n",
      "Real   [[  28       8]]\n",
      "Fake   [[   0      17]]\n",
      "\n",
      "Per-Class Metrics:\n",
      "  Real: Precision=1.000, Recall=0.778\n",
      "  Fake: Precision=0.680, Recall=1.000\n",
      "\n",
      "Overall Metrics:\n",
      "  Accuracy:  0.8491\n",
      "  F1:        0.8095\n",
      "  Precision: 0.6800\n",
      "  Recall:    1.0000\n",
      "  Loss:      0.3386\n",
      "\n",
      "Best So Far: Epoch 8, F1=0.8095\n",
      "================================================================================\n",
      "\n",
      "Fold 1 evaluation (Best model metrics)\n",
      "{'eval_loss': 0.33860349655151367, 'eval_accuracy': 0.8490566037735849, 'eval_f1': 0.8095238095238095, 'eval_precision': 0.68, 'eval_recall': 1.0, 'eval_runtime': 2.3221, 'eval_samples_per_second': 22.825, 'eval_steps_per_second': 0.431, 'epoch': 11.0}\n",
      "--------------------------------------------------------------------------------\n",
      "\n",
      "Fold 2/4\n",
      "--------------------------------------------------------------------------------\n"
     ]
    },
    {
     "name": "stderr",
     "output_type": "stream",
     "text": [
      "Some weights of DistilBertForSequenceClassification were not initialized from the model checkpoint at distilbert-base-uncased and are newly initialized: ['classifier.bias', 'classifier.weight', 'pre_classifier.bias', 'pre_classifier.weight']\n",
      "You should probably TRAIN this model on a down-stream task to be able to use it for predictions and inference.\n"
     ]
    },
    {
     "data": {
      "application/vnd.jupyter.widget-view+json": {
       "model_id": "0257fb4400d943b394206edae05bf0e3",
       "version_major": 2,
       "version_minor": 0
      },
      "text/plain": [
       "  0%|          | 0/200 [00:00<?, ?it/s]"
      ]
     },
     "metadata": {},
     "output_type": "display_data"
    },
    {
     "data": {
      "application/vnd.jupyter.widget-view+json": {
       "model_id": "247990140f6248aca57eceda8e9a7d3f",
       "version_major": 2,
       "version_minor": 0
      },
      "text/plain": [
       "  0%|          | 0/1 [00:00<?, ?it/s]"
      ]
     },
     "metadata": {},
     "output_type": "display_data"
    },
    {
     "name": "stdout",
     "output_type": "stream",
     "text": [
      "{'eval_loss': 0.7031173706054688, 'eval_accuracy': 0.5849056603773585, 'eval_f1': 0.08333333333333333, 'eval_precision': 0.25, 'eval_recall': 0.05, 'eval_runtime': 2.4022, 'eval_samples_per_second': 22.063, 'eval_steps_per_second': 0.416, 'epoch': 1.0}\n",
      "\n",
      "================================================================================\n",
      "[Epoch 1] Confusion Matrix (New best)\n",
      "================================================================================\n",
      "Confusion Matrix:\n",
      "              Predicted\n",
      "           Real    Fake\n",
      "Real   [[  30       3]]\n",
      "Fake   [[  19       1]]\n",
      "\n",
      "Per-Class Metrics:\n",
      "  Real: Precision=0.612, Recall=0.909\n",
      "  Fake: Precision=0.250, Recall=0.050\n",
      "\n",
      "Overall Metrics:\n",
      "  Accuracy:  0.5849\n",
      "  F1:        0.0833\n",
      "  Precision: 0.2500\n",
      "  Recall:    0.0500\n",
      "  Loss:      0.7031\n",
      "\n",
      "Best So Far: Epoch 1, F1=0.0833\n",
      "================================================================================\n",
      "\n"
     ]
    },
    {
     "data": {
      "application/vnd.jupyter.widget-view+json": {
       "model_id": "e6160ab291f34d06854e690b5e4bcdad",
       "version_major": 2,
       "version_minor": 0
      },
      "text/plain": [
       "  0%|          | 0/1 [00:00<?, ?it/s]"
      ]
     },
     "metadata": {},
     "output_type": "display_data"
    },
    {
     "name": "stdout",
     "output_type": "stream",
     "text": [
      "{'eval_loss': 0.6899948716163635, 'eval_accuracy': 0.660377358490566, 'eval_f1': 0.18181818181818182, 'eval_precision': 1.0, 'eval_recall': 0.1, 'eval_runtime': 2.3599, 'eval_samples_per_second': 22.459, 'eval_steps_per_second': 0.424, 'epoch': 2.0}\n",
      "\n",
      "================================================================================\n",
      "[Epoch 2] Confusion Matrix (New best)\n",
      "================================================================================\n",
      "Confusion Matrix:\n",
      "              Predicted\n",
      "           Real    Fake\n",
      "Real   [[  33       0]]\n",
      "Fake   [[  18       2]]\n",
      "\n",
      "Per-Class Metrics:\n",
      "  Real: Precision=0.647, Recall=1.000\n",
      "  Fake: Precision=1.000, Recall=0.100\n",
      "\n",
      "Overall Metrics:\n",
      "  Accuracy:  0.6604\n",
      "  F1:        0.1818\n",
      "  Precision: 1.0000\n",
      "  Recall:    0.1000\n",
      "  Loss:      0.6900\n",
      "\n",
      "Best So Far: Epoch 2, F1=0.1818\n",
      "================================================================================\n",
      "\n"
     ]
    },
    {
     "data": {
      "application/vnd.jupyter.widget-view+json": {
       "model_id": "46cd169c70be440fa91f1e319b554635",
       "version_major": 2,
       "version_minor": 0
      },
      "text/plain": [
       "  0%|          | 0/1 [00:00<?, ?it/s]"
      ]
     },
     "metadata": {},
     "output_type": "display_data"
    },
    {
     "name": "stdout",
     "output_type": "stream",
     "text": [
      "{'eval_loss': 0.6691250205039978, 'eval_accuracy': 0.7547169811320755, 'eval_f1': 0.5806451612903226, 'eval_precision': 0.8181818181818182, 'eval_recall': 0.45, 'eval_runtime': 2.3205, 'eval_samples_per_second': 22.84, 'eval_steps_per_second': 0.431, 'epoch': 3.0}\n",
      "\n",
      "================================================================================\n",
      "[Epoch 3] Confusion Matrix (New best)\n",
      "================================================================================\n",
      "Confusion Matrix:\n",
      "              Predicted\n",
      "           Real    Fake\n",
      "Real   [[  31       2]]\n",
      "Fake   [[  11       9]]\n",
      "\n",
      "Per-Class Metrics:\n",
      "  Real: Precision=0.738, Recall=0.939\n",
      "  Fake: Precision=0.818, Recall=0.450\n",
      "\n",
      "Overall Metrics:\n",
      "  Accuracy:  0.7547\n",
      "  F1:        0.5806\n",
      "  Precision: 0.8182\n",
      "  Recall:    0.4500\n",
      "  Loss:      0.6691\n",
      "\n",
      "Best So Far: Epoch 3, F1=0.5806\n",
      "================================================================================\n",
      "\n"
     ]
    },
    {
     "data": {
      "application/vnd.jupyter.widget-view+json": {
       "model_id": "be6624e77bba452e937a39b095094dee",
       "version_major": 2,
       "version_minor": 0
      },
      "text/plain": [
       "  0%|          | 0/1 [00:00<?, ?it/s]"
      ]
     },
     "metadata": {},
     "output_type": "display_data"
    },
    {
     "name": "stdout",
     "output_type": "stream",
     "text": [
      "{'eval_loss': 0.6372031569480896, 'eval_accuracy': 0.7924528301886793, 'eval_f1': 0.7755102040816326, 'eval_precision': 0.6551724137931034, 'eval_recall': 0.95, 'eval_runtime': 2.339, 'eval_samples_per_second': 22.659, 'eval_steps_per_second': 0.428, 'epoch': 4.0}\n",
      "\n",
      "================================================================================\n",
      "[Epoch 4] Confusion Matrix (New best)\n",
      "================================================================================\n",
      "Confusion Matrix:\n",
      "              Predicted\n",
      "           Real    Fake\n",
      "Real   [[  23      10]]\n",
      "Fake   [[   1      19]]\n",
      "\n",
      "Per-Class Metrics:\n",
      "  Real: Precision=0.958, Recall=0.697\n",
      "  Fake: Precision=0.655, Recall=0.950\n",
      "\n",
      "Overall Metrics:\n",
      "  Accuracy:  0.7925\n",
      "  F1:        0.7755\n",
      "  Precision: 0.6552\n",
      "  Recall:    0.9500\n",
      "  Loss:      0.6372\n",
      "\n",
      "Best So Far: Epoch 4, F1=0.7755\n",
      "================================================================================\n",
      "\n",
      "{'loss': 0.6676, 'grad_norm': 1.9820423126220703, 'learning_rate': 5e-06, 'epoch': 5.0}\n"
     ]
    },
    {
     "data": {
      "application/vnd.jupyter.widget-view+json": {
       "model_id": "707552011cfb4f9ba62e4d2981f109dc",
       "version_major": 2,
       "version_minor": 0
      },
      "text/plain": [
       "  0%|          | 0/1 [00:00<?, ?it/s]"
      ]
     },
     "metadata": {},
     "output_type": "display_data"
    },
    {
     "name": "stdout",
     "output_type": "stream",
     "text": [
      "{'eval_loss': 0.5768534541130066, 'eval_accuracy': 0.8301886792452831, 'eval_f1': 0.8085106382978723, 'eval_precision': 0.7037037037037037, 'eval_recall': 0.95, 'eval_runtime': 2.3038, 'eval_samples_per_second': 23.005, 'eval_steps_per_second': 0.434, 'epoch': 5.0}\n",
      "\n",
      "================================================================================\n",
      "[Epoch 5] Confusion Matrix (New best)\n",
      "================================================================================\n",
      "Confusion Matrix:\n",
      "              Predicted\n",
      "           Real    Fake\n",
      "Real   [[  25       8]]\n",
      "Fake   [[   1      19]]\n",
      "\n",
      "Per-Class Metrics:\n",
      "  Real: Precision=0.962, Recall=0.758\n",
      "  Fake: Precision=0.704, Recall=0.950\n",
      "\n",
      "Overall Metrics:\n",
      "  Accuracy:  0.8302\n",
      "  F1:        0.8085\n",
      "  Precision: 0.7037\n",
      "  Recall:    0.9500\n",
      "  Loss:      0.5769\n",
      "\n",
      "Best So Far: Epoch 5, F1=0.8085\n",
      "================================================================================\n",
      "\n"
     ]
    },
    {
     "data": {
      "application/vnd.jupyter.widget-view+json": {
       "model_id": "03c0e2a48cae482d8ce0d1519647dacb",
       "version_major": 2,
       "version_minor": 0
      },
      "text/plain": [
       "  0%|          | 0/1 [00:00<?, ?it/s]"
      ]
     },
     "metadata": {},
     "output_type": "display_data"
    },
    {
     "name": "stdout",
     "output_type": "stream",
     "text": [
      "{'eval_loss': 0.4866400957107544, 'eval_accuracy': 0.8113207547169812, 'eval_f1': 0.7916666666666666, 'eval_precision': 0.6785714285714286, 'eval_recall': 0.95, 'eval_runtime': 2.3557, 'eval_samples_per_second': 22.499, 'eval_steps_per_second': 0.425, 'epoch': 6.0}\n",
      "\n",
      "================================================================================\n",
      "[Epoch 6] Confusion Matrix\n",
      "================================================================================\n",
      "Confusion Matrix:\n",
      "              Predicted\n",
      "           Real    Fake\n",
      "Real   [[  24       9]]\n",
      "Fake   [[   1      19]]\n",
      "\n",
      "Per-Class Metrics:\n",
      "  Real: Precision=0.960, Recall=0.727\n",
      "  Fake: Precision=0.679, Recall=0.950\n",
      "\n",
      "Overall Metrics:\n",
      "  Accuracy:  0.8113\n",
      "  F1:        0.7917\n",
      "  Precision: 0.6786\n",
      "  Recall:    0.9500\n",
      "  Loss:      0.4866\n",
      "\n",
      "Best So Far: Epoch 5, F1=0.8085\n",
      "================================================================================\n",
      "\n"
     ]
    },
    {
     "data": {
      "application/vnd.jupyter.widget-view+json": {
       "model_id": "bb32c112712e4b719c38fb1e9ff9e3ec",
       "version_major": 2,
       "version_minor": 0
      },
      "text/plain": [
       "  0%|          | 0/1 [00:00<?, ?it/s]"
      ]
     },
     "metadata": {},
     "output_type": "display_data"
    },
    {
     "name": "stdout",
     "output_type": "stream",
     "text": [
      "{'eval_loss': 0.41160812973976135, 'eval_accuracy': 0.7924528301886793, 'eval_f1': 0.7755102040816326, 'eval_precision': 0.6551724137931034, 'eval_recall': 0.95, 'eval_runtime': 2.3446, 'eval_samples_per_second': 22.605, 'eval_steps_per_second': 0.427, 'epoch': 7.0}\n",
      "\n",
      "================================================================================\n",
      "[Epoch 7] Confusion Matrix\n",
      "================================================================================\n",
      "Confusion Matrix:\n",
      "              Predicted\n",
      "           Real    Fake\n",
      "Real   [[  23      10]]\n",
      "Fake   [[   1      19]]\n",
      "\n",
      "Per-Class Metrics:\n",
      "  Real: Precision=0.958, Recall=0.697\n",
      "  Fake: Precision=0.655, Recall=0.950\n",
      "\n",
      "Overall Metrics:\n",
      "  Accuracy:  0.7925\n",
      "  F1:        0.7755\n",
      "  Precision: 0.6552\n",
      "  Recall:    0.9500\n",
      "  Loss:      0.4116\n",
      "\n",
      "Best So Far: Epoch 5, F1=0.8085\n",
      "================================================================================\n",
      "\n"
     ]
    },
    {
     "data": {
      "application/vnd.jupyter.widget-view+json": {
       "model_id": "fb9ee7d3fc3a4bbdadc16cb66a4bacef",
       "version_major": 2,
       "version_minor": 0
      },
      "text/plain": [
       "  0%|          | 0/1 [00:00<?, ?it/s]"
      ]
     },
     "metadata": {},
     "output_type": "display_data"
    },
    {
     "name": "stdout",
     "output_type": "stream",
     "text": [
      "{'eval_loss': 0.3542517423629761, 'eval_accuracy': 0.8679245283018868, 'eval_f1': 0.8444444444444444, 'eval_precision': 0.76, 'eval_recall': 0.95, 'eval_runtime': 2.4084, 'eval_samples_per_second': 22.006, 'eval_steps_per_second': 0.415, 'epoch': 8.0}\n",
      "\n",
      "================================================================================\n",
      "[Epoch 8] Confusion Matrix (New best)\n",
      "================================================================================\n",
      "Confusion Matrix:\n",
      "              Predicted\n",
      "           Real    Fake\n",
      "Real   [[  27       6]]\n",
      "Fake   [[   1      19]]\n",
      "\n",
      "Per-Class Metrics:\n",
      "  Real: Precision=0.964, Recall=0.818\n",
      "  Fake: Precision=0.760, Recall=0.950\n",
      "\n",
      "Overall Metrics:\n",
      "  Accuracy:  0.8679\n",
      "  F1:        0.8444\n",
      "  Precision: 0.7600\n",
      "  Recall:    0.9500\n",
      "  Loss:      0.3543\n",
      "\n",
      "Best So Far: Epoch 8, F1=0.8444\n",
      "================================================================================\n",
      "\n"
     ]
    },
    {
     "data": {
      "application/vnd.jupyter.widget-view+json": {
       "model_id": "8b10feb9af3c4ccf9a2c9fdc8cab031f",
       "version_major": 2,
       "version_minor": 0
      },
      "text/plain": [
       "  0%|          | 0/1 [00:00<?, ?it/s]"
      ]
     },
     "metadata": {},
     "output_type": "display_data"
    },
    {
     "name": "stdout",
     "output_type": "stream",
     "text": [
      "{'eval_loss': 0.3541967570781708, 'eval_accuracy': 0.8113207547169812, 'eval_f1': 0.7916666666666666, 'eval_precision': 0.6785714285714286, 'eval_recall': 0.95, 'eval_runtime': 2.2954, 'eval_samples_per_second': 23.09, 'eval_steps_per_second': 0.436, 'epoch': 9.0}\n",
      "\n",
      "================================================================================\n",
      "[Epoch 9] Confusion Matrix\n",
      "================================================================================\n",
      "Confusion Matrix:\n",
      "              Predicted\n",
      "           Real    Fake\n",
      "Real   [[  24       9]]\n",
      "Fake   [[   1      19]]\n",
      "\n",
      "Per-Class Metrics:\n",
      "  Real: Precision=0.960, Recall=0.727\n",
      "  Fake: Precision=0.679, Recall=0.950\n",
      "\n",
      "Overall Metrics:\n",
      "  Accuracy:  0.8113\n",
      "  F1:        0.7917\n",
      "  Precision: 0.6786\n",
      "  Recall:    0.9500\n",
      "  Loss:      0.3542\n",
      "\n",
      "Best So Far: Epoch 8, F1=0.8444\n",
      "================================================================================\n",
      "\n",
      "{'loss': 0.3908, 'grad_norm': 8.959654808044434, 'learning_rate': 1e-05, 'epoch': 10.0}\n"
     ]
    },
    {
     "data": {
      "application/vnd.jupyter.widget-view+json": {
       "model_id": "e057b2ff2de94ff6aacccccef465a6f6",
       "version_major": 2,
       "version_minor": 0
      },
      "text/plain": [
       "  0%|          | 0/1 [00:00<?, ?it/s]"
      ]
     },
     "metadata": {},
     "output_type": "display_data"
    },
    {
     "name": "stdout",
     "output_type": "stream",
     "text": [
      "{'eval_loss': 0.3684075176715851, 'eval_accuracy': 0.8113207547169812, 'eval_f1': 0.7619047619047619, 'eval_precision': 0.7272727272727273, 'eval_recall': 0.8, 'eval_runtime': 2.3407, 'eval_samples_per_second': 22.643, 'eval_steps_per_second': 0.427, 'epoch': 10.0}\n",
      "\n",
      "================================================================================\n",
      "[Epoch 10] Confusion Matrix\n",
      "================================================================================\n",
      "Confusion Matrix:\n",
      "              Predicted\n",
      "           Real    Fake\n",
      "Real   [[  27       6]]\n",
      "Fake   [[   4      16]]\n",
      "\n",
      "Per-Class Metrics:\n",
      "  Real: Precision=0.871, Recall=0.818\n",
      "  Fake: Precision=0.727, Recall=0.800\n",
      "\n",
      "Overall Metrics:\n",
      "  Accuracy:  0.8113\n",
      "  F1:        0.7619\n",
      "  Precision: 0.7273\n",
      "  Recall:    0.8000\n",
      "  Loss:      0.3684\n",
      "\n",
      "Best So Far: Epoch 8, F1=0.8444\n",
      "================================================================================\n",
      "\n"
     ]
    },
    {
     "data": {
      "application/vnd.jupyter.widget-view+json": {
       "model_id": "8838a3655e65490d9ced70f2fbbd636a",
       "version_major": 2,
       "version_minor": 0
      },
      "text/plain": [
       "  0%|          | 0/1 [00:00<?, ?it/s]"
      ]
     },
     "metadata": {},
     "output_type": "display_data"
    },
    {
     "name": "stdout",
     "output_type": "stream",
     "text": [
      "{'eval_loss': 0.4221496284008026, 'eval_accuracy': 0.8301886792452831, 'eval_f1': 0.7692307692307693, 'eval_precision': 0.7894736842105263, 'eval_recall': 0.75, 'eval_runtime': 2.3225, 'eval_samples_per_second': 22.82, 'eval_steps_per_second': 0.431, 'epoch': 11.0}\n",
      "\n",
      "================================================================================\n",
      "[Epoch 11] Confusion Matrix\n",
      "================================================================================\n",
      "Confusion Matrix:\n",
      "              Predicted\n",
      "           Real    Fake\n",
      "Real   [[  29       4]]\n",
      "Fake   [[   5      15]]\n",
      "\n",
      "Per-Class Metrics:\n",
      "  Real: Precision=0.853, Recall=0.879\n",
      "  Fake: Precision=0.789, Recall=0.750\n",
      "\n",
      "Overall Metrics:\n",
      "  Accuracy:  0.8302\n",
      "  F1:        0.7692\n",
      "  Precision: 0.7895\n",
      "  Recall:    0.7500\n",
      "  Loss:      0.4221\n",
      "\n",
      "Best So Far: Epoch 8, F1=0.8444\n",
      "================================================================================\n",
      "\n",
      "{'train_runtime': 230.4294, 'train_samples_per_second': 13.8, 'train_steps_per_second': 0.868, 'train_loss': 0.5015023751692338, 'epoch': 11.0}\n",
      "\n",
      "================================================================================\n",
      "TRAINING COMPLETE\n",
      "================================================================================\n",
      "Best Epoch: 8\n",
      "Best F1: 0.8444\n",
      "Best checkpoint: /Users/photoli93/Desktop/Projets perso Python/esa_fake_or_real/results/distilbert_fake_or_real/checkpoint-80\n",
      "Checkpoint verified on disk\n",
      "\n",
      "Verifying loaded model\n"
     ]
    },
    {
     "data": {
      "application/vnd.jupyter.widget-view+json": {
       "model_id": "6d531da5751042b4ab4caf1f54ac1f4e",
       "version_major": 2,
       "version_minor": 0
      },
      "text/plain": [
       "  0%|          | 0/1 [00:00<?, ?it/s]"
      ]
     },
     "metadata": {},
     "output_type": "display_data"
    },
    {
     "name": "stdout",
     "output_type": "stream",
     "text": [
      "Final Model F1: 0.8444\n",
      "Expected Best F1: 0.8444\n",
      "Correct: Best model was loaded\n",
      "================================================================================\n",
      "\n",
      "--------------------------------------------------------------------------------\n",
      "\n",
      "Fold trainer state\n",
      "Best checkpoint: /Users/photoli93/Desktop/Projets perso Python/esa_fake_or_real/results/distilbert_fake_or_real/checkpoint-80\n",
      "Best metric value (eval_f1): 0.8444444444444444\n",
      "--------------------------------------------------------------------------------\n"
     ]
    },
    {
     "data": {
      "application/vnd.jupyter.widget-view+json": {
       "model_id": "bdf1014366ad49b6b64e368b148f470c",
       "version_major": 2,
       "version_minor": 0
      },
      "text/plain": [
       "  0%|          | 0/1 [00:00<?, ?it/s]"
      ]
     },
     "metadata": {},
     "output_type": "display_data"
    },
    {
     "name": "stderr",
     "output_type": "stream",
     "text": [
      "Some weights of DistilBertForSequenceClassification were not initialized from the model checkpoint at distilbert-base-uncased and are newly initialized: ['classifier.bias', 'classifier.weight', 'pre_classifier.bias', 'pre_classifier.weight']\n",
      "You should probably TRAIN this model on a down-stream task to be able to use it for predictions and inference.\n"
     ]
    },
    {
     "name": "stdout",
     "output_type": "stream",
     "text": [
      "\n",
      "================================================================================\n",
      "[Epoch 11] Confusion Matrix\n",
      "================================================================================\n",
      "Confusion Matrix:\n",
      "              Predicted\n",
      "           Real    Fake\n",
      "Real   [[  27       6]]\n",
      "Fake   [[   1      19]]\n",
      "\n",
      "Per-Class Metrics:\n",
      "  Real: Precision=0.964, Recall=0.818\n",
      "  Fake: Precision=0.760, Recall=0.950\n",
      "\n",
      "Overall Metrics:\n",
      "  Accuracy:  0.8679\n",
      "  F1:        0.8444\n",
      "  Precision: 0.7600\n",
      "  Recall:    0.9500\n",
      "  Loss:      0.3543\n",
      "\n",
      "Best So Far: Epoch 8, F1=0.8444\n",
      "================================================================================\n",
      "\n",
      "Fold 2 evaluation (Best model metrics)\n",
      "{'eval_loss': 0.3542517423629761, 'eval_accuracy': 0.8679245283018868, 'eval_f1': 0.8444444444444444, 'eval_precision': 0.76, 'eval_recall': 0.95, 'eval_runtime': 2.1316, 'eval_samples_per_second': 24.864, 'eval_steps_per_second': 0.469, 'epoch': 11.0}\n",
      "--------------------------------------------------------------------------------\n",
      "\n",
      "Fold 3/4\n",
      "--------------------------------------------------------------------------------\n"
     ]
    },
    {
     "data": {
      "application/vnd.jupyter.widget-view+json": {
       "model_id": "304a52e9a6614c33803552b45c1067dd",
       "version_major": 2,
       "version_minor": 0
      },
      "text/plain": [
       "  0%|          | 0/200 [00:00<?, ?it/s]"
      ]
     },
     "metadata": {},
     "output_type": "display_data"
    },
    {
     "data": {
      "application/vnd.jupyter.widget-view+json": {
       "model_id": "bc887204c6304d91aaeb290de670fdf0",
       "version_major": 2,
       "version_minor": 0
      },
      "text/plain": [
       "  0%|          | 0/1 [00:00<?, ?it/s]"
      ]
     },
     "metadata": {},
     "output_type": "display_data"
    },
    {
     "name": "stdout",
     "output_type": "stream",
     "text": [
      "{'eval_loss': 0.703178346157074, 'eval_accuracy': 0.5660377358490566, 'eval_f1': 0.08, 'eval_precision': 0.25, 'eval_recall': 0.047619047619047616, 'eval_runtime': 2.3812, 'eval_samples_per_second': 22.258, 'eval_steps_per_second': 0.42, 'epoch': 1.0}\n",
      "\n",
      "================================================================================\n",
      "[Epoch 1] Confusion Matrix (New best)\n",
      "================================================================================\n",
      "Confusion Matrix:\n",
      "              Predicted\n",
      "           Real    Fake\n",
      "Real   [[  29       3]]\n",
      "Fake   [[  20       1]]\n",
      "\n",
      "Per-Class Metrics:\n",
      "  Real: Precision=0.592, Recall=0.906\n",
      "  Fake: Precision=0.250, Recall=0.048\n",
      "\n",
      "Overall Metrics:\n",
      "  Accuracy:  0.5660\n",
      "  F1:        0.0800\n",
      "  Precision: 0.2500\n",
      "  Recall:    0.0476\n",
      "  Loss:      0.7032\n",
      "\n",
      "Best So Far: Epoch 1, F1=0.0800\n",
      "================================================================================\n",
      "\n"
     ]
    },
    {
     "data": {
      "application/vnd.jupyter.widget-view+json": {
       "model_id": "fc2daecd7f444002865cea35287c4b28",
       "version_major": 2,
       "version_minor": 0
      },
      "text/plain": [
       "  0%|          | 0/1 [00:00<?, ?it/s]"
      ]
     },
     "metadata": {},
     "output_type": "display_data"
    },
    {
     "name": "stdout",
     "output_type": "stream",
     "text": [
      "{'eval_loss': 0.6904932856559753, 'eval_accuracy': 0.6226415094339622, 'eval_f1': 0.23076923076923078, 'eval_precision': 0.6, 'eval_recall': 0.14285714285714285, 'eval_runtime': 2.439, 'eval_samples_per_second': 21.73, 'eval_steps_per_second': 0.41, 'epoch': 2.0}\n",
      "\n",
      "================================================================================\n",
      "[Epoch 2] Confusion Matrix (New best)\n",
      "================================================================================\n",
      "Confusion Matrix:\n",
      "              Predicted\n",
      "           Real    Fake\n",
      "Real   [[  30       2]]\n",
      "Fake   [[  18       3]]\n",
      "\n",
      "Per-Class Metrics:\n",
      "  Real: Precision=0.625, Recall=0.938\n",
      "  Fake: Precision=0.600, Recall=0.143\n",
      "\n",
      "Overall Metrics:\n",
      "  Accuracy:  0.6226\n",
      "  F1:        0.2308\n",
      "  Precision: 0.6000\n",
      "  Recall:    0.1429\n",
      "  Loss:      0.6905\n",
      "\n",
      "Best So Far: Epoch 2, F1=0.2308\n",
      "================================================================================\n",
      "\n"
     ]
    },
    {
     "data": {
      "application/vnd.jupyter.widget-view+json": {
       "model_id": "82ebd5eaa43440839a1f7cc0e61adc3b",
       "version_major": 2,
       "version_minor": 0
      },
      "text/plain": [
       "  0%|          | 0/1 [00:00<?, ?it/s]"
      ]
     },
     "metadata": {},
     "output_type": "display_data"
    },
    {
     "name": "stdout",
     "output_type": "stream",
     "text": [
      "{'eval_loss': 0.6716821193695068, 'eval_accuracy': 0.660377358490566, 'eval_f1': 0.35714285714285715, 'eval_precision': 0.7142857142857143, 'eval_recall': 0.23809523809523808, 'eval_runtime': 2.4294, 'eval_samples_per_second': 21.816, 'eval_steps_per_second': 0.412, 'epoch': 3.0}\n",
      "\n",
      "================================================================================\n",
      "[Epoch 3] Confusion Matrix (New best)\n",
      "================================================================================\n",
      "Confusion Matrix:\n",
      "              Predicted\n",
      "           Real    Fake\n",
      "Real   [[  30       2]]\n",
      "Fake   [[  16       5]]\n",
      "\n",
      "Per-Class Metrics:\n",
      "  Real: Precision=0.652, Recall=0.938\n",
      "  Fake: Precision=0.714, Recall=0.238\n",
      "\n",
      "Overall Metrics:\n",
      "  Accuracy:  0.6604\n",
      "  F1:        0.3571\n",
      "  Precision: 0.7143\n",
      "  Recall:    0.2381\n",
      "  Loss:      0.6717\n",
      "\n",
      "Best So Far: Epoch 3, F1=0.3571\n",
      "================================================================================\n",
      "\n"
     ]
    },
    {
     "data": {
      "application/vnd.jupyter.widget-view+json": {
       "model_id": "54bbc667f13749a295325f4d10d822b5",
       "version_major": 2,
       "version_minor": 0
      },
      "text/plain": [
       "  0%|          | 0/1 [00:00<?, ?it/s]"
      ]
     },
     "metadata": {},
     "output_type": "display_data"
    },
    {
     "name": "stdout",
     "output_type": "stream",
     "text": [
      "{'eval_loss': 0.6428462862968445, 'eval_accuracy': 0.8867924528301887, 'eval_f1': 0.8636363636363636, 'eval_precision': 0.8260869565217391, 'eval_recall': 0.9047619047619048, 'eval_runtime': 2.466, 'eval_samples_per_second': 21.492, 'eval_steps_per_second': 0.406, 'epoch': 4.0}\n",
      "\n",
      "================================================================================\n",
      "[Epoch 4] Confusion Matrix (New best)\n",
      "================================================================================\n",
      "Confusion Matrix:\n",
      "              Predicted\n",
      "           Real    Fake\n",
      "Real   [[  28       4]]\n",
      "Fake   [[   2      19]]\n",
      "\n",
      "Per-Class Metrics:\n",
      "  Real: Precision=0.933, Recall=0.875\n",
      "  Fake: Precision=0.826, Recall=0.905\n",
      "\n",
      "Overall Metrics:\n",
      "  Accuracy:  0.8868\n",
      "  F1:        0.8636\n",
      "  Precision: 0.8261\n",
      "  Recall:    0.9048\n",
      "  Loss:      0.6428\n",
      "\n",
      "Best So Far: Epoch 4, F1=0.8636\n",
      "================================================================================\n",
      "\n",
      "{'loss': 0.671, 'grad_norm': 1.8017971515655518, 'learning_rate': 5e-06, 'epoch': 5.0}\n"
     ]
    },
    {
     "data": {
      "application/vnd.jupyter.widget-view+json": {
       "model_id": "325af6ff9e7a47729277dcb3243151fc",
       "version_major": 2,
       "version_minor": 0
      },
      "text/plain": [
       "  0%|          | 0/1 [00:00<?, ?it/s]"
      ]
     },
     "metadata": {},
     "output_type": "display_data"
    },
    {
     "name": "stdout",
     "output_type": "stream",
     "text": [
      "{'eval_loss': 0.587121307849884, 'eval_accuracy': 0.8301886792452831, 'eval_f1': 0.8085106382978723, 'eval_precision': 0.7307692307692307, 'eval_recall': 0.9047619047619048, 'eval_runtime': 2.416, 'eval_samples_per_second': 21.938, 'eval_steps_per_second': 0.414, 'epoch': 5.0}\n",
      "\n",
      "================================================================================\n",
      "[Epoch 5] Confusion Matrix\n",
      "================================================================================\n",
      "Confusion Matrix:\n",
      "              Predicted\n",
      "           Real    Fake\n",
      "Real   [[  25       7]]\n",
      "Fake   [[   2      19]]\n",
      "\n",
      "Per-Class Metrics:\n",
      "  Real: Precision=0.926, Recall=0.781\n",
      "  Fake: Precision=0.731, Recall=0.905\n",
      "\n",
      "Overall Metrics:\n",
      "  Accuracy:  0.8302\n",
      "  F1:        0.8085\n",
      "  Precision: 0.7308\n",
      "  Recall:    0.9048\n",
      "  Loss:      0.5871\n",
      "\n",
      "Best So Far: Epoch 4, F1=0.8636\n",
      "================================================================================\n",
      "\n"
     ]
    },
    {
     "data": {
      "application/vnd.jupyter.widget-view+json": {
       "model_id": "c8b06a37a65a46b99802f3d385381f79",
       "version_major": 2,
       "version_minor": 0
      },
      "text/plain": [
       "  0%|          | 0/1 [00:00<?, ?it/s]"
      ]
     },
     "metadata": {},
     "output_type": "display_data"
    },
    {
     "name": "stdout",
     "output_type": "stream",
     "text": [
      "{'eval_loss': 0.49164143204689026, 'eval_accuracy': 0.8301886792452831, 'eval_f1': 0.8085106382978723, 'eval_precision': 0.7307692307692307, 'eval_recall': 0.9047619047619048, 'eval_runtime': 2.4475, 'eval_samples_per_second': 21.655, 'eval_steps_per_second': 0.409, 'epoch': 6.0}\n",
      "\n",
      "================================================================================\n",
      "[Epoch 6] Confusion Matrix\n",
      "================================================================================\n",
      "Confusion Matrix:\n",
      "              Predicted\n",
      "           Real    Fake\n",
      "Real   [[  25       7]]\n",
      "Fake   [[   2      19]]\n",
      "\n",
      "Per-Class Metrics:\n",
      "  Real: Precision=0.926, Recall=0.781\n",
      "  Fake: Precision=0.731, Recall=0.905\n",
      "\n",
      "Overall Metrics:\n",
      "  Accuracy:  0.8302\n",
      "  F1:        0.8085\n",
      "  Precision: 0.7308\n",
      "  Recall:    0.9048\n",
      "  Loss:      0.4916\n",
      "\n",
      "Best So Far: Epoch 4, F1=0.8636\n",
      "================================================================================\n",
      "\n"
     ]
    },
    {
     "data": {
      "application/vnd.jupyter.widget-view+json": {
       "model_id": "7b6151e71f124211a96cae3472a839a9",
       "version_major": 2,
       "version_minor": 0
      },
      "text/plain": [
       "  0%|          | 0/1 [00:00<?, ?it/s]"
      ]
     },
     "metadata": {},
     "output_type": "display_data"
    },
    {
     "name": "stdout",
     "output_type": "stream",
     "text": [
      "{'eval_loss': 0.40291401743888855, 'eval_accuracy': 0.8490566037735849, 'eval_f1': 0.8333333333333334, 'eval_precision': 0.7407407407407407, 'eval_recall': 0.9523809523809523, 'eval_runtime': 2.4463, 'eval_samples_per_second': 21.666, 'eval_steps_per_second': 0.409, 'epoch': 7.0}\n",
      "\n",
      "================================================================================\n",
      "[Epoch 7] Confusion Matrix\n",
      "================================================================================\n",
      "Confusion Matrix:\n",
      "              Predicted\n",
      "           Real    Fake\n",
      "Real   [[  25       7]]\n",
      "Fake   [[   1      20]]\n",
      "\n",
      "Per-Class Metrics:\n",
      "  Real: Precision=0.962, Recall=0.781\n",
      "  Fake: Precision=0.741, Recall=0.952\n",
      "\n",
      "Overall Metrics:\n",
      "  Accuracy:  0.8491\n",
      "  F1:        0.8333\n",
      "  Precision: 0.7407\n",
      "  Recall:    0.9524\n",
      "  Loss:      0.4029\n",
      "\n",
      "Best So Far: Epoch 4, F1=0.8636\n",
      "================================================================================\n",
      "\n",
      "{'train_runtime': 146.6356, 'train_samples_per_second': 21.686, 'train_steps_per_second': 1.364, 'train_loss': 0.6253912244524275, 'epoch': 7.0}\n",
      "\n",
      "================================================================================\n",
      "TRAINING COMPLETE\n",
      "================================================================================\n",
      "Best Epoch: 4\n",
      "Best F1: 0.8636\n",
      "Best checkpoint: /Users/photoli93/Desktop/Projets perso Python/esa_fake_or_real/results/distilbert_fake_or_real/checkpoint-40\n",
      "Checkpoint verified on disk\n",
      "\n",
      "Verifying loaded model\n"
     ]
    },
    {
     "data": {
      "application/vnd.jupyter.widget-view+json": {
       "model_id": "3a60322e3a294b85bb78cdb1af637a3f",
       "version_major": 2,
       "version_minor": 0
      },
      "text/plain": [
       "  0%|          | 0/1 [00:00<?, ?it/s]"
      ]
     },
     "metadata": {},
     "output_type": "display_data"
    },
    {
     "name": "stdout",
     "output_type": "stream",
     "text": [
      "Final Model F1: 0.8636\n",
      "Expected Best F1: 0.8636\n",
      "Correct: Best model was loaded\n",
      "================================================================================\n",
      "\n",
      "--------------------------------------------------------------------------------\n",
      "\n",
      "Fold trainer state\n",
      "Best checkpoint: /Users/photoli93/Desktop/Projets perso Python/esa_fake_or_real/results/distilbert_fake_or_real/checkpoint-40\n",
      "Best metric value (eval_f1): 0.8636363636363636\n",
      "--------------------------------------------------------------------------------\n"
     ]
    },
    {
     "data": {
      "application/vnd.jupyter.widget-view+json": {
       "model_id": "f06a4839c06242909d240db5d497cdfb",
       "version_major": 2,
       "version_minor": 0
      },
      "text/plain": [
       "  0%|          | 0/1 [00:00<?, ?it/s]"
      ]
     },
     "metadata": {},
     "output_type": "display_data"
    },
    {
     "name": "stderr",
     "output_type": "stream",
     "text": [
      "Some weights of DistilBertForSequenceClassification were not initialized from the model checkpoint at distilbert-base-uncased and are newly initialized: ['classifier.bias', 'classifier.weight', 'pre_classifier.bias', 'pre_classifier.weight']\n",
      "You should probably TRAIN this model on a down-stream task to be able to use it for predictions and inference.\n"
     ]
    },
    {
     "name": "stdout",
     "output_type": "stream",
     "text": [
      "\n",
      "================================================================================\n",
      "[Epoch 7] Confusion Matrix\n",
      "================================================================================\n",
      "Confusion Matrix:\n",
      "              Predicted\n",
      "           Real    Fake\n",
      "Real   [[  28       4]]\n",
      "Fake   [[   2      19]]\n",
      "\n",
      "Per-Class Metrics:\n",
      "  Real: Precision=0.933, Recall=0.875\n",
      "  Fake: Precision=0.826, Recall=0.905\n",
      "\n",
      "Overall Metrics:\n",
      "  Accuracy:  0.8868\n",
      "  F1:        0.8636\n",
      "  Precision: 0.8261\n",
      "  Recall:    0.9048\n",
      "  Loss:      0.6428\n",
      "\n",
      "Best So Far: Epoch 4, F1=0.8636\n",
      "================================================================================\n",
      "\n",
      "Fold 3 evaluation (Best model metrics)\n",
      "{'eval_loss': 0.6428462862968445, 'eval_accuracy': 0.8867924528301887, 'eval_f1': 0.8636363636363636, 'eval_precision': 0.8260869565217391, 'eval_recall': 0.9047619047619048, 'eval_runtime': 2.2857, 'eval_samples_per_second': 23.188, 'eval_steps_per_second': 0.438, 'epoch': 7.0}\n",
      "--------------------------------------------------------------------------------\n",
      "\n",
      "Fold 4/4\n",
      "--------------------------------------------------------------------------------\n"
     ]
    },
    {
     "data": {
      "application/vnd.jupyter.widget-view+json": {
       "model_id": "0b03ec49aaa245d1aadec2840fbc909b",
       "version_major": 2,
       "version_minor": 0
      },
      "text/plain": [
       "  0%|          | 0/200 [00:00<?, ?it/s]"
      ]
     },
     "metadata": {},
     "output_type": "display_data"
    },
    {
     "data": {
      "application/vnd.jupyter.widget-view+json": {
       "model_id": "69c5919e39a046c5aa31668f532d375f",
       "version_major": 2,
       "version_minor": 0
      },
      "text/plain": [
       "  0%|          | 0/1 [00:00<?, ?it/s]"
      ]
     },
     "metadata": {},
     "output_type": "display_data"
    },
    {
     "name": "stdout",
     "output_type": "stream",
     "text": [
      "{'eval_loss': 0.6819256544113159, 'eval_accuracy': 0.6981132075471698, 'eval_f1': 0.0, 'eval_precision': 0.0, 'eval_recall': 0.0, 'eval_runtime': 2.4227, 'eval_samples_per_second': 21.876, 'eval_steps_per_second': 0.413, 'epoch': 1.0}\n",
      "\n",
      "================================================================================\n",
      "[Epoch 1] Confusion Matrix (New best)\n",
      "================================================================================\n",
      "Confusion Matrix:\n",
      "              Predicted\n",
      "           Real    Fake\n",
      "Real   [[  37       0]]\n",
      "Fake   [[  16       0]]\n",
      "\n",
      "Per-Class Metrics:\n",
      "  Real: Precision=0.698, Recall=1.000\n",
      "  Fake: Precision=0.000, Recall=0.000\n",
      "\n",
      "Overall Metrics:\n",
      "  Accuracy:  0.6981\n",
      "  F1:        0.0000\n",
      "  Precision: 0.0000\n",
      "  Recall:    0.0000\n",
      "  Loss:      0.6819\n",
      "\n",
      "Best So Far: Epoch 1, F1=0.0000\n",
      "================================================================================\n",
      "\n"
     ]
    },
    {
     "data": {
      "application/vnd.jupyter.widget-view+json": {
       "model_id": "c12876d4e910404482ac424064bcefbd",
       "version_major": 2,
       "version_minor": 0
      },
      "text/plain": [
       "  0%|          | 0/1 [00:00<?, ?it/s]"
      ]
     },
     "metadata": {},
     "output_type": "display_data"
    },
    {
     "name": "stdout",
     "output_type": "stream",
     "text": [
      "{'eval_loss': 0.6702266931533813, 'eval_accuracy': 0.7547169811320755, 'eval_f1': 0.3157894736842105, 'eval_precision': 1.0, 'eval_recall': 0.1875, 'eval_runtime': 2.4433, 'eval_samples_per_second': 21.692, 'eval_steps_per_second': 0.409, 'epoch': 2.0}\n",
      "\n",
      "================================================================================\n",
      "[Epoch 2] Confusion Matrix (New best)\n",
      "================================================================================\n",
      "Confusion Matrix:\n",
      "              Predicted\n",
      "           Real    Fake\n",
      "Real   [[  37       0]]\n",
      "Fake   [[  13       3]]\n",
      "\n",
      "Per-Class Metrics:\n",
      "  Real: Precision=0.740, Recall=1.000\n",
      "  Fake: Precision=1.000, Recall=0.188\n",
      "\n",
      "Overall Metrics:\n",
      "  Accuracy:  0.7547\n",
      "  F1:        0.3158\n",
      "  Precision: 1.0000\n",
      "  Recall:    0.1875\n",
      "  Loss:      0.6702\n",
      "\n",
      "Best So Far: Epoch 2, F1=0.3158\n",
      "================================================================================\n",
      "\n"
     ]
    },
    {
     "data": {
      "application/vnd.jupyter.widget-view+json": {
       "model_id": "8f50df964c774ae6b94b4cc1007fbe68",
       "version_major": 2,
       "version_minor": 0
      },
      "text/plain": [
       "  0%|          | 0/1 [00:00<?, ?it/s]"
      ]
     },
     "metadata": {},
     "output_type": "display_data"
    },
    {
     "name": "stdout",
     "output_type": "stream",
     "text": [
      "{'eval_loss': 0.6498641967773438, 'eval_accuracy': 0.7358490566037735, 'eval_f1': 0.6111111111111112, 'eval_precision': 0.55, 'eval_recall': 0.6875, 'eval_runtime': 2.4342, 'eval_samples_per_second': 21.773, 'eval_steps_per_second': 0.411, 'epoch': 3.0}\n",
      "\n",
      "================================================================================\n",
      "[Epoch 3] Confusion Matrix (New best)\n",
      "================================================================================\n",
      "Confusion Matrix:\n",
      "              Predicted\n",
      "           Real    Fake\n",
      "Real   [[  28       9]]\n",
      "Fake   [[   5      11]]\n",
      "\n",
      "Per-Class Metrics:\n",
      "  Real: Precision=0.848, Recall=0.757\n",
      "  Fake: Precision=0.550, Recall=0.688\n",
      "\n",
      "Overall Metrics:\n",
      "  Accuracy:  0.7358\n",
      "  F1:        0.6111\n",
      "  Precision: 0.5500\n",
      "  Recall:    0.6875\n",
      "  Loss:      0.6499\n",
      "\n",
      "Best So Far: Epoch 3, F1=0.6111\n",
      "================================================================================\n",
      "\n"
     ]
    },
    {
     "data": {
      "application/vnd.jupyter.widget-view+json": {
       "model_id": "fbd3b4fdda4d45d29b1e120341138fc1",
       "version_major": 2,
       "version_minor": 0
      },
      "text/plain": [
       "  0%|          | 0/1 [00:00<?, ?it/s]"
      ]
     },
     "metadata": {},
     "output_type": "display_data"
    },
    {
     "name": "stdout",
     "output_type": "stream",
     "text": [
      "{'eval_loss': 0.6114247441291809, 'eval_accuracy': 0.7169811320754716, 'eval_f1': 0.6808510638297872, 'eval_precision': 0.5161290322580645, 'eval_recall': 1.0, 'eval_runtime': 2.4423, 'eval_samples_per_second': 21.701, 'eval_steps_per_second': 0.409, 'epoch': 4.0}\n",
      "\n",
      "================================================================================\n",
      "[Epoch 4] Confusion Matrix (New best)\n",
      "================================================================================\n",
      "Confusion Matrix:\n",
      "              Predicted\n",
      "           Real    Fake\n",
      "Real   [[  22      15]]\n",
      "Fake   [[   0      16]]\n",
      "\n",
      "Per-Class Metrics:\n",
      "  Real: Precision=1.000, Recall=0.595\n",
      "  Fake: Precision=0.516, Recall=1.000\n",
      "\n",
      "Overall Metrics:\n",
      "  Accuracy:  0.7170\n",
      "  F1:        0.6809\n",
      "  Precision: 0.5161\n",
      "  Recall:    1.0000\n",
      "  Loss:      0.6114\n",
      "\n",
      "Best So Far: Epoch 4, F1=0.6809\n",
      "================================================================================\n",
      "\n",
      "{'loss': 0.6524, 'grad_norm': 3.021094560623169, 'learning_rate': 5e-06, 'epoch': 5.0}\n"
     ]
    },
    {
     "data": {
      "application/vnd.jupyter.widget-view+json": {
       "model_id": "90977ec7ab0c42f7a1e1b4770c8bc1f5",
       "version_major": 2,
       "version_minor": 0
      },
      "text/plain": [
       "  0%|          | 0/1 [00:00<?, ?it/s]"
      ]
     },
     "metadata": {},
     "output_type": "display_data"
    },
    {
     "name": "stdout",
     "output_type": "stream",
     "text": [
      "{'eval_loss': 0.5562828183174133, 'eval_accuracy': 0.7169811320754716, 'eval_f1': 0.6808510638297872, 'eval_precision': 0.5161290322580645, 'eval_recall': 1.0, 'eval_runtime': 2.4258, 'eval_samples_per_second': 21.849, 'eval_steps_per_second': 0.412, 'epoch': 5.0}\n",
      "\n",
      "================================================================================\n",
      "[Epoch 5] Confusion Matrix\n",
      "================================================================================\n",
      "Confusion Matrix:\n",
      "              Predicted\n",
      "           Real    Fake\n",
      "Real   [[  22      15]]\n",
      "Fake   [[   0      16]]\n",
      "\n",
      "Per-Class Metrics:\n",
      "  Real: Precision=1.000, Recall=0.595\n",
      "  Fake: Precision=0.516, Recall=1.000\n",
      "\n",
      "Overall Metrics:\n",
      "  Accuracy:  0.7170\n",
      "  F1:        0.6809\n",
      "  Precision: 0.5161\n",
      "  Recall:    1.0000\n",
      "  Loss:      0.5563\n",
      "\n",
      "Best So Far: Epoch 4, F1=0.6809\n",
      "================================================================================\n",
      "\n"
     ]
    },
    {
     "data": {
      "application/vnd.jupyter.widget-view+json": {
       "model_id": "17c05be0a1e84788bf4744a40dc7422a",
       "version_major": 2,
       "version_minor": 0
      },
      "text/plain": [
       "  0%|          | 0/1 [00:00<?, ?it/s]"
      ]
     },
     "metadata": {},
     "output_type": "display_data"
    },
    {
     "name": "stdout",
     "output_type": "stream",
     "text": [
      "{'eval_loss': 0.4883077144622803, 'eval_accuracy': 0.7169811320754716, 'eval_f1': 0.6666666666666666, 'eval_precision': 0.5172413793103449, 'eval_recall': 0.9375, 'eval_runtime': 2.4112, 'eval_samples_per_second': 21.98, 'eval_steps_per_second': 0.415, 'epoch': 6.0}\n",
      "\n",
      "================================================================================\n",
      "[Epoch 6] Confusion Matrix\n",
      "================================================================================\n",
      "Confusion Matrix:\n",
      "              Predicted\n",
      "           Real    Fake\n",
      "Real   [[  23      14]]\n",
      "Fake   [[   1      15]]\n",
      "\n",
      "Per-Class Metrics:\n",
      "  Real: Precision=0.958, Recall=0.622\n",
      "  Fake: Precision=0.517, Recall=0.938\n",
      "\n",
      "Overall Metrics:\n",
      "  Accuracy:  0.7170\n",
      "  F1:        0.6667\n",
      "  Precision: 0.5172\n",
      "  Recall:    0.9375\n",
      "  Loss:      0.4883\n",
      "\n",
      "Best So Far: Epoch 4, F1=0.6809\n",
      "================================================================================\n",
      "\n"
     ]
    },
    {
     "data": {
      "application/vnd.jupyter.widget-view+json": {
       "model_id": "37327208062a4f7d8ab6c8a833e81eae",
       "version_major": 2,
       "version_minor": 0
      },
      "text/plain": [
       "  0%|          | 0/1 [00:00<?, ?it/s]"
      ]
     },
     "metadata": {},
     "output_type": "display_data"
    },
    {
     "name": "stdout",
     "output_type": "stream",
     "text": [
      "{'eval_loss': 0.46777552366256714, 'eval_accuracy': 0.7169811320754716, 'eval_f1': 0.6808510638297872, 'eval_precision': 0.5161290322580645, 'eval_recall': 1.0, 'eval_runtime': 2.4758, 'eval_samples_per_second': 21.407, 'eval_steps_per_second': 0.404, 'epoch': 7.0}\n",
      "\n",
      "================================================================================\n",
      "[Epoch 7] Confusion Matrix\n",
      "================================================================================\n",
      "Confusion Matrix:\n",
      "              Predicted\n",
      "           Real    Fake\n",
      "Real   [[  22      15]]\n",
      "Fake   [[   0      16]]\n",
      "\n",
      "Per-Class Metrics:\n",
      "  Real: Precision=1.000, Recall=0.595\n",
      "  Fake: Precision=0.516, Recall=1.000\n",
      "\n",
      "Overall Metrics:\n",
      "  Accuracy:  0.7170\n",
      "  F1:        0.6809\n",
      "  Precision: 0.5161\n",
      "  Recall:    1.0000\n",
      "  Loss:      0.4678\n",
      "\n",
      "Best So Far: Epoch 4, F1=0.6809\n",
      "================================================================================\n",
      "\n",
      "{'train_runtime': 146.1072, 'train_samples_per_second': 21.765, 'train_steps_per_second': 1.369, 'train_loss': 0.5984152930123465, 'epoch': 7.0}\n",
      "\n",
      "================================================================================\n",
      "TRAINING COMPLETE\n",
      "================================================================================\n",
      "Best Epoch: 4\n",
      "Best F1: 0.6809\n",
      "Best checkpoint: /Users/photoli93/Desktop/Projets perso Python/esa_fake_or_real/results/distilbert_fake_or_real/checkpoint-40\n",
      "Checkpoint verified on disk\n",
      "\n",
      "Verifying loaded model\n"
     ]
    },
    {
     "data": {
      "application/vnd.jupyter.widget-view+json": {
       "model_id": "86509a0deb584e84826c8c99db86fce0",
       "version_major": 2,
       "version_minor": 0
      },
      "text/plain": [
       "  0%|          | 0/1 [00:00<?, ?it/s]"
      ]
     },
     "metadata": {},
     "output_type": "display_data"
    },
    {
     "name": "stdout",
     "output_type": "stream",
     "text": [
      "Final Model F1: 0.6809\n",
      "Expected Best F1: 0.6809\n",
      "Correct: Best model was loaded\n",
      "================================================================================\n",
      "\n",
      "--------------------------------------------------------------------------------\n",
      "\n",
      "Fold trainer state\n",
      "Best checkpoint: /Users/photoli93/Desktop/Projets perso Python/esa_fake_or_real/results/distilbert_fake_or_real/checkpoint-40\n",
      "Best metric value (eval_f1): 0.6808510638297872\n",
      "--------------------------------------------------------------------------------\n"
     ]
    },
    {
     "data": {
      "application/vnd.jupyter.widget-view+json": {
       "model_id": "5531bd1acdd44574ba0e7cd2d6af20b2",
       "version_major": 2,
       "version_minor": 0
      },
      "text/plain": [
       "  0%|          | 0/1 [00:00<?, ?it/s]"
      ]
     },
     "metadata": {},
     "output_type": "display_data"
    },
    {
     "name": "stderr",
     "output_type": "stream",
     "text": [
      "Some weights of DistilBertForSequenceClassification were not initialized from the model checkpoint at distilbert-base-uncased and are newly initialized: ['classifier.bias', 'classifier.weight', 'pre_classifier.bias', 'pre_classifier.weight']\n",
      "You should probably TRAIN this model on a down-stream task to be able to use it for predictions and inference.\n"
     ]
    },
    {
     "name": "stdout",
     "output_type": "stream",
     "text": [
      "\n",
      "================================================================================\n",
      "[Epoch 7] Confusion Matrix\n",
      "================================================================================\n",
      "Confusion Matrix:\n",
      "              Predicted\n",
      "           Real    Fake\n",
      "Real   [[  22      15]]\n",
      "Fake   [[   0      16]]\n",
      "\n",
      "Per-Class Metrics:\n",
      "  Real: Precision=1.000, Recall=0.595\n",
      "  Fake: Precision=0.516, Recall=1.000\n",
      "\n",
      "Overall Metrics:\n",
      "  Accuracy:  0.7170\n",
      "  F1:        0.6809\n",
      "  Precision: 0.5161\n",
      "  Recall:    1.0000\n",
      "  Loss:      0.6114\n",
      "\n",
      "Best So Far: Epoch 4, F1=0.6809\n",
      "================================================================================\n",
      "\n",
      "Fold 4 evaluation (Best model metrics)\n",
      "{'eval_loss': 0.6114247441291809, 'eval_accuracy': 0.7169811320754716, 'eval_f1': 0.6808510638297872, 'eval_precision': 0.5161290322580645, 'eval_recall': 1.0, 'eval_runtime': 2.2109, 'eval_samples_per_second': 23.972, 'eval_steps_per_second': 0.452, 'epoch': 7.0}\n",
      "\n",
      "Cross-validation summary\n",
      "{'eval_loss': 0.4867815673351288, 'eval_accuracy': 0.830188679245283, 'eval_f1': 0.7996139203586012, 'eval_precision': 0.6955539971949509, 'eval_recall': 0.9636904761904762, 'eval_runtime': 2.237575, 'eval_samples_per_second': 23.712249999999997, 'eval_steps_per_second': 0.44749999999999995, 'epoch': 9.0}\n",
      "\n",
      "Final training on full dataset\n",
      "\n",
      "Starting final training on full training dataset\n"
     ]
    },
    {
     "data": {
      "application/vnd.jupyter.widget-view+json": {
       "model_id": "30cfa75dd4724a4abae3cb35df30c56e",
       "version_major": 2,
       "version_minor": 0
      },
      "text/plain": [
       "  0%|          | 0/280 [00:00<?, ?it/s]"
      ]
     },
     "metadata": {},
     "output_type": "display_data"
    },
    {
     "data": {
      "application/vnd.jupyter.widget-view+json": {
       "model_id": "1744324e1df74806afdb285585928f2d",
       "version_major": 2,
       "version_minor": 0
      },
      "text/plain": [
       "  0%|          | 0/1 [00:00<?, ?it/s]"
      ]
     },
     "metadata": {},
     "output_type": "display_data"
    },
    {
     "name": "stdout",
     "output_type": "stream",
     "text": [
      "{'eval_loss': 0.7050134539604187, 'eval_accuracy': 0.5365853658536586, 'eval_f1': 0.0, 'eval_precision': 0.0, 'eval_recall': 0.0, 'eval_runtime': 2.5352, 'eval_samples_per_second': 16.172, 'eval_steps_per_second': 0.394, 'epoch': 1.0}\n",
      "\n",
      "================================================================================\n",
      "[Epoch 1] Confusion Matrix (New best)\n",
      "================================================================================\n",
      "Confusion Matrix:\n",
      "              Predicted\n",
      "           Real    Fake\n",
      "Real   [[  22       0]]\n",
      "Fake   [[  19       0]]\n",
      "\n",
      "Per-Class Metrics:\n",
      "  Real: Precision=0.537, Recall=1.000\n",
      "  Fake: Precision=0.000, Recall=0.000\n",
      "\n",
      "Overall Metrics:\n",
      "  Accuracy:  0.5366\n",
      "  F1:        0.0000\n",
      "  Precision: 0.0000\n",
      "  Recall:    0.0000\n",
      "  Loss:      0.7050\n",
      "\n",
      "Best So Far: Epoch 1, F1=0.0000\n",
      "================================================================================\n",
      "\n"
     ]
    },
    {
     "data": {
      "application/vnd.jupyter.widget-view+json": {
       "model_id": "26205749c62449b38cdbc81b2bed65ab",
       "version_major": 2,
       "version_minor": 0
      },
      "text/plain": [
       "  0%|          | 0/1 [00:00<?, ?it/s]"
      ]
     },
     "metadata": {},
     "output_type": "display_data"
    },
    {
     "name": "stdout",
     "output_type": "stream",
     "text": [
      "{'eval_loss': 0.6804280281066895, 'eval_accuracy': 0.6585365853658537, 'eval_f1': 0.65, 'eval_precision': 0.6190476190476191, 'eval_recall': 0.6842105263157895, 'eval_runtime': 2.4568, 'eval_samples_per_second': 16.688, 'eval_steps_per_second': 0.407, 'epoch': 2.0}\n",
      "\n",
      "================================================================================\n",
      "[Epoch 2] Confusion Matrix (New best)\n",
      "================================================================================\n",
      "Confusion Matrix:\n",
      "              Predicted\n",
      "           Real    Fake\n",
      "Real   [[  14       8]]\n",
      "Fake   [[   6      13]]\n",
      "\n",
      "Per-Class Metrics:\n",
      "  Real: Precision=0.700, Recall=0.636\n",
      "  Fake: Precision=0.619, Recall=0.684\n",
      "\n",
      "Overall Metrics:\n",
      "  Accuracy:  0.6585\n",
      "  F1:        0.6500\n",
      "  Precision: 0.6190\n",
      "  Recall:    0.6842\n",
      "  Loss:      0.6804\n",
      "\n",
      "Best So Far: Epoch 2, F1=0.6500\n",
      "================================================================================\n",
      "\n"
     ]
    },
    {
     "data": {
      "application/vnd.jupyter.widget-view+json": {
       "model_id": "4a377ecb074449448d1fd956dc2cc72d",
       "version_major": 2,
       "version_minor": 0
      },
      "text/plain": [
       "  0%|          | 0/1 [00:00<?, ?it/s]"
      ]
     },
     "metadata": {},
     "output_type": "display_data"
    },
    {
     "name": "stdout",
     "output_type": "stream",
     "text": [
      "{'eval_loss': 0.6258090734481812, 'eval_accuracy': 0.6829268292682927, 'eval_f1': 0.7450980392156863, 'eval_precision': 0.59375, 'eval_recall': 1.0, 'eval_runtime': 4.9783, 'eval_samples_per_second': 8.236, 'eval_steps_per_second': 0.201, 'epoch': 3.0}\n",
      "\n",
      "================================================================================\n",
      "[Epoch 3] Confusion Matrix (New best)\n",
      "================================================================================\n",
      "Confusion Matrix:\n",
      "              Predicted\n",
      "           Real    Fake\n",
      "Real   [[   9      13]]\n",
      "Fake   [[   0      19]]\n",
      "\n",
      "Per-Class Metrics:\n",
      "  Real: Precision=1.000, Recall=0.409\n",
      "  Fake: Precision=0.594, Recall=1.000\n",
      "\n",
      "Overall Metrics:\n",
      "  Accuracy:  0.6829\n",
      "  F1:        0.7451\n",
      "  Precision: 0.5938\n",
      "  Recall:    1.0000\n",
      "  Loss:      0.6258\n",
      "\n",
      "Best So Far: Epoch 3, F1=0.7451\n",
      "================================================================================\n",
      "\n",
      "{'loss': 0.652, 'grad_norm': 2.1886379718780518, 'learning_rate': 5e-06, 'epoch': 3.57}\n"
     ]
    },
    {
     "data": {
      "application/vnd.jupyter.widget-view+json": {
       "model_id": "2e832e998eec4fe8a905d52eb1d3a83a",
       "version_major": 2,
       "version_minor": 0
      },
      "text/plain": [
       "  0%|          | 0/1 [00:00<?, ?it/s]"
      ]
     },
     "metadata": {},
     "output_type": "display_data"
    },
    {
     "name": "stdout",
     "output_type": "stream",
     "text": [
      "{'eval_loss': 0.5325445532798767, 'eval_accuracy': 0.7073170731707317, 'eval_f1': 0.76, 'eval_precision': 0.6129032258064516, 'eval_recall': 1.0, 'eval_runtime': 5.2054, 'eval_samples_per_second': 7.876, 'eval_steps_per_second': 0.192, 'epoch': 4.0}\n",
      "\n",
      "================================================================================\n",
      "[Epoch 4] Confusion Matrix (New best)\n",
      "================================================================================\n",
      "Confusion Matrix:\n",
      "              Predicted\n",
      "           Real    Fake\n",
      "Real   [[  10      12]]\n",
      "Fake   [[   0      19]]\n",
      "\n",
      "Per-Class Metrics:\n",
      "  Real: Precision=1.000, Recall=0.455\n",
      "  Fake: Precision=0.613, Recall=1.000\n",
      "\n",
      "Overall Metrics:\n",
      "  Accuracy:  0.7073\n",
      "  F1:        0.7600\n",
      "  Precision: 0.6129\n",
      "  Recall:    1.0000\n",
      "  Loss:      0.5325\n",
      "\n",
      "Best So Far: Epoch 4, F1=0.7600\n",
      "================================================================================\n",
      "\n"
     ]
    },
    {
     "data": {
      "application/vnd.jupyter.widget-view+json": {
       "model_id": "3bdcd9f5e7894b0db6458e5b6374093a",
       "version_major": 2,
       "version_minor": 0
      },
      "text/plain": [
       "  0%|          | 0/1 [00:00<?, ?it/s]"
      ]
     },
     "metadata": {},
     "output_type": "display_data"
    },
    {
     "name": "stdout",
     "output_type": "stream",
     "text": [
      "{'eval_loss': 0.43350228667259216, 'eval_accuracy': 0.7804878048780488, 'eval_f1': 0.8085106382978723, 'eval_precision': 0.6785714285714286, 'eval_recall': 1.0, 'eval_runtime': 4.3695, 'eval_samples_per_second': 9.383, 'eval_steps_per_second': 0.229, 'epoch': 5.0}\n",
      "\n",
      "================================================================================\n",
      "[Epoch 5] Confusion Matrix (New best)\n",
      "================================================================================\n",
      "Confusion Matrix:\n",
      "              Predicted\n",
      "           Real    Fake\n",
      "Real   [[  13       9]]\n",
      "Fake   [[   0      19]]\n",
      "\n",
      "Per-Class Metrics:\n",
      "  Real: Precision=1.000, Recall=0.591\n",
      "  Fake: Precision=0.679, Recall=1.000\n",
      "\n",
      "Overall Metrics:\n",
      "  Accuracy:  0.7805\n",
      "  F1:        0.8085\n",
      "  Precision: 0.6786\n",
      "  Recall:    1.0000\n",
      "  Loss:      0.4335\n",
      "\n",
      "Best So Far: Epoch 5, F1=0.8085\n",
      "================================================================================\n",
      "\n"
     ]
    },
    {
     "data": {
      "application/vnd.jupyter.widget-view+json": {
       "model_id": "e10a2f5db3af4c3796e68d066ba81b5d",
       "version_major": 2,
       "version_minor": 0
      },
      "text/plain": [
       "  0%|          | 0/1 [00:00<?, ?it/s]"
      ]
     },
     "metadata": {},
     "output_type": "display_data"
    },
    {
     "name": "stdout",
     "output_type": "stream",
     "text": [
      "{'eval_loss': 0.3556208312511444, 'eval_accuracy': 0.8536585365853658, 'eval_f1': 0.85, 'eval_precision': 0.8095238095238095, 'eval_recall': 0.8947368421052632, 'eval_runtime': 4.4398, 'eval_samples_per_second': 9.235, 'eval_steps_per_second': 0.225, 'epoch': 6.0}\n",
      "\n",
      "================================================================================\n",
      "[Epoch 6] Confusion Matrix (New best)\n",
      "================================================================================\n",
      "Confusion Matrix:\n",
      "              Predicted\n",
      "           Real    Fake\n",
      "Real   [[  18       4]]\n",
      "Fake   [[   2      17]]\n",
      "\n",
      "Per-Class Metrics:\n",
      "  Real: Precision=0.900, Recall=0.818\n",
      "  Fake: Precision=0.810, Recall=0.895\n",
      "\n",
      "Overall Metrics:\n",
      "  Accuracy:  0.8537\n",
      "  F1:        0.8500\n",
      "  Precision: 0.8095\n",
      "  Recall:    0.8947\n",
      "  Loss:      0.3556\n",
      "\n",
      "Best So Far: Epoch 6, F1=0.8500\n",
      "================================================================================\n",
      "\n"
     ]
    },
    {
     "data": {
      "application/vnd.jupyter.widget-view+json": {
       "model_id": "d8f56bc3885a4a149bd8cf7ab88708c6",
       "version_major": 2,
       "version_minor": 0
      },
      "text/plain": [
       "  0%|          | 0/1 [00:00<?, ?it/s]"
      ]
     },
     "metadata": {},
     "output_type": "display_data"
    },
    {
     "name": "stdout",
     "output_type": "stream",
     "text": [
      "{'eval_loss': 0.32451996207237244, 'eval_accuracy': 0.8780487804878049, 'eval_f1': 0.8717948717948718, 'eval_precision': 0.85, 'eval_recall': 0.8947368421052632, 'eval_runtime': 4.0219, 'eval_samples_per_second': 10.194, 'eval_steps_per_second': 0.249, 'epoch': 7.0}\n",
      "\n",
      "================================================================================\n",
      "[Epoch 7] Confusion Matrix (New best)\n",
      "================================================================================\n",
      "Confusion Matrix:\n",
      "              Predicted\n",
      "           Real    Fake\n",
      "Real   [[  19       3]]\n",
      "Fake   [[   2      17]]\n",
      "\n",
      "Per-Class Metrics:\n",
      "  Real: Precision=0.905, Recall=0.864\n",
      "  Fake: Precision=0.850, Recall=0.895\n",
      "\n",
      "Overall Metrics:\n",
      "  Accuracy:  0.8780\n",
      "  F1:        0.8718\n",
      "  Precision: 0.8500\n",
      "  Recall:    0.8947\n",
      "  Loss:      0.3245\n",
      "\n",
      "Best So Far: Epoch 7, F1=0.8718\n",
      "================================================================================\n",
      "\n",
      "{'loss': 0.3846, 'grad_norm': 3.981729030609131, 'learning_rate': 1e-05, 'epoch': 7.14}\n"
     ]
    },
    {
     "data": {
      "application/vnd.jupyter.widget-view+json": {
       "model_id": "c1b9a42028064e17b748e12e43666772",
       "version_major": 2,
       "version_minor": 0
      },
      "text/plain": [
       "  0%|          | 0/1 [00:00<?, ?it/s]"
      ]
     },
     "metadata": {},
     "output_type": "display_data"
    },
    {
     "name": "stdout",
     "output_type": "stream",
     "text": [
      "{'eval_loss': 0.30064627528190613, 'eval_accuracy': 0.8536585365853658, 'eval_f1': 0.8636363636363636, 'eval_precision': 0.76, 'eval_recall': 1.0, 'eval_runtime': 4.7301, 'eval_samples_per_second': 8.668, 'eval_steps_per_second': 0.211, 'epoch': 8.0}\n",
      "\n",
      "================================================================================\n",
      "[Epoch 8] Confusion Matrix\n",
      "================================================================================\n",
      "Confusion Matrix:\n",
      "              Predicted\n",
      "           Real    Fake\n",
      "Real   [[  16       6]]\n",
      "Fake   [[   0      19]]\n",
      "\n",
      "Per-Class Metrics:\n",
      "  Real: Precision=1.000, Recall=0.727\n",
      "  Fake: Precision=0.760, Recall=1.000\n",
      "\n",
      "Overall Metrics:\n",
      "  Accuracy:  0.8537\n",
      "  F1:        0.8636\n",
      "  Precision: 0.7600\n",
      "  Recall:    1.0000\n",
      "  Loss:      0.3006\n",
      "\n",
      "Best So Far: Epoch 7, F1=0.8718\n",
      "================================================================================\n",
      "\n"
     ]
    },
    {
     "data": {
      "application/vnd.jupyter.widget-view+json": {
       "model_id": "1b29284ffc7c4a9d86fcf767fc9443ff",
       "version_major": 2,
       "version_minor": 0
      },
      "text/plain": [
       "  0%|          | 0/1 [00:00<?, ?it/s]"
      ]
     },
     "metadata": {},
     "output_type": "display_data"
    },
    {
     "name": "stdout",
     "output_type": "stream",
     "text": [
      "{'eval_loss': 0.3250519037246704, 'eval_accuracy': 0.8780487804878049, 'eval_f1': 0.8717948717948718, 'eval_precision': 0.85, 'eval_recall': 0.8947368421052632, 'eval_runtime': 4.4562, 'eval_samples_per_second': 9.201, 'eval_steps_per_second': 0.224, 'epoch': 9.0}\n",
      "\n",
      "================================================================================\n",
      "[Epoch 9] Confusion Matrix\n",
      "================================================================================\n",
      "Confusion Matrix:\n",
      "              Predicted\n",
      "           Real    Fake\n",
      "Real   [[  19       3]]\n",
      "Fake   [[   2      17]]\n",
      "\n",
      "Per-Class Metrics:\n",
      "  Real: Precision=0.905, Recall=0.864\n",
      "  Fake: Precision=0.850, Recall=0.895\n",
      "\n",
      "Overall Metrics:\n",
      "  Accuracy:  0.8780\n",
      "  F1:        0.8718\n",
      "  Precision: 0.8500\n",
      "  Recall:    0.8947\n",
      "  Loss:      0.3251\n",
      "\n",
      "Best So Far: Epoch 7, F1=0.8718\n",
      "================================================================================\n",
      "\n"
     ]
    },
    {
     "data": {
      "application/vnd.jupyter.widget-view+json": {
       "model_id": "2f2049d68ee54958b2a5903e52865585",
       "version_major": 2,
       "version_minor": 0
      },
      "text/plain": [
       "  0%|          | 0/1 [00:00<?, ?it/s]"
      ]
     },
     "metadata": {},
     "output_type": "display_data"
    },
    {
     "name": "stdout",
     "output_type": "stream",
     "text": [
      "{'eval_loss': 0.5848348140716553, 'eval_accuracy': 0.8536585365853658, 'eval_f1': 0.8235294117647058, 'eval_precision': 0.9333333333333333, 'eval_recall': 0.7368421052631579, 'eval_runtime': 3.8268, 'eval_samples_per_second': 10.714, 'eval_steps_per_second': 0.261, 'epoch': 10.0}\n",
      "\n",
      "================================================================================\n",
      "[Epoch 10] Confusion Matrix\n",
      "================================================================================\n",
      "Confusion Matrix:\n",
      "              Predicted\n",
      "           Real    Fake\n",
      "Real   [[  21       1]]\n",
      "Fake   [[   5      14]]\n",
      "\n",
      "Per-Class Metrics:\n",
      "  Real: Precision=0.808, Recall=0.955\n",
      "  Fake: Precision=0.933, Recall=0.737\n",
      "\n",
      "Overall Metrics:\n",
      "  Accuracy:  0.8537\n",
      "  F1:        0.8235\n",
      "  Precision: 0.9333\n",
      "  Recall:    0.7368\n",
      "  Loss:      0.5848\n",
      "\n",
      "Best So Far: Epoch 7, F1=0.8718\n",
      "================================================================================\n",
      "\n",
      "{'train_runtime': 319.056, 'train_samples_per_second': 13.289, 'train_steps_per_second': 0.878, 'train_loss': 0.44127853257315497, 'epoch': 10.0}\n",
      "\n",
      "================================================================================\n",
      "TRAINING COMPLETE\n",
      "================================================================================\n",
      "Best Epoch: 7\n",
      "Best F1: 0.8718\n",
      "Best checkpoint: /Users/photoli93/Desktop/Projets perso Python/esa_fake_or_real/results/distilbert_fake_or_real/checkpoint-98\n",
      "Checkpoint verified on disk\n",
      "\n",
      "Verifying loaded model\n"
     ]
    },
    {
     "data": {
      "application/vnd.jupyter.widget-view+json": {
       "model_id": "abc1da3e0be24373b30ed7adb98f5bb8",
       "version_major": 2,
       "version_minor": 0
      },
      "text/plain": [
       "  0%|          | 0/1 [00:00<?, ?it/s]"
      ]
     },
     "metadata": {},
     "output_type": "display_data"
    },
    {
     "name": "stdout",
     "output_type": "stream",
     "text": [
      "Final Model F1: 0.8718\n",
      "Expected Best F1: 0.8718\n",
      "Correct: Best model was loaded\n",
      "================================================================================\n",
      "\n",
      "--------------------------------------------------------------------------------\n",
      "\n",
      "Final trainer state\n",
      "Best checkpoint: /Users/photoli93/Desktop/Projets perso Python/esa_fake_or_real/results/distilbert_fake_or_real/checkpoint-98\n",
      "Best metric value (eval_f1): 0.8717948717948718\n",
      "--------------------------------------------------------------------------------\n"
     ]
    },
    {
     "data": {
      "application/vnd.jupyter.widget-view+json": {
       "model_id": "d10a6310ba4f4e279961d74745d5a31d",
       "version_major": 2,
       "version_minor": 0
      },
      "text/plain": [
       "  0%|          | 0/1 [00:00<?, ?it/s]"
      ]
     },
     "metadata": {},
     "output_type": "display_data"
    },
    {
     "name": "stdout",
     "output_type": "stream",
     "text": [
      "\n",
      "================================================================================\n",
      "[Epoch 10] Confusion Matrix\n",
      "================================================================================\n",
      "Confusion Matrix:\n",
      "              Predicted\n",
      "           Real    Fake\n",
      "Real   [[  19       3]]\n",
      "Fake   [[   2      17]]\n",
      "\n",
      "Per-Class Metrics:\n",
      "  Real: Precision=0.905, Recall=0.864\n",
      "  Fake: Precision=0.850, Recall=0.895\n",
      "\n",
      "Overall Metrics:\n",
      "  Accuracy:  0.8780\n",
      "  F1:        0.8718\n",
      "  Precision: 0.8500\n",
      "  Recall:    0.8947\n",
      "  Loss:      0.3245\n",
      "\n",
      "Best So Far: Epoch 7, F1=0.8718\n",
      "================================================================================\n",
      "\n",
      "Final model and tokenizer saved to: /Users/photoli93/Desktop/Projets perso Python/esa_fake_or_real/results/distilbert_fake_or_real/final_model\n"
     ]
    }
   ],
   "source": [
    "# Cross-validation settings\n",
    "k = 4\n",
    "kf = KFold(n_splits=k, shuffle=True, random_state=42)\n",
    "\n",
    "all_fold_metrics = []\n",
    "\n",
    "for fold, (train_idx, val_idx) in enumerate(kf.split(train_dataset)):\n",
    "    print(\"-\" * 80)\n",
    "    print(f\"\\nFold {fold+1}/{k}\")\n",
    "    print(\"-\" * 80)\n",
    "    \n",
    "    # Subsets for this fold\n",
    "    train_fold = torch.utils.data.Subset(train_dataset, train_idx)\n",
    "    val_fold = torch.utils.data.Subset(train_dataset, val_idx)\n",
    "    \n",
    "    # Load pre-trained model\n",
    "    model_fold = AutoModelForSequenceClassification.from_pretrained(\n",
    "        \"distilbert-base-uncased\",\n",
    "        num_labels=2\n",
    "    )\n",
    "    \n",
    "    # Callback for the confusion matrix\n",
    "    cm_callback_fold = ConfusionMatrixCallback()\n",
    "    \n",
    "    # Init trainer for this fold\n",
    "    trainer_fold = WeightedTrainer(\n",
    "        model=model_fold,\n",
    "        args=training_args,\n",
    "        train_dataset=train_fold,\n",
    "        eval_dataset=val_fold,\n",
    "        compute_metrics=compute_metrics,\n",
    "        callbacks=[EarlyStoppingCallback(early_stopping_patience=3),\n",
    "                   cm_callback_fold]\n",
    "    )\n",
    "    \n",
    "    cm_callback_fold.set_trainer(trainer_fold)\n",
    "    \n",
    "    # Training\n",
    "    trainer_fold.train()\n",
    "\n",
    "    # Print fold state for clarity\n",
    "    print(\"-\" * 80)\n",
    "    print(\"\\nFold trainer state\")\n",
    "    print(f\"Best checkpoint: {trainer_fold.state.best_model_checkpoint}\")\n",
    "    print(f\"Best metric value ({training_args.metric_for_best_model}): {trainer_fold.state.best_metric}\")\n",
    "    print(\"-\" * 80)\n",
    "\n",
    "    # Save best model of this fold (will save the reloaded best model)\n",
    "    fold_model_path = OUTPUT_DIR / f\"fold_{fold+1}\"\n",
    "    trainer_fold.save_model(str(fold_model_path))\n",
    "    \n",
    "    # Evaluation (will use the reloaded best model weights)\n",
    "    metrics = trainer_fold.evaluate()\n",
    "    all_fold_metrics.append(metrics)\n",
    "    print(f\"Fold {fold+1} evaluation (Best model metrics)\")\n",
    "    print(metrics)\n",
    "\n",
    "    # Memory cleaning\n",
    "    del model_fold, trainer_fold\n",
    "    torch.mps.empty_cache()\n",
    "\n",
    "# Average metrics on all the folds\n",
    "avg_metrics = {k: np.mean([m[k] for m in all_fold_metrics if k in m]) for k in all_fold_metrics[0]}\n",
    "print(\"\\nCross-validation summary\")\n",
    "print(avg_metrics)\n",
    "\n",
    "# Final training on full dataset\n",
    "print(\"\\nFinal training on full dataset\")\n",
    "\n",
    "final_model = AutoModelForSequenceClassification.from_pretrained(\n",
    "    \"distilbert-base-uncased\",\n",
    "    num_labels=2\n",
    ")\n",
    "\n",
    "cm_callback_final = ConfusionMatrixCallback()\n",
    "final_trainer = WeightedTrainer(\n",
    "    model=final_model,\n",
    "    args=training_args,\n",
    "    train_dataset=train_dataset,\n",
    "    eval_dataset=val_dataset,\n",
    "    compute_metrics=compute_metrics,\n",
    "    callbacks=[EarlyStoppingCallback(early_stopping_patience=3),\n",
    "               cm_callback_final]\n",
    ")\n",
    "cm_callback_final.set_trainer(final_trainer)\n",
    "\n",
    "print(\"\\nStarting final training on full training dataset\")\n",
    "final_trainer.train()\n",
    "\n",
    "# The best model is automatically loaded into the trainer's model attribute\n",
    "# because load_best_model_at_end=True was set in TrainingArguments.\n",
    "# We save the model that is currently loaded in the trainer.\n",
    "\n",
    "# Print final state for clarity\n",
    "print(\"-\" * 80)\n",
    "print(\"\\nFinal trainer state\")\n",
    "print(f\"Best checkpoint: {final_trainer.state.best_model_checkpoint}\")\n",
    "print(f\"Best metric value ({training_args.metric_for_best_model}): {final_trainer.state.best_metric}\")\n",
    "print(\"-\" * 80)\n",
    "\n",
    "# Final evaluation (will use the reloaded best model weights)\n",
    "final_metrics = final_trainer.evaluate()\n",
    "\n",
    "# Final save (will save the reloaded best model)\n",
    "final_model_path = OUTPUT_DIR / \"final_model\"\n",
    "final_trainer.save_model(str(final_model_path))\n",
    "tokenizer.save_pretrained(str(final_model_path))\n",
    "print(f\"Final model and tokenizer saved to: {final_model_path}\")\n"
   ]
  },
  {
   "cell_type": "markdown",
   "id": "52639abd",
   "metadata": {},
   "source": [
    "## Observations\n",
    "### 1. Cross-Validation Summary\n",
    "The cross-validation results show a pretty good degree of variability in the model's performance across the first 3 folds but vary more across the last fold. This might suggests that the model's performance is sensitive to the specific data split\n",
    "\n",
    "| Fold   | Best Epoch | Best eval_f1 | Best Checkpoint |\n",
    "| ------ | ---------- | ------------ | --------------- |\n",
    "| Fold 1 | 8          | 0.8095       | checkpoint-80   |\n",
    "| Fold 2 | 8          | 0.8444       | checkpoint-80   |\n",
    "| Fold 3 | 4          | 0.8636       | checkpoint-40   |\n",
    "| Fold 4 | 4          | 0.6809       | checkpoint-40   |\n",
    "\n",
    "<ins>NB:</ins> The average F1-score is approximately 0.7996\n",
    "\n",
    "### 2. Final Training on Full Dataset\n",
    "The final training run on the full dataset shows a strong result which aligns with the better-performing folds (folds 2 and 3)\n",
    "\n",
    "| Epoch | `eval_f1` (Best metric) | `eval_accuracy` | `eval_loss`  | Best so far |\n",
    "| ----- | --------------------- | ------------- | ---------- | ----------- |\n",
    "| 1     | 0.0000                | 0.5366        | 0.7050     | Yes       |\n",
    "| 2     | 0.6500                | 0.6585        | 0.6804     | Yes       |\n",
    "| 5     | 0.8085                | 0.7805        | 0.4335     | Yes       |\n",
    "| 6     | 0.8500                | 0.8537        | 0.3556     | Yes       |\n",
    "| 7     | **0.8718**            | **0.8780**    | **0.3245** | Yes       |\n",
    "| 8     | 0.8636                | 0.8537        | 0.3006     | No        |\n",
    "| 9     | 0.8718                | 0.8780        | 0.3251     | No        |\n",
    "| 10    | 0.8235                | 0.8537        | 0.5848     | No        |\n",
    "\n",
    "<ins>Best Performance:</ins> The model achieved its peak F1-score of 0.8718 at Epoch 7.\n",
    "The early stopping makes training terminated after the evaluation of Epoch 10 due to the `early_stopping_patience=3`\n",
    "\n",
    "<ins>Final saved model:</ins> The final model saved to `/final_model` is confirmed to be the one from Epoch 7 (**checkpoint-98**), with an F1-score of 0.8718\n",
    "\n",
    "### 3. Class-Specific Performance (Best Model - Epoch 7)\n",
    "The confusion matrix for the final best model (Epoch 7) shows excellent and balanced performance :\n",
    "|                 | **Predicted Real** | **Predicted Fake** | **Recall (TPR)**    |\n",
    "| --------------- | ------------------ | ------------------ | ------------------- |\n",
    "| **Actual Real** | 19 (True Negative) | 3 (False Positive) | 19 / 22 = **86.4%** |\n",
    "| **Actual Fake** | 2 (False Negative) | 17 (True Positive) | 17 / 19 = **89.5%** |\n",
    "\n",
    "The model correctly identifies 17 out of 19 actual Fake texts (Recall: 89.5%)\n",
    "\n",
    "When the model predicts a text is Real, it is correct 19 out of 21 times (Precision: 90.5%)\n",
    "\n",
    "## Conclusion\n",
    "The training run was successful and the final model is robust and well-performing on the validation set. It has strong performance with the final DistilBert model"
   ]
  },
  {
   "cell_type": "markdown",
   "id": "d3f3dcc7",
   "metadata": {},
   "source": [
    "# End of model training notebook"
   ]
  }
 ],
 "metadata": {
  "kernelspec": {
   "display_name": "esa_fake_or_real",
   "language": "python",
   "name": "python3"
  },
  "language_info": {
   "codemirror_mode": {
    "name": "ipython",
    "version": 3
   },
   "file_extension": ".py",
   "mimetype": "text/x-python",
   "name": "python",
   "nbconvert_exporter": "python",
   "pygments_lexer": "ipython3",
   "version": "3.11.13"
  }
 },
 "nbformat": 4,
 "nbformat_minor": 5
}
