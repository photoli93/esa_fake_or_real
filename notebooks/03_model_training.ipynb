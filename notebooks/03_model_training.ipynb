{
 "cells": [
  {
   "cell_type": "markdown",
   "id": "13512718",
   "metadata": {},
   "source": [
    "# ESA Project: Fake or Real: The Impostor Hunt in Texts\n",
    "\n",
    "This notebook is dedicated to **model training**.  \n",
    "It covers:\n",
    "\n",
    "- Load the pre-tokenized and saved PyTorch datasets (`tokenized_train.pt` and `tokenized_val.pt`) created in the data creation step.\n",
    "- Instantiate the pre-trained **DistilBertForSequenceClassification** model, configured for a binary classification task (Real or fake).\n",
    "- Define the **TrainingArguments** for the Hugging Face Trainer, including hyperparameters such as batch size, learning rate, number of epochs, and logging settings.\n",
    "- Implemente a function to compute and track key performance metrics on the validation set including **Accuracy, Precision, Recall and F1-score**.\n",
    "- Executing the training loop using the Hugging Face **Trainer** class which manages the entire process including checkpointing and model saving.\n",
    "- Save the best-performing model and its tokenizer to disk for later use in inference and deployment."
   ]
  },
  {
   "cell_type": "markdown",
   "id": "6c9bd6ac",
   "metadata": {},
   "source": [
    "# Import librairies"
   ]
  },
  {
   "cell_type": "code",
   "execution_count": null,
   "id": "baa06c56",
   "metadata": {},
   "outputs": [
    {
     "name": "stderr",
     "output_type": "stream",
     "text": [
      "[nltk_data] Downloading package stopwords to\n",
      "[nltk_data]     /Users/photoli93/nltk_data...\n",
      "[nltk_data]   Package stopwords is already up-to-date!\n"
     ]
    }
   ],
   "source": [
    "import pandas as pd\n",
    "import numpy as np\n",
    "from pathlib import Path\n",
    "import matplotlib.pyplot as plt\n",
    "import seaborn as sns\n",
    "import re\n",
    "\n",
    "import torch\n",
    "from torch.nn import CrossEntropyLoss\n",
    "from transformers import DistilBertForSequenceClassification, Trainer, TrainingArguments, AutoTokenizer\n",
    "\n",
    "import os\n",
    "import sys\n",
    "\n",
    "# Add the src folder to Python path\n",
    "sys.path.append(os.path.abspath(os.path.join('..', 'src')))\n",
    "import config\n",
    "from preprocessing import TextPreprocessor, get_text_statistics\n",
    "\n",
    "import warnings\n",
    "warnings.filterwarnings(\"ignore\")\n",
    "\n",
    "sns.set_theme()"
   ]
  },
  {
   "cell_type": "markdown",
   "id": "a7efcd26",
   "metadata": {},
   "source": [
    "# Create Custom Dataset Class"
   ]
  },
  {
   "cell_type": "code",
   "execution_count": 2,
   "id": "dd7a463e",
   "metadata": {},
   "outputs": [],
   "source": [
    "class TextPairDataset(torch.utils.data.Dataset):\n",
    "    def __init__(self, encodings, labels):\n",
    "        self.encodings = encodings\n",
    "        self.labels = labels\n",
    "\n",
    "    def __getitem__(self, idx):\n",
    "        item = {key: torch.tensor(val[idx]) for key, val in self.encodings.items()}\n",
    "        item['labels'] = torch.tensor(self.labels[idx], dtype=torch.long)\n",
    "        return item\n",
    "\n",
    "    def __len__(self):\n",
    "        return len(self.labels)"
   ]
  },
  {
   "cell_type": "markdown",
   "id": "39bc9056",
   "metadata": {},
   "source": [
    "# Load tokenized datasets"
   ]
  },
  {
   "cell_type": "code",
   "execution_count": 3,
   "id": "9e8229e1",
   "metadata": {},
   "outputs": [
    {
     "name": "stdout",
     "output_type": "stream",
     "text": [
      "Loading tokenized training data from: /Users/photoli93/Desktop/Projets perso Python/esa_fake_or_real/data/processed/tokenized_train.pt\n",
      "Training dataset size: 212\n",
      "Validation dataset size: 41\n"
     ]
    }
   ],
   "source": [
    "TOKENIZED_TRAIN_PATH = config.PROCESSED_DATA_DIR / \"tokenized_train.pt\"\n",
    "TOKENIZED_VAL_PATH = config.PROCESSED_DATA_DIR / \"tokenized_val.pt\"\n",
    "\n",
    "OUTPUT_DIR = config.OUTPUT_DIR / \"distilbert_fake_or_real\"\n",
    "OUTPUT_DIR.mkdir(parents=True, exist_ok=True)\n",
    "\n",
    "# Load tokenized datasets\n",
    "print(f\"Loading tokenized training data from: {TOKENIZED_TRAIN_PATH}\")\n",
    "try:\n",
    "    train_dataset = torch.load(TOKENIZED_TRAIN_PATH, weights_only=False)\n",
    "    val_dataset = torch.load(TOKENIZED_VAL_PATH, weights_only=False)\n",
    "except FileNotFoundError:\n",
    "    print(\"Error: Tokenized data not found. Please ensure 03_dataset_creation.py (or your data creation notebook) was run successfully\")\n",
    "    sys.exit(1)\n",
    "\n",
    "print(f\"Training dataset size: {len(train_dataset)}\")\n",
    "print(f\"Validation dataset size: {len(val_dataset)}\")"
   ]
  },
  {
   "cell_type": "markdown",
   "id": "ccb8614a",
   "metadata": {},
   "source": [
    "# Load model and tokenizer"
   ]
  },
  {
   "cell_type": "code",
   "execution_count": 4,
   "id": "af0973e1",
   "metadata": {},
   "outputs": [
    {
     "name": "stdout",
     "output_type": "stream",
     "text": [
      "Loading model: distilbert-base-uncased for Sequence Classification\n"
     ]
    },
    {
     "name": "stderr",
     "output_type": "stream",
     "text": [
      "Some weights of DistilBertForSequenceClassification were not initialized from the model checkpoint at distilbert-base-uncased and are newly initialized: ['classifier.bias', 'classifier.weight', 'pre_classifier.bias', 'pre_classifier.weight']\n",
      "You should probably TRAIN this model on a down-stream task to be able to use it for predictions and inference.\n"
     ]
    }
   ],
   "source": [
    "# Load the model for sequence classification with 2 labels (Real/Fake)\n",
    "print(f\"Loading model: {config.TOKENIZER_NAME} for Sequence Classification\")\n",
    "model = DistilBertForSequenceClassification.from_pretrained(\n",
    "    config.TOKENIZER_NAME, \n",
    "    num_labels=2\n",
    ")\n",
    "\n",
    "# Might need the tokenizer later for prediction/evaluation\n",
    "tokenizer = AutoTokenizer.from_pretrained(config.TOKENIZER_NAME)"
   ]
  },
  {
   "cell_type": "markdown",
   "id": "334fbd66",
   "metadata": {},
   "source": [
    "# Define parameters and metrics"
   ]
  },
  {
   "cell_type": "code",
   "execution_count": 5,
   "id": "44483856",
   "metadata": {},
   "outputs": [],
   "source": [
    "# Training configuration\n",
    "training_args = TrainingArguments(\n",
    "    output_dir=str(OUTPUT_DIR),          \n",
    "    num_train_epochs=3,                  \n",
    "    per_device_train_batch_size=16,      \n",
    "    per_device_eval_batch_size=64,       \n",
    "    warmup_steps=500,                    # Nb of steps during which the learning rate increases learning\n",
    "    weight_decay=0.01,                   # Regularization term to reduce overfitting by penalizing large weights\n",
    "    logging_dir='./logs',                \n",
    "    logging_steps=50,                    # Log metrics every 50 training steps\n",
    "    evaluation_strategy=\"epoch\",         # Evaluate at the end of each epoch\n",
    "    save_strategy=\"epoch\",               # Save model checkpoint at the end of each epoch\n",
    "    load_best_model_at_end=True,         # Load the best model found during training\n",
    "    metric_for_best_model=\"eval_loss\",   # Metric to monitor for best model\n",
    "    fp16=True,                           # Use 16-bit precision for faster training\n",
    "    report_to=\"none\"                     # disables wandb, tensorboard, etc. (disabling sending logs online)\n",
    ")\n",
    "\n",
    "# Define Evaluation Metric\n",
    "try:\n",
    "    from sklearn.metrics import accuracy_score, precision_recall_fscore_support\n",
    "    \n",
    "    # p is an object passed by the Hugging Face Trainer. It contains \"predictions\" and \"label_ids\"\n",
    "    def compute_metrics(p):\n",
    "        preds = np.argmax(p.predictions, axis=1)\n",
    "        precision, recall, f1, _ = precision_recall_fscore_support(p.label_ids, preds, average='binary')\n",
    "        acc = accuracy_score(p.label_ids, preds)\n",
    "        return {\n",
    "            'accuracy': acc,\n",
    "            'f1': f1,\n",
    "            'precision': precision,\n",
    "            'recall': recall\n",
    "        }\n",
    "except ImportError:\n",
    "    print(\"Warning: scikit-learn not found. Install with 'pip install scikit-learn' to use advanced metrics\")\n",
    "    def compute_metrics(p):\n",
    "        return {}"
   ]
  },
  {
   "cell_type": "markdown",
   "id": "28240220",
   "metadata": {},
   "source": [
    "# Custom Loss function\n",
    "\n",
    "By exploding chunks, it has added unbalance in train dataset (138 for class 0 and 74 for class 1) so custom loss function has to be defined in order to add weights on classes"
   ]
  },
  {
   "cell_type": "code",
   "execution_count": 16,
   "id": "8fb74d1f",
   "metadata": {},
   "outputs": [
    {
     "name": "stdout",
     "output_type": "stream",
     "text": [
      "label\n",
      "0    138\n",
      "1     74\n",
      "Name: count, dtype: int64\n",
      "tensor([0.3491, 0.6509])\n"
     ]
    }
   ],
   "source": [
    "train_df = pd.read_csv(config.PROCESSED_DATA_DIR / \"train_exploded.csv\")\n",
    "\n",
    "# Count of each class\n",
    "counts = train_df['label'].value_counts().sort_index()\n",
    "print(counts)\n",
    "\n",
    "# Dynamic class weights (inverse frequency)\n",
    "weights = 1.0 / counts\n",
    "weights = weights / weights.sum()  # Normalize\n",
    "weights = torch.tensor(weights.values, dtype=torch.float)\n",
    "print(weights)\n",
    "\n",
    "# Override the default loss\n",
    "def compute_loss(model, inputs, return_outputs=False):\n",
    "    labels = inputs.pop(\"labels\")\n",
    "    outputs = model(**inputs)\n",
    "    logits = outputs.logits\n",
    "    loss_fct = CrossEntropyLoss(weight=weights.to(logits.device))\n",
    "    loss = loss_fct(logits, labels)\n",
    "    return (loss, outputs) if return_outputs else loss"
   ]
  },
  {
   "cell_type": "markdown",
   "id": "bddf8e25",
   "metadata": {},
   "source": [
    "# Training process"
   ]
  },
  {
   "cell_type": "code",
   "execution_count": 18,
   "id": "c1da8d29",
   "metadata": {},
   "outputs": [
    {
     "ename": "TypeError",
     "evalue": "Trainer.__init__() got an unexpected keyword argument 'compute_loss'",
     "output_type": "error",
     "traceback": [
      "\u001b[31m---------------------------------------------------------------------------\u001b[39m",
      "\u001b[31mTypeError\u001b[39m                                 Traceback (most recent call last)",
      "\u001b[36mCell\u001b[39m\u001b[36m \u001b[39m\u001b[32mIn[18]\u001b[39m\u001b[32m, line 2\u001b[39m\n\u001b[32m      1\u001b[39m \u001b[38;5;66;03m# Initialize the Trainer\u001b[39;00m\n\u001b[32m----> \u001b[39m\u001b[32m2\u001b[39m trainer = \u001b[43mTrainer\u001b[49m\u001b[43m(\u001b[49m\n\u001b[32m      3\u001b[39m \u001b[43m    \u001b[49m\u001b[43mmodel\u001b[49m\u001b[43m=\u001b[49m\u001b[43mmodel\u001b[49m\u001b[43m,\u001b[49m\u001b[43m                         \u001b[49m\u001b[38;5;66;43;03m# The instantiated Transformers model to be trained\u001b[39;49;00m\n\u001b[32m      4\u001b[39m \u001b[43m    \u001b[49m\u001b[43margs\u001b[49m\u001b[43m=\u001b[49m\u001b[43mtraining_args\u001b[49m\u001b[43m,\u001b[49m\u001b[43m                  \u001b[49m\u001b[38;5;66;43;03m# Training arguments, defined above\u001b[39;49;00m\n\u001b[32m      5\u001b[39m \u001b[43m    \u001b[49m\u001b[43mtrain_dataset\u001b[49m\u001b[43m=\u001b[49m\u001b[43mtrain_dataset\u001b[49m\u001b[43m,\u001b[49m\u001b[43m         \u001b[49m\u001b[38;5;66;43;03m# Training dataset\u001b[39;49;00m\n\u001b[32m      6\u001b[39m \u001b[43m    \u001b[49m\u001b[43meval_dataset\u001b[49m\u001b[43m=\u001b[49m\u001b[43mval_dataset\u001b[49m\u001b[43m,\u001b[49m\u001b[43m            \u001b[49m\u001b[38;5;66;43;03m# Evaluation dataset\u001b[39;49;00m\n\u001b[32m      7\u001b[39m \u001b[43m    \u001b[49m\u001b[43mcompute_metrics\u001b[49m\u001b[43m=\u001b[49m\u001b[43mcompute_metrics\u001b[49m\u001b[43m,\u001b[49m\u001b[43m     \u001b[49m\u001b[38;5;66;43;03m# Function to compute metrics\u001b[39;49;00m\n\u001b[32m      8\u001b[39m \u001b[43m    \u001b[49m\u001b[43mcompute_loss\u001b[49m\u001b[43m=\u001b[49m\u001b[43mcompute_loss\u001b[49m\u001b[43m             \u001b[49m\u001b[38;5;66;43;03m# Using custom loss to add weights on unbalanced class\u001b[39;49;00m\n\u001b[32m      9\u001b[39m \u001b[43m)\u001b[49m\n\u001b[32m     11\u001b[39m \u001b[38;5;66;03m# Start Training\u001b[39;00m\n\u001b[32m     12\u001b[39m \u001b[38;5;28mprint\u001b[39m(\u001b[33m\"\u001b[39m\u001b[38;5;130;01m\\n\u001b[39;00m\u001b[33mStarting training\u001b[39m\u001b[33m\"\u001b[39m)\n",
      "\u001b[31mTypeError\u001b[39m: Trainer.__init__() got an unexpected keyword argument 'compute_loss'"
     ]
    }
   ],
   "source": [
    "# Initialize the Trainer\n",
    "trainer = Trainer(\n",
    "    model=model,                         # The instantiated Transformers model to be trained\n",
    "    args=training_args,                  # Training arguments, defined above\n",
    "    train_dataset=train_dataset,         # Training dataset\n",
    "    eval_dataset=val_dataset,            # Evaluation dataset\n",
    "    compute_metrics=compute_metrics,     # Function to compute metrics\n",
    "    compute_loss=compute_loss             # Using custom loss to add weights on unbalanced class\n",
    ")\n",
    "\n",
    "# Start Training\n",
    "print(\"\\nStarting training\")\n",
    "trainer.train()\n",
    "print(\"Training complete!\")\n",
    "\n",
    "# Save Final Model\n",
    "final_model_path = OUTPUT_DIR / \"final_model\"\n",
    "trainer.save_model(str(final_model_path))\n",
    "tokenizer.save_pretrained(str(final_model_path))\n",
    "print(f\"Final model and tokenizer saved to: {final_model_path}\")\n",
    "\n",
    "# Final Evaluation\n",
    "print(\"\\nFinal evaluation on validation set:\")\n",
    "results = trainer.evaluate()\n",
    "print(results)\n",
    "\n",
    "print(\"\\nModel Training Complete\")"
   ]
  },
  {
   "cell_type": "markdown",
   "id": "d3f3dcc7",
   "metadata": {},
   "source": [
    "# End of model training notebook"
   ]
  }
 ],
 "metadata": {
  "kernelspec": {
   "display_name": "esa_fake_or_real",
   "language": "python",
   "name": "python3"
  },
  "language_info": {
   "codemirror_mode": {
    "name": "ipython",
    "version": 3
   },
   "file_extension": ".py",
   "mimetype": "text/x-python",
   "name": "python",
   "nbconvert_exporter": "python",
   "pygments_lexer": "ipython3",
   "version": "3.11.13"
  }
 },
 "nbformat": 4,
 "nbformat_minor": 5
}
