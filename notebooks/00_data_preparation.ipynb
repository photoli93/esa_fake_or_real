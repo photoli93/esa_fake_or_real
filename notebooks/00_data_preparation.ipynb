{
 "cells": [
  {
   "cell_type": "markdown",
   "id": "bccea841",
   "metadata": {},
   "source": [
    "# ESA Project: Fake or Real: The Impostor Hunt in Texts\n",
    "\n",
    "This notebook is dedicated to **data preparation**.  \n",
    "It covers:\n",
    "\n",
    "- Loading the raw metadata (`train.csv`) and text files for each article.  \n",
    "- Cleaning and organizing the dataset.  \n",
    "- Splitting the data into training and validation sets by `id`.  \n",
    "- Saving the processed datasets for downstream modeling."
   ]
  },
  {
   "cell_type": "markdown",
   "id": "a4fe4a91",
   "metadata": {},
   "source": [
    "## Import librairies"
   ]
  },
  {
   "cell_type": "code",
   "execution_count": 1,
   "id": "2af89849",
   "metadata": {},
   "outputs": [],
   "source": [
    "import pandas as pd\n",
    "from pathlib import Path\n",
    "from sklearn.model_selection import train_test_split\n",
    "import sys\n",
    "import os\n",
    "\n",
    "# Add the src folder to Python path\n",
    "sys.path.append(os.path.abspath(os.path.join('..', 'src')))\n",
    "import config"
   ]
  },
  {
   "cell_type": "markdown",
   "id": "d20d5bbc",
   "metadata": {},
   "source": [
    "## Data Preparation"
   ]
  },
  {
   "cell_type": "code",
   "execution_count": 2,
   "id": "41c9fed5",
   "metadata": {},
   "outputs": [
    {
     "name": "stdout",
     "output_type": "stream",
     "text": [
      "Train shape: (74, 4)\n",
      "Validation shape: (19, 4)\n",
      "Train label distribution:\n",
      " real_text_id\n",
      "2    38\n",
      "1    36\n",
      "Name: count, dtype: int64\n",
      "Validation label distribution:\n",
      " real_text_id\n",
      "2    10\n",
      "1     9\n",
      "Name: count, dtype: int64\n",
      "Processed train/validation sets saved in data/processed/\n"
     ]
    }
   ],
   "source": [
    "# DATA_PATH = Path(\"../data/raw\")\n",
    "TRAIN_CSV = config.RAW_DATA_DIR / \"train.csv\"\n",
    "TRAIN_FOLDER = config.RAW_DATA_DIR / \"train\"\n",
    "\n",
    "train_csv = pd.read_csv(TRAIN_CSV)\n",
    "\n",
    "def load_text_files(article_id):\n",
    "    # article_id is the value in the 'id' column\n",
    "    article_folder = TRAIN_FOLDER / f\"article_{int(article_id):04d}\"\n",
    "    file1 = (article_folder / \"file_1.txt\").read_text(encoding=\"utf-8\")\n",
    "    file2 = (article_folder / \"file_2.txt\").read_text(encoding=\"utf-8\")\n",
    "    return file1, file2\n",
    "\n",
    "train_csv['file1_text'], train_csv['file2_text'] = zip(*train_csv['id'].apply(load_text_files))\n",
    "\n",
    "# No text in file1 [index=14] and file2 [index=10] (double checked on the Kaggle website)\n",
    "train_csv = train_csv[(train_csv['file1_text'].str.strip() != '') &\n",
    "                      (train_csv['file2_text'].str.strip() != '')].reset_index(drop=True)\n",
    "\n",
    "train_df, val_df = train_test_split(\n",
    "    train_csv,\n",
    "    test_size=0.2,\n",
    "    stratify=train_csv['real_text_id'],  # ensures balanced labels\n",
    "    random_state=42\n",
    ")\n",
    "\n",
    "# Quick check\n",
    "print(\"Train shape:\", train_df.shape)\n",
    "print(\"Validation shape:\", val_df.shape)\n",
    "print(\"Train label distribution:\\n\", train_df['real_text_id'].value_counts())\n",
    "print(\"Validation label distribution:\\n\", val_df['real_text_id'].value_counts())\n",
    "\n",
    "# Save processed csv files\n",
    "PROCESSED_PATH = Path(\"../data/processed\")\n",
    "PROCESSED_PATH.mkdir(exist_ok=True, parents=True)\n",
    "train_df.to_csv(PROCESSED_PATH / \"train_cleaned.csv\", index=False)\n",
    "val_df.to_csv(PROCESSED_PATH / \"val_cleaned.csv\", index=False)\n",
    "\n",
    "print(\"Processed train/validation sets saved in data/processed/\")"
   ]
  },
  {
   "cell_type": "markdown",
   "id": "a7670107",
   "metadata": {},
   "source": [
    "# End of Data Preparation notebook"
   ]
  }
 ],
 "metadata": {
  "kernelspec": {
   "display_name": "esa_fake_or_real",
   "language": "python",
   "name": "python3"
  },
  "language_info": {
   "codemirror_mode": {
    "name": "ipython",
    "version": 3
   },
   "file_extension": ".py",
   "mimetype": "text/x-python",
   "name": "python",
   "nbconvert_exporter": "python",
   "pygments_lexer": "ipython3",
   "version": "3.11.13"
  }
 },
 "nbformat": 4,
 "nbformat_minor": 5
}
